{
 "cells": [
  {
   "cell_type": "code",
   "execution_count": 1,
   "metadata": {},
   "outputs": [],
   "source": [
    "import pandas as pd\n",
    "import numpy as np\n",
    "import matplotlib.pyplot as plt\n",
    "import seaborn as sns"
   ]
  },
  {
   "cell_type": "markdown",
   "metadata": {},
   "source": [
    "# Day1"
   ]
  },
  {
   "cell_type": "markdown",
   "metadata": {},
   "source": [
    "### EDA End to End\n",
    "\n",
    "1. Problem Statement - Defines the pain area of the business and theb probable factors and the probable factors driving it.\n",
    "\n",
    "2. Hypothesis Formation -\n",
    "\n",
    "3. Univariate analysis - \n",
    "* Numerical Columns - histogram/distplot, boxplot\n",
    "* Categorical Variables - piechart,countplot,frequency plot\n",
    "\n",
    "4. Bivariate Analysis - Analysis more than 1 columns.\n",
    "\n",
    "* Num vs Num - Scatter plot\n",
    "* Cat vs Num - Boxplot, Violin plot\n",
    "* cat vs cat - contigency table\n",
    "\n",
    "5. Missing values\n",
    "\n",
    "6. Outlier Analysis & its removal\n",
    "\n",
    "7. Feature Engeeniring\n",
    "\n",
    "8. Transformation and scaling aka Data Preprocessing Step"
   ]
  },
  {
   "cell_type": "code",
   "execution_count": 2,
   "metadata": {},
   "outputs": [
    {
     "data": {
      "text/html": [
       "<div>\n",
       "<style scoped>\n",
       "    .dataframe tbody tr th:only-of-type {\n",
       "        vertical-align: middle;\n",
       "    }\n",
       "\n",
       "    .dataframe tbody tr th {\n",
       "        vertical-align: top;\n",
       "    }\n",
       "\n",
       "    .dataframe thead th {\n",
       "        text-align: right;\n",
       "    }\n",
       "</style>\n",
       "<table border=\"1\" class=\"dataframe\">\n",
       "  <thead>\n",
       "    <tr style=\"text-align: right;\">\n",
       "      <th></th>\n",
       "      <th>Item_Identifier</th>\n",
       "      <th>Item_Weight</th>\n",
       "      <th>Item_Fat_Content</th>\n",
       "      <th>Item_Visibility</th>\n",
       "      <th>Item_Type</th>\n",
       "      <th>Item_MRP</th>\n",
       "      <th>Outlet_Identifier</th>\n",
       "      <th>Outlet_Establishment_Year</th>\n",
       "      <th>Outlet_Size</th>\n",
       "      <th>Outlet_Location_Type</th>\n",
       "      <th>Outlet_Type</th>\n",
       "      <th>Item_Outlet_Sales</th>\n",
       "      <th>Profit</th>\n",
       "    </tr>\n",
       "  </thead>\n",
       "  <tbody>\n",
       "    <tr>\n",
       "      <th>0</th>\n",
       "      <td>FDA15</td>\n",
       "      <td>9.30</td>\n",
       "      <td>Low Fat</td>\n",
       "      <td>0.016047</td>\n",
       "      <td>Dairy</td>\n",
       "      <td>249.8</td>\n",
       "      <td>OUT049</td>\n",
       "      <td>1999</td>\n",
       "      <td>Medium</td>\n",
       "      <td>Tier 2</td>\n",
       "      <td>Supermarket Type1</td>\n",
       "      <td>3735.1380</td>\n",
       "      <td>11.5</td>\n",
       "    </tr>\n",
       "    <tr>\n",
       "      <th>1</th>\n",
       "      <td>DRC01</td>\n",
       "      <td>5.92</td>\n",
       "      <td>Regular</td>\n",
       "      <td>0.019278</td>\n",
       "      <td>Soft Drinks</td>\n",
       "      <td>48.3</td>\n",
       "      <td>OUT018</td>\n",
       "      <td>2009</td>\n",
       "      <td>Medium</td>\n",
       "      <td>Tier 2</td>\n",
       "      <td>Supermarket Type2</td>\n",
       "      <td>443.4228</td>\n",
       "      <td>14.3</td>\n",
       "    </tr>\n",
       "  </tbody>\n",
       "</table>\n",
       "</div>"
      ],
      "text/plain": [
       "  Item_Identifier  Item_Weight Item_Fat_Content  Item_Visibility    Item_Type  \\\n",
       "0           FDA15         9.30          Low Fat         0.016047        Dairy   \n",
       "1           DRC01         5.92          Regular         0.019278  Soft Drinks   \n",
       "\n",
       "   Item_MRP Outlet_Identifier  Outlet_Establishment_Year Outlet_Size  \\\n",
       "0     249.8            OUT049                       1999      Medium   \n",
       "1      48.3            OUT018                       2009      Medium   \n",
       "\n",
       "  Outlet_Location_Type        Outlet_Type  Item_Outlet_Sales  Profit  \n",
       "0               Tier 2  Supermarket Type1          3735.1380    11.5  \n",
       "1               Tier 2  Supermarket Type2           443.4228    14.3  "
      ]
     },
     "execution_count": 2,
     "metadata": {},
     "output_type": "execute_result"
    }
   ],
   "source": [
    "sales=pd.read_csv('k_circle_sales.csv')\n",
    "sales.head(2)"
   ]
  },
  {
   "cell_type": "code",
   "execution_count": 3,
   "metadata": {},
   "outputs": [
    {
     "data": {
      "text/plain": [
       "(8523, 13)"
      ]
     },
     "execution_count": 3,
     "metadata": {},
     "output_type": "execute_result"
    }
   ],
   "source": [
    "sales.shape"
   ]
  },
  {
   "cell_type": "code",
   "execution_count": 4,
   "metadata": {},
   "outputs": [
    {
     "data": {
      "text/plain": [
       "2"
      ]
     },
     "execution_count": 4,
     "metadata": {},
     "output_type": "execute_result"
    }
   ],
   "source": [
    "sales.ndim"
   ]
  },
  {
   "cell_type": "code",
   "execution_count": 5,
   "metadata": {},
   "outputs": [
    {
     "data": {
      "text/html": [
       "<div>\n",
       "<style scoped>\n",
       "    .dataframe tbody tr th:only-of-type {\n",
       "        vertical-align: middle;\n",
       "    }\n",
       "\n",
       "    .dataframe tbody tr th {\n",
       "        vertical-align: top;\n",
       "    }\n",
       "\n",
       "    .dataframe thead th {\n",
       "        text-align: right;\n",
       "    }\n",
       "</style>\n",
       "<table border=\"1\" class=\"dataframe\">\n",
       "  <thead>\n",
       "    <tr style=\"text-align: right;\">\n",
       "      <th></th>\n",
       "      <th>Item_Weight</th>\n",
       "      <th>Item_Visibility</th>\n",
       "      <th>Item_MRP</th>\n",
       "      <th>Outlet_Establishment_Year</th>\n",
       "      <th>Item_Outlet_Sales</th>\n",
       "      <th>Profit</th>\n",
       "    </tr>\n",
       "  </thead>\n",
       "  <tbody>\n",
       "    <tr>\n",
       "      <th>count</th>\n",
       "      <td>7774.000000</td>\n",
       "      <td>8523.000000</td>\n",
       "      <td>8523.000000</td>\n",
       "      <td>8523.000000</td>\n",
       "      <td>8523.000000</td>\n",
       "      <td>8523.000000</td>\n",
       "    </tr>\n",
       "    <tr>\n",
       "      <th>mean</th>\n",
       "      <td>11.676740</td>\n",
       "      <td>0.066132</td>\n",
       "      <td>140.998838</td>\n",
       "      <td>1997.831867</td>\n",
       "      <td>2181.288914</td>\n",
       "      <td>13.414514</td>\n",
       "    </tr>\n",
       "    <tr>\n",
       "      <th>std</th>\n",
       "      <td>5.776851</td>\n",
       "      <td>0.051598</td>\n",
       "      <td>62.258099</td>\n",
       "      <td>8.371760</td>\n",
       "      <td>1706.499616</td>\n",
       "      <td>1.701840</td>\n",
       "    </tr>\n",
       "    <tr>\n",
       "      <th>min</th>\n",
       "      <td>0.000000</td>\n",
       "      <td>0.000000</td>\n",
       "      <td>31.300000</td>\n",
       "      <td>1985.000000</td>\n",
       "      <td>33.290000</td>\n",
       "      <td>0.100000</td>\n",
       "    </tr>\n",
       "    <tr>\n",
       "      <th>25%</th>\n",
       "      <td>7.720000</td>\n",
       "      <td>0.026989</td>\n",
       "      <td>93.800000</td>\n",
       "      <td>1987.000000</td>\n",
       "      <td>834.247400</td>\n",
       "      <td>13.150000</td>\n",
       "    </tr>\n",
       "    <tr>\n",
       "      <th>50%</th>\n",
       "      <td>11.800000</td>\n",
       "      <td>0.053931</td>\n",
       "      <td>142.700000</td>\n",
       "      <td>1999.000000</td>\n",
       "      <td>1794.331000</td>\n",
       "      <td>13.900000</td>\n",
       "    </tr>\n",
       "    <tr>\n",
       "      <th>75%</th>\n",
       "      <td>16.500000</td>\n",
       "      <td>0.094585</td>\n",
       "      <td>185.650000</td>\n",
       "      <td>2004.000000</td>\n",
       "      <td>3101.296400</td>\n",
       "      <td>14.300000</td>\n",
       "    </tr>\n",
       "    <tr>\n",
       "      <th>max</th>\n",
       "      <td>21.350000</td>\n",
       "      <td>0.328391</td>\n",
       "      <td>266.900000</td>\n",
       "      <td>2009.000000</td>\n",
       "      <td>13086.964800</td>\n",
       "      <td>24.000000</td>\n",
       "    </tr>\n",
       "  </tbody>\n",
       "</table>\n",
       "</div>"
      ],
      "text/plain": [
       "       Item_Weight  Item_Visibility     Item_MRP  Outlet_Establishment_Year  \\\n",
       "count  7774.000000      8523.000000  8523.000000                8523.000000   \n",
       "mean     11.676740         0.066132   140.998838                1997.831867   \n",
       "std       5.776851         0.051598    62.258099                   8.371760   \n",
       "min       0.000000         0.000000    31.300000                1985.000000   \n",
       "25%       7.720000         0.026989    93.800000                1987.000000   \n",
       "50%      11.800000         0.053931   142.700000                1999.000000   \n",
       "75%      16.500000         0.094585   185.650000                2004.000000   \n",
       "max      21.350000         0.328391   266.900000                2009.000000   \n",
       "\n",
       "       Item_Outlet_Sales       Profit  \n",
       "count        8523.000000  8523.000000  \n",
       "mean         2181.288914    13.414514  \n",
       "std          1706.499616     1.701840  \n",
       "min            33.290000     0.100000  \n",
       "25%           834.247400    13.150000  \n",
       "50%          1794.331000    13.900000  \n",
       "75%          3101.296400    14.300000  \n",
       "max         13086.964800    24.000000  "
      ]
     },
     "execution_count": 5,
     "metadata": {},
     "output_type": "execute_result"
    }
   ],
   "source": [
    "sales.describe()"
   ]
  },
  {
   "cell_type": "code",
   "execution_count": 6,
   "metadata": {},
   "outputs": [
    {
     "name": "stderr",
     "output_type": "stream",
     "text": [
      "C:\\Users\\Pragyansh\\anaconda3\\lib\\site-packages\\seaborn\\distributions.py:2551: FutureWarning: `distplot` is a deprecated function and will be removed in a future version. Please adapt your code to use either `displot` (a figure-level function with similar flexibility) or `histplot` (an axes-level function for histograms).\n",
      "  warnings.warn(msg, FutureWarning)\n"
     ]
    },
    {
     "data": {
      "image/png": "[encoded data removed]",
      "text/plain": [
       "<Figure size 432x288 with 1 Axes>"
      ]
     },
     "metadata": {
      "needs_background": "light"
     },
     "output_type": "display_data"
    }
   ],
   "source": [
    "sns.distplot(sales.Item_Outlet_Sales)\n",
    "plt.show()"
   ]
  },
  {
   "cell_type": "code",
   "execution_count": 7,
   "metadata": {},
   "outputs": [
    {
     "name": "stderr",
     "output_type": "stream",
     "text": [
      "C:\\Users\\Pragyansh\\anaconda3\\lib\\site-packages\\seaborn\\distributions.py:2551: FutureWarning: `distplot` is a deprecated function and will be removed in a future version. Please adapt your code to use either `displot` (a figure-level function with similar flexibility) or `histplot` (an axes-level function for histograms).\n",
      "  warnings.warn(msg, FutureWarning)\n"
     ]
    },
    {
     "data": {
      "text/plain": [
       "<AxesSubplot:xlabel='Item_MRP', ylabel='Density'>"
      ]
     },
     "execution_count": 7,
     "metadata": {},
     "output_type": "execute_result"
    },
    {
     "data": {
      "image/png": "[encoded data removed]",
      "text/plain": [
       "<Figure size 432x288 with 1 Axes>"
      ]
     },
     "metadata": {
      "needs_background": "light"
     },
     "output_type": "display_data"
    }
   ],
   "source": [
    "sns.distplot(sales.Item_MRP)"
   ]
  },
  {
   "cell_type": "code",
   "execution_count": 8,
   "metadata": {},
   "outputs": [
    {
     "data": {
      "text/plain": [
       "Item_Weight                 -0.352215\n",
       "Item_Visibility              1.167091\n",
       "Item_MRP                     0.127390\n",
       "Outlet_Establishment_Year   -0.396641\n",
       "Item_Outlet_Sales            1.177531\n",
       "Profit                      -3.379808\n",
       "dtype: float64"
      ]
     },
     "execution_count": 8,
     "metadata": {},
     "output_type": "execute_result"
    }
   ],
   "source": [
    "sales.skew()"
   ]
  },
  {
   "cell_type": "code",
   "execution_count": 9,
   "metadata": {},
   "outputs": [
    {
     "data": {
      "image/png": "[encoded data removed]",
      "text/plain": [
       "<Figure size 432x288 with 1 Axes>"
      ]
     },
     "metadata": {
      "needs_background": "light"
     },
     "output_type": "display_data"
    }
   ],
   "source": [
    "sns.boxplot(x=sales.Item_Outlet_Sales)\n",
    "plt.show()"
   ]
  },
  {
   "cell_type": "code",
   "execution_count": 10,
   "metadata": {},
   "outputs": [
    {
     "name": "stderr",
     "output_type": "stream",
     "text": [
      "C:\\Users\\Pragyansh\\anaconda3\\lib\\site-packages\\seaborn\\distributions.py:2551: FutureWarning: `distplot` is a deprecated function and will be removed in a future version. Please adapt your code to use either `displot` (a figure-level function with similar flexibility) or `histplot` (an axes-level function for histograms).\n",
      "  warnings.warn(msg, FutureWarning)\n"
     ]
    },
    {
     "data": {
      "text/plain": [
       "<AxesSubplot:xlabel='Profit', ylabel='Density'>"
      ]
     },
     "execution_count": 10,
     "metadata": {},
     "output_type": "execute_result"
    },
    {
     "data": {
      "image/png": "[encoded data removed]",
      "text/plain": [
       "<Figure size 432x288 with 1 Axes>"
      ]
     },
     "metadata": {
      "needs_background": "light"
     },
     "output_type": "display_data"
    }
   ],
   "source": [
    "sns.distplot(sales.Profit)"
   ]
  },
  {
   "cell_type": "code",
   "execution_count": 11,
   "metadata": {},
   "outputs": [
    {
     "data": {
      "text/plain": [
       "<matplotlib.collections.PathCollection at 0x1e155f3edc0>"
      ]
     },
     "execution_count": 11,
     "metadata": {},
     "output_type": "execute_result"
    },
    {
     "data": {
      "image/png": "[encoded data removed]",
      "text/plain": [
       "<Figure size 432x288 with 1 Axes>"
      ]
     },
     "metadata": {
      "needs_background": "light"
     },
     "output_type": "display_data"
    }
   ],
   "source": [
    "plt.scatter(x=sales.Item_MRP,y=sales.Item_Outlet_Sales)"
   ]
  },
  {
   "cell_type": "code",
   "execution_count": 12,
   "metadata": {},
   "outputs": [
    {
     "data": {
      "text/plain": [
       "<AxesSubplot:xlabel='Item_MRP', ylabel='Item_Outlet_Sales'>"
      ]
     },
     "execution_count": 12,
     "metadata": {},
     "output_type": "execute_result"
    },
    {
     "data": {
      "image/png": "[encoded data removed]",
      "text/plain": [
       "<Figure size 432x288 with 1 Axes>"
      ]
     },
     "metadata": {
      "needs_background": "light"
     },
     "output_type": "display_data"
    }
   ],
   "source": [
    "sns.scatterplot(x=sales.Item_MRP,y=sales.Item_Outlet_Sales,color='red')"
   ]
  },
  {
   "cell_type": "code",
   "execution_count": 13,
   "metadata": {},
   "outputs": [
    {
     "data": {
      "text/plain": [
       "<AxesSubplot:xlabel='Profit'>"
      ]
     },
     "execution_count": 13,
     "metadata": {},
     "output_type": "execute_result"
    },
    {
     "data": {
      "image/png": "[encoded data removed]",
      "text/plain": [
       "<Figure size 432x288 with 1 Axes>"
      ]
     },
     "metadata": {
      "needs_background": "light"
     },
     "output_type": "display_data"
    }
   ],
   "source": [
    "sns.boxplot(x=sales.Profit)"
   ]
  },
  {
   "cell_type": "code",
   "execution_count": 14,
   "metadata": {},
   "outputs": [
    {
     "data": {
      "text/plain": [
       "<AxesSubplot:xlabel='Item_MRP'>"
      ]
     },
     "execution_count": 14,
     "metadata": {},
     "output_type": "execute_result"
    },
    {
     "data": {
      "image/png": "[encoded data removed]",
      "text/plain": [
       "<Figure size 432x288 with 1 Axes>"
      ]
     },
     "metadata": {
      "needs_background": "light"
     },
     "output_type": "display_data"
    }
   ],
   "source": [
    "sns.boxplot(x=sales.Item_MRP)"
   ]
  },
  {
   "cell_type": "code",
   "execution_count": 15,
   "metadata": {},
   "outputs": [
    {
     "data": {
      "text/plain": [
       "834.2474"
      ]
     },
     "execution_count": 15,
     "metadata": {},
     "output_type": "execute_result"
    }
   ],
   "source": [
    "np.quantile(sales.Item_Outlet_Sales,0.25)"
   ]
  },
  {
   "cell_type": "code",
   "execution_count": 16,
   "metadata": {},
   "outputs": [
    {
     "data": {
      "text/plain": [
       "3101.2964"
      ]
     },
     "execution_count": 16,
     "metadata": {},
     "output_type": "execute_result"
    }
   ],
   "source": [
    "np.quantile(sales.Item_Outlet_Sales,0.75)"
   ]
  },
  {
   "cell_type": "code",
   "execution_count": 17,
   "metadata": {},
   "outputs": [
    {
     "data": {
      "text/plain": [
       "1794.3310000000001"
      ]
     },
     "execution_count": 17,
     "metadata": {},
     "output_type": "execute_result"
    }
   ],
   "source": [
    "np.quantile(sales.Item_Outlet_Sales,0.50)"
   ]
  },
  {
   "cell_type": "code",
   "execution_count": 18,
   "metadata": {},
   "outputs": [
    {
     "data": {
      "text/plain": [
       "13086.9648"
      ]
     },
     "execution_count": 18,
     "metadata": {},
     "output_type": "execute_result"
    }
   ],
   "source": [
    "max(sales.Item_Outlet_Sales)"
   ]
  },
  {
   "cell_type": "code",
   "execution_count": 19,
   "metadata": {},
   "outputs": [
    {
     "data": {
      "text/plain": [
       "834.2474"
      ]
     },
     "execution_count": 19,
     "metadata": {},
     "output_type": "execute_result"
    }
   ],
   "source": [
    "sales.Item_Outlet_Sales.quantile(0.25)"
   ]
  },
  {
   "cell_type": "code",
   "execution_count": 20,
   "metadata": {},
   "outputs": [
    {
     "data": {
      "text/plain": [
       "Item_Weight                    11.676740\n",
       "Item_Visibility                 0.066132\n",
       "Item_MRP                      140.998838\n",
       "Outlet_Establishment_Year    1997.831867\n",
       "Item_Outlet_Sales            2181.288914\n",
       "Profit                         13.414514\n",
       "dtype: float64"
      ]
     },
     "execution_count": 20,
     "metadata": {},
     "output_type": "execute_result"
    }
   ],
   "source": [
    "sales.mean()"
   ]
  },
  {
   "cell_type": "code",
   "execution_count": 21,
   "metadata": {},
   "outputs": [
    {
     "data": {
      "text/plain": [
       "Item_Weight                    11.800000\n",
       "Item_Visibility                 0.053931\n",
       "Item_MRP                      142.700000\n",
       "Outlet_Establishment_Year    1999.000000\n",
       "Item_Outlet_Sales            1794.331000\n",
       "Profit                         13.900000\n",
       "dtype: float64"
      ]
     },
     "execution_count": 21,
     "metadata": {},
     "output_type": "execute_result"
    }
   ],
   "source": [
    "sales.median()"
   ]
  },
  {
   "cell_type": "code",
   "execution_count": 22,
   "metadata": {},
   "outputs": [
    {
     "data": {
      "text/plain": [
       "Item_Weight                  3.337201e+01\n",
       "Item_Visibility              2.662335e-03\n",
       "Item_MRP                     3.876071e+03\n",
       "Outlet_Establishment_Year    7.008637e+01\n",
       "Item_Outlet_Sales            2.912141e+06\n",
       "Profit                       2.896258e+00\n",
       "dtype: float64"
      ]
     },
     "execution_count": 22,
     "metadata": {},
     "output_type": "execute_result"
    }
   ],
   "source": [
    "sales.var()"
   ]
  },
  {
   "cell_type": "code",
   "execution_count": 23,
   "metadata": {
    "scrolled": true
   },
   "outputs": [
    {
     "data": {
      "text/plain": [
       "Item_Weight                     5.776851\n",
       "Item_Visibility                 0.051598\n",
       "Item_MRP                       62.258099\n",
       "Outlet_Establishment_Year       8.371760\n",
       "Item_Outlet_Sales            1706.499616\n",
       "Profit                          1.701840\n",
       "dtype: float64"
      ]
     },
     "execution_count": 23,
     "metadata": {},
     "output_type": "execute_result"
    }
   ],
   "source": [
    "sales.std()"
   ]
  },
  {
   "cell_type": "markdown",
   "metadata": {},
   "source": [
    "### Covarince and Corelation\n"
   ]
  },
  {
   "cell_type": "code",
   "execution_count": 24,
   "metadata": {},
   "outputs": [
    {
     "data": {
      "text/html": [
       "<div>\n",
       "<style scoped>\n",
       "    .dataframe tbody tr th:only-of-type {\n",
       "        vertical-align: middle;\n",
       "    }\n",
       "\n",
       "    .dataframe tbody tr th {\n",
       "        vertical-align: top;\n",
       "    }\n",
       "\n",
       "    .dataframe thead th {\n",
       "        text-align: right;\n",
       "    }\n",
       "</style>\n",
       "<table border=\"1\" class=\"dataframe\">\n",
       "  <thead>\n",
       "    <tr style=\"text-align: right;\">\n",
       "      <th></th>\n",
       "      <th>Item_Outlet_Sales</th>\n",
       "      <th>Item_MRP</th>\n",
       "    </tr>\n",
       "  </thead>\n",
       "  <tbody>\n",
       "    <tr>\n",
       "      <th>Item_Outlet_Sales</th>\n",
       "      <td>1.000000</td>\n",
       "      <td>0.567555</td>\n",
       "    </tr>\n",
       "    <tr>\n",
       "      <th>Item_MRP</th>\n",
       "      <td>0.567555</td>\n",
       "      <td>1.000000</td>\n",
       "    </tr>\n",
       "  </tbody>\n",
       "</table>\n",
       "</div>"
      ],
      "text/plain": [
       "                   Item_Outlet_Sales  Item_MRP\n",
       "Item_Outlet_Sales           1.000000  0.567555\n",
       "Item_MRP                    0.567555  1.000000"
      ]
     },
     "execution_count": 24,
     "metadata": {},
     "output_type": "execute_result"
    }
   ],
   "source": [
    "sales.loc[:,['Item_Outlet_Sales','Item_MRP']].corr()"
   ]
  },
  {
   "cell_type": "code",
   "execution_count": 25,
   "metadata": {},
   "outputs": [
    {
     "data": {
      "text/html": [
       "<div>\n",
       "<style scoped>\n",
       "    .dataframe tbody tr th:only-of-type {\n",
       "        vertical-align: middle;\n",
       "    }\n",
       "\n",
       "    .dataframe tbody tr th {\n",
       "        vertical-align: top;\n",
       "    }\n",
       "\n",
       "    .dataframe thead th {\n",
       "        text-align: right;\n",
       "    }\n",
       "</style>\n",
       "<table border=\"1\" class=\"dataframe\">\n",
       "  <thead>\n",
       "    <tr style=\"text-align: right;\">\n",
       "      <th></th>\n",
       "      <th>Item_Visibility</th>\n",
       "      <th>Item_Outlet_Sales</th>\n",
       "    </tr>\n",
       "  </thead>\n",
       "  <tbody>\n",
       "    <tr>\n",
       "      <th>Item_Visibility</th>\n",
       "      <td>1.000000</td>\n",
       "      <td>-0.128625</td>\n",
       "    </tr>\n",
       "    <tr>\n",
       "      <th>Item_Outlet_Sales</th>\n",
       "      <td>-0.128625</td>\n",
       "      <td>1.000000</td>\n",
       "    </tr>\n",
       "  </tbody>\n",
       "</table>\n",
       "</div>"
      ],
      "text/plain": [
       "                   Item_Visibility  Item_Outlet_Sales\n",
       "Item_Visibility           1.000000          -0.128625\n",
       "Item_Outlet_Sales        -0.128625           1.000000"
      ]
     },
     "execution_count": 25,
     "metadata": {},
     "output_type": "execute_result"
    }
   ],
   "source": [
    "sales[['Item_Visibility','Item_Outlet_Sales']].corr()"
   ]
  },
  {
   "cell_type": "code",
   "execution_count": 26,
   "metadata": {},
   "outputs": [
    {
     "data": {
      "text/plain": [
       "0.567555195254739"
      ]
     },
     "execution_count": 26,
     "metadata": {},
     "output_type": "execute_result"
    }
   ],
   "source": [
    "sales.Item_MRP.corr(sales.Item_Outlet_Sales)"
   ]
  },
  {
   "cell_type": "code",
   "execution_count": 27,
   "metadata": {},
   "outputs": [
    {
     "data": {
      "text/plain": [
       "array([[   3876.07088459,   60299.00607842],\n",
       "       [  60299.00607842, 2912140.93849972]])"
      ]
     },
     "execution_count": 27,
     "metadata": {},
     "output_type": "execute_result"
    }
   ],
   "source": [
    "# Covariance\n",
    "np.cov(sales.Item_MRP,sales.Item_Outlet_Sales)"
   ]
  },
  {
   "cell_type": "code",
   "execution_count": 28,
   "metadata": {},
   "outputs": [
    {
     "data": {
      "text/plain": [
       "<AxesSubplot:>"
      ]
     },
     "execution_count": 28,
     "metadata": {},
     "output_type": "execute_result"
    },
    {
     "data": {
      "image/png": "[encoded data removed]",
      "text/plain": [
       "<Figure size 432x288 with 2 Axes>"
      ]
     },
     "metadata": {
      "needs_background": "light"
     },
     "output_type": "display_data"
    }
   ],
   "source": [
    "sns.heatmap(sales.corr(),annot=True)"
   ]
  },
  {
   "cell_type": "code",
   "execution_count": null,
   "metadata": {},
   "outputs": [],
   "source": []
  },
  {
   "cell_type": "code",
   "execution_count": 29,
   "metadata": {},
   "outputs": [
    {
     "data": {
      "text/html": [
       "<div>\n",
       "<style scoped>\n",
       "    .dataframe tbody tr th:only-of-type {\n",
       "        vertical-align: middle;\n",
       "    }\n",
       "\n",
       "    .dataframe tbody tr th {\n",
       "        vertical-align: top;\n",
       "    }\n",
       "\n",
       "    .dataframe thead th {\n",
       "        text-align: right;\n",
       "    }\n",
       "</style>\n",
       "<table border=\"1\" class=\"dataframe\">\n",
       "  <thead>\n",
       "    <tr style=\"text-align: right;\">\n",
       "      <th></th>\n",
       "      <th>Item_Weight</th>\n",
       "      <th>Item_Visibility</th>\n",
       "      <th>Item_MRP</th>\n",
       "      <th>Outlet_Establishment_Year</th>\n",
       "      <th>Item_Outlet_Sales</th>\n",
       "      <th>Profit</th>\n",
       "    </tr>\n",
       "  </thead>\n",
       "  <tbody>\n",
       "    <tr>\n",
       "      <th>Item_Weight</th>\n",
       "      <td>33.372008</td>\n",
       "      <td>-0.016030</td>\n",
       "      <td>7.425851</td>\n",
       "      <td>16.293339</td>\n",
       "      <td>-3.295708e+02</td>\n",
       "      <td>-0.160196</td>\n",
       "    </tr>\n",
       "    <tr>\n",
       "      <th>Item_Visibility</th>\n",
       "      <td>-0.016030</td>\n",
       "      <td>0.002662</td>\n",
       "      <td>-0.005131</td>\n",
       "      <td>-0.032325</td>\n",
       "      <td>-1.132561e+01</td>\n",
       "      <td>0.001253</td>\n",
       "    </tr>\n",
       "    <tr>\n",
       "      <th>Item_MRP</th>\n",
       "      <td>7.425851</td>\n",
       "      <td>-0.005131</td>\n",
       "      <td>3876.070885</td>\n",
       "      <td>2.629821</td>\n",
       "      <td>6.029901e+04</td>\n",
       "      <td>0.435364</td>\n",
       "    </tr>\n",
       "    <tr>\n",
       "      <th>Outlet_Establishment_Year</th>\n",
       "      <td>16.293339</td>\n",
       "      <td>-0.032325</td>\n",
       "      <td>2.629821</td>\n",
       "      <td>70.086372</td>\n",
       "      <td>-7.019621e+02</td>\n",
       "      <td>-0.280298</td>\n",
       "    </tr>\n",
       "    <tr>\n",
       "      <th>Item_Outlet_Sales</th>\n",
       "      <td>-329.570782</td>\n",
       "      <td>-11.325611</td>\n",
       "      <td>60299.006078</td>\n",
       "      <td>-701.962133</td>\n",
       "      <td>2.912141e+06</td>\n",
       "      <td>2.762921</td>\n",
       "    </tr>\n",
       "    <tr>\n",
       "      <th>Profit</th>\n",
       "      <td>-0.160196</td>\n",
       "      <td>0.001253</td>\n",
       "      <td>0.435364</td>\n",
       "      <td>-0.280298</td>\n",
       "      <td>2.762921e+00</td>\n",
       "      <td>2.896258</td>\n",
       "    </tr>\n",
       "  </tbody>\n",
       "</table>\n",
       "</div>"
      ],
      "text/plain": [
       "                           Item_Weight  Item_Visibility      Item_MRP  \\\n",
       "Item_Weight                  33.372008        -0.016030      7.425851   \n",
       "Item_Visibility              -0.016030         0.002662     -0.005131   \n",
       "Item_MRP                      7.425851        -0.005131   3876.070885   \n",
       "Outlet_Establishment_Year    16.293339        -0.032325      2.629821   \n",
       "Item_Outlet_Sales          -329.570782       -11.325611  60299.006078   \n",
       "Profit                       -0.160196         0.001253      0.435364   \n",
       "\n",
       "                           Outlet_Establishment_Year  Item_Outlet_Sales  \\\n",
       "Item_Weight                                16.293339      -3.295708e+02   \n",
       "Item_Visibility                            -0.032325      -1.132561e+01   \n",
       "Item_MRP                                    2.629821       6.029901e+04   \n",
       "Outlet_Establishment_Year                  70.086372      -7.019621e+02   \n",
       "Item_Outlet_Sales                        -701.962133       2.912141e+06   \n",
       "Profit                                     -0.280298       2.762921e+00   \n",
       "\n",
       "                             Profit  \n",
       "Item_Weight               -0.160196  \n",
       "Item_Visibility            0.001253  \n",
       "Item_MRP                   0.435364  \n",
       "Outlet_Establishment_Year -0.280298  \n",
       "Item_Outlet_Sales          2.762921  \n",
       "Profit                     2.896258  "
      ]
     },
     "execution_count": 29,
     "metadata": {},
     "output_type": "execute_result"
    }
   ],
   "source": [
    "sales.cov()"
   ]
  },
  {
   "cell_type": "code",
   "execution_count": 30,
   "metadata": {},
   "outputs": [
    {
     "data": {
      "text/plain": [
       "<AxesSubplot:>"
      ]
     },
     "execution_count": 30,
     "metadata": {},
     "output_type": "execute_result"
    },
    {
     "data": {
      "image/png": "[encoded data removed]",
      "text/plain": [
       "<Figure size 432x288 with 2 Axes>"
      ]
     },
     "metadata": {
      "needs_background": "light"
     },
     "output_type": "display_data"
    }
   ],
   "source": [
    "sns.heatmap(sales.cov(),annot=True)"
   ]
  },
  {
   "cell_type": "code",
   "execution_count": 31,
   "metadata": {},
   "outputs": [
    {
     "data": {
      "text/plain": [
       "<AxesSubplot:>"
      ]
     },
     "execution_count": 31,
     "metadata": {},
     "output_type": "execute_result"
    },
    {
     "data": {
      "image/png": "[encoded data removed]",
      "text/plain": [
       "<Figure size 432x288 with 1 Axes>"
      ]
     },
     "metadata": {
      "needs_background": "light"
     },
     "output_type": "display_data"
    }
   ],
   "source": [
    "sales.Item_Fat_Content.value_counts().plot(kind='bar')"
   ]
  },
  {
   "cell_type": "code",
   "execution_count": null,
   "metadata": {},
   "outputs": [],
   "source": []
  },
  {
   "cell_type": "code",
   "execution_count": 32,
   "metadata": {},
   "outputs": [],
   "source": [
    "# Replacing the values\n",
    "\n",
    "sales.Item_Fat_Content.replace({'low fat':'Low Fat',\n",
    "                               'reg':'Regular',\n",
    "                               'LF':'Low Fat'},inplace=True)"
   ]
  },
  {
   "cell_type": "code",
   "execution_count": 33,
   "metadata": {},
   "outputs": [
    {
     "data": {
      "text/plain": [
       "0       Low Fat\n",
       "1       Regular\n",
       "2       Low Fat\n",
       "3       Regular\n",
       "4       Low Fat\n",
       "         ...   \n",
       "8518    Low Fat\n",
       "8519    Regular\n",
       "8520    Low Fat\n",
       "8521    Regular\n",
       "8522    Low Fat\n",
       "Name: Item_Fat_Content, Length: 8523, dtype: object"
      ]
     },
     "execution_count": 33,
     "metadata": {},
     "output_type": "execute_result"
    }
   ],
   "source": [
    "sales.Item_Fat_Content"
   ]
  },
  {
   "cell_type": "code",
   "execution_count": 34,
   "metadata": {},
   "outputs": [
    {
     "data": {
      "text/plain": [
       "<AxesSubplot:>"
      ]
     },
     "execution_count": 34,
     "metadata": {},
     "output_type": "execute_result"
    },
    {
     "data": {
      "image/png": "[encoded data removed]",
      "text/plain": [
       "<Figure size 432x288 with 1 Axes>"
      ]
     },
     "metadata": {
      "needs_background": "light"
     },
     "output_type": "display_data"
    }
   ],
   "source": [
    "sales.Item_Fat_Content.value_counts().plot(kind='bar')"
   ]
  },
  {
   "cell_type": "code",
   "execution_count": 35,
   "metadata": {},
   "outputs": [
    {
     "data": {
      "text/plain": [
       "<AxesSubplot:>"
      ]
     },
     "execution_count": 35,
     "metadata": {},
     "output_type": "execute_result"
    },
    {
     "data": {
      "image/png": "[encoded data removed]",
      "text/plain": [
       "<Figure size 432x288 with 1 Axes>"
      ]
     },
     "metadata": {
      "needs_background": "light"
     },
     "output_type": "display_data"
    }
   ],
   "source": [
    "# Item Type\n",
    "\n",
    "sales.Item_Type.value_counts().plot(kind='bar')"
   ]
  },
  {
   "cell_type": "code",
   "execution_count": 36,
   "metadata": {},
   "outputs": [
    {
     "data": {
      "image/png": "[encoded data removed]",
      "text/plain": [
       "<Figure size 432x288 with 1 Axes>"
      ]
     },
     "metadata": {
      "needs_background": "light"
     },
     "output_type": "display_data"
    }
   ],
   "source": [
    "sns.countplot(x=sales.Item_Type)\n",
    "plt.xticks(rotation=90)\n",
    "plt.show()"
   ]
  },
  {
   "cell_type": "code",
   "execution_count": 37,
   "metadata": {},
   "outputs": [
    {
     "data": {
      "image/png": "[encoded data removed]",
      "text/plain": [
       "<Figure size 432x288 with 1 Axes>"
      ]
     },
     "metadata": {
      "needs_background": "light"
     },
     "output_type": "display_data"
    }
   ],
   "source": [
    "sales.Outlet_Identifier.value_counts().plot(kind='bar')\n",
    "plt.show()"
   ]
  },
  {
   "cell_type": "code",
   "execution_count": 38,
   "metadata": {},
   "outputs": [
    {
     "data": {
      "image/png": "[encoded data removed]",
      "text/plain": [
       "<Figure size 432x288 with 1 Axes>"
      ]
     },
     "metadata": {
      "needs_background": "light"
     },
     "output_type": "display_data"
    }
   ],
   "source": [
    "sns.countplot(x=sales.Outlet_Identifier)\n",
    "plt.xticks(rotation=90)\n",
    "plt.show()"
   ]
  },
  {
   "cell_type": "code",
   "execution_count": 39,
   "metadata": {},
   "outputs": [
    {
     "data": {
      "text/plain": [
       "Supermarket Type1    5577\n",
       "Grocery Store        1083\n",
       "Supermarket Type3     935\n",
       "Supermarket Type2     928\n",
       "Name: Outlet_Type, dtype: int64"
      ]
     },
     "execution_count": 39,
     "metadata": {},
     "output_type": "execute_result"
    }
   ],
   "source": [
    "sales.Outlet_Type.value_counts()"
   ]
  },
  {
   "cell_type": "code",
   "execution_count": 40,
   "metadata": {},
   "outputs": [
    {
     "data": {
      "text/plain": [
       "Tier 2    2793\n",
       "Tier1     2388\n",
       "Tier 3     932\n",
       "?          120\n",
       "  --       109\n",
       "  -         67\n",
       "na          48\n",
       "NAN         16\n",
       "Name: Outlet_Location_Type, dtype: int64"
      ]
     },
     "execution_count": 40,
     "metadata": {},
     "output_type": "execute_result"
    }
   ],
   "source": [
    "sales.Outlet_Location_Type.value_counts()"
   ]
  },
  {
   "cell_type": "markdown",
   "metadata": {},
   "source": [
    "### Summary of univariate analysis\n",
    "\n",
    "1. Average sales comes to be 2181 Dollars.\n",
    "2. The top 5 products sold by store are fruits and veggies, snackc food, frozen food, dairy, household.\n",
    "3. The maximum outlets opened are Out027 and min are OUT19 and OUT10.\n",
    "4. Most of items that are sold in the store are low fat items.\n",
    "5. Most of outlets are in Tier 2 Location and mostly they are Stype 01."
   ]
  },
  {
   "cell_type": "markdown",
   "metadata": {},
   "source": [
    "# DAY 2"
   ]
  },
  {
   "cell_type": "markdown",
   "metadata": {},
   "source": [
    "### Bivariate Analysis\n",
    "\n",
    "**num vs num**"
   ]
  },
  {
   "cell_type": "code",
   "execution_count": 41,
   "metadata": {},
   "outputs": [
    {
     "data": {
      "image/png": "[encoded data removed]",
      "text/plain": [
       "<Figure size 432x288 with 1 Axes>"
      ]
     },
     "metadata": {
      "needs_background": "light"
     },
     "output_type": "display_data"
    },
    {
     "data": {
      "text/plain": [
       "<Figure size 720x576 with 0 Axes>"
      ]
     },
     "metadata": {},
     "output_type": "display_data"
    }
   ],
   "source": [
    "plt.scatter(sales.Item_Weight, sales.Item_Outlet_Sales)\n",
    "plt.figure(figsize=[10,8])\n",
    "plt.show()"
   ]
  },
  {
   "cell_type": "code",
   "execution_count": 42,
   "metadata": {},
   "outputs": [
    {
     "data": {
      "image/png": "[encoded data removed]",
      "text/plain": [
       "<Figure size 432x288 with 1 Axes>"
      ]
     },
     "metadata": {
      "needs_background": "light"
     },
     "output_type": "display_data"
    },
    {
     "data": {
      "text/plain": [
       "<Figure size 720x576 with 0 Axes>"
      ]
     },
     "metadata": {},
     "output_type": "display_data"
    }
   ],
   "source": [
    "plt.scatter(sales.Item_Visibility, sales.Item_Outlet_Sales)\n",
    "plt.figure(figsize=[10,8])\n",
    "plt.show()"
   ]
  },
  {
   "cell_type": "markdown",
   "metadata": {},
   "source": [
    "**Item visibility has some null values**"
   ]
  },
  {
   "cell_type": "code",
   "execution_count": 43,
   "metadata": {},
   "outputs": [
    {
     "data": {
      "image/png": "[encoded data removed]",
      "text/plain": [
       "<Figure size 432x288 with 1 Axes>"
      ]
     },
     "metadata": {
      "needs_background": "light"
     },
     "output_type": "display_data"
    },
    {
     "data": {
      "text/plain": [
       "<Figure size 720x576 with 0 Axes>"
      ]
     },
     "metadata": {},
     "output_type": "display_data"
    }
   ],
   "source": [
    "plt.scatter(sales.Item_MRP, sales.Item_Outlet_Sales, color='orange')\n",
    "plt.figure(figsize=[10,8])\n",
    "plt.show()"
   ]
  },
  {
   "cell_type": "code",
   "execution_count": 44,
   "metadata": {},
   "outputs": [
    {
     "data": {
      "image/png": "[encoded data removed]",
      "text/plain": [
       "<Figure size 432x288 with 1 Axes>"
      ]
     },
     "metadata": {
      "needs_background": "light"
     },
     "output_type": "display_data"
    },
    {
     "data": {
      "text/plain": [
       "<Figure size 720x576 with 0 Axes>"
      ]
     },
     "metadata": {},
     "output_type": "display_data"
    }
   ],
   "source": [
    "plt.scatter(sales.Profit,sales.Item_Outlet_Sales)\n",
    "plt.figure(figsize=[10,8])\n",
    "plt.show()"
   ]
  },
  {
   "cell_type": "markdown",
   "metadata": {},
   "source": [
    "### Bivariate Analysis\n",
    "**Cat vs Num**"
   ]
  },
  {
   "cell_type": "code",
   "execution_count": 45,
   "metadata": {},
   "outputs": [
    {
     "data": {
      "text/plain": [
       "<AxesSubplot:xlabel='Item_Fat_Content', ylabel='Item_Outlet_Sales'>"
      ]
     },
     "execution_count": 45,
     "metadata": {},
     "output_type": "execute_result"
    },
    {
     "data": {
      "image/png": "[encoded data removed]",
      "text/plain": [
       "<Figure size 432x288 with 1 Axes>"
      ]
     },
     "metadata": {
      "needs_background": "light"
     },
     "output_type": "display_data"
    }
   ],
   "source": [
    "sns.boxplot(x=sales.Item_Fat_Content, y=sales.Item_Outlet_Sales)"
   ]
  },
  {
   "cell_type": "code",
   "execution_count": 46,
   "metadata": {},
   "outputs": [
    {
     "data": {
      "text/html": [
       "<div>\n",
       "<style scoped>\n",
       "    .dataframe tbody tr th:only-of-type {\n",
       "        vertical-align: middle;\n",
       "    }\n",
       "\n",
       "    .dataframe tbody tr th {\n",
       "        vertical-align: top;\n",
       "    }\n",
       "\n",
       "    .dataframe thead th {\n",
       "        text-align: right;\n",
       "    }\n",
       "</style>\n",
       "<table border=\"1\" class=\"dataframe\">\n",
       "  <thead>\n",
       "    <tr style=\"text-align: right;\">\n",
       "      <th></th>\n",
       "      <th>count</th>\n",
       "      <th>mean</th>\n",
       "      <th>std</th>\n",
       "      <th>min</th>\n",
       "      <th>25%</th>\n",
       "      <th>50%</th>\n",
       "      <th>75%</th>\n",
       "      <th>max</th>\n",
       "    </tr>\n",
       "    <tr>\n",
       "      <th>Item_Fat_Content</th>\n",
       "      <th></th>\n",
       "      <th></th>\n",
       "      <th></th>\n",
       "      <th></th>\n",
       "      <th></th>\n",
       "      <th></th>\n",
       "      <th></th>\n",
       "      <th></th>\n",
       "    </tr>\n",
       "  </thead>\n",
       "  <tbody>\n",
       "    <tr>\n",
       "      <th>Low Fat</th>\n",
       "      <td>5517.0</td>\n",
       "      <td>2157.711534</td>\n",
       "      <td>1697.973824</td>\n",
       "      <td>33.2900</td>\n",
       "      <td>826.2578</td>\n",
       "      <td>1765.0358</td>\n",
       "      <td>3050.69560</td>\n",
       "      <td>13086.9648</td>\n",
       "    </tr>\n",
       "    <tr>\n",
       "      <th>Regular</th>\n",
       "      <td>3006.0</td>\n",
       "      <td>2224.561170</td>\n",
       "      <td>1721.480865</td>\n",
       "      <td>33.9558</td>\n",
       "      <td>857.5504</td>\n",
       "      <td>1844.5989</td>\n",
       "      <td>3198.66965</td>\n",
       "      <td>12117.5600</td>\n",
       "    </tr>\n",
       "  </tbody>\n",
       "</table>\n",
       "</div>"
      ],
      "text/plain": [
       "                   count         mean          std      min       25%  \\\n",
       "Item_Fat_Content                                                        \n",
       "Low Fat           5517.0  2157.711534  1697.973824  33.2900  826.2578   \n",
       "Regular           3006.0  2224.561170  1721.480865  33.9558  857.5504   \n",
       "\n",
       "                        50%         75%         max  \n",
       "Item_Fat_Content                                     \n",
       "Low Fat           1765.0358  3050.69560  13086.9648  \n",
       "Regular           1844.5989  3198.66965  12117.5600  "
      ]
     },
     "execution_count": 46,
     "metadata": {},
     "output_type": "execute_result"
    }
   ],
   "source": [
    "# Generating summary stats of boxplot above\n",
    "\n",
    "sales.groupby('Item_Fat_Content')['Item_Outlet_Sales'].describe()"
   ]
  },
  {
   "cell_type": "code",
   "execution_count": 47,
   "metadata": {},
   "outputs": [
    {
     "data": {
      "text/plain": [
       "Index(['Item_Identifier', 'Item_Weight', 'Item_Fat_Content', 'Item_Visibility',\n",
       "       'Item_Type', 'Item_MRP', 'Outlet_Identifier',\n",
       "       'Outlet_Establishment_Year', 'Outlet_Size', 'Outlet_Location_Type',\n",
       "       'Outlet_Type', 'Item_Outlet_Sales', 'Profit'],\n",
       "      dtype='object')"
      ]
     },
     "execution_count": 47,
     "metadata": {},
     "output_type": "execute_result"
    }
   ],
   "source": [
    "sales.columns"
   ]
  },
  {
   "cell_type": "code",
   "execution_count": 48,
   "metadata": {},
   "outputs": [
    {
     "data": {
      "image/png": "[encoded data removed]",
      "text/plain": [
       "<Figure size 432x288 with 1 Axes>"
      ]
     },
     "metadata": {
      "needs_background": "light"
     },
     "output_type": "display_data"
    }
   ],
   "source": [
    "sns.boxplot(x=sales.Item_Type, y=sales.Item_Outlet_Sales)\n",
    "plt.xticks(rotation=90)\n",
    "plt.show()"
   ]
  },
  {
   "cell_type": "code",
   "execution_count": 49,
   "metadata": {},
   "outputs": [
    {
     "data": {
      "text/html": [
       "<div>\n",
       "<style scoped>\n",
       "    .dataframe tbody tr th:only-of-type {\n",
       "        vertical-align: middle;\n",
       "    }\n",
       "\n",
       "    .dataframe tbody tr th {\n",
       "        vertical-align: top;\n",
       "    }\n",
       "\n",
       "    .dataframe thead th {\n",
       "        text-align: right;\n",
       "    }\n",
       "</style>\n",
       "<table border=\"1\" class=\"dataframe\">\n",
       "  <thead>\n",
       "    <tr style=\"text-align: right;\">\n",
       "      <th></th>\n",
       "      <th>count</th>\n",
       "      <th>mean</th>\n",
       "      <th>std</th>\n",
       "      <th>min</th>\n",
       "      <th>25%</th>\n",
       "      <th>50%</th>\n",
       "      <th>75%</th>\n",
       "      <th>max</th>\n",
       "    </tr>\n",
       "    <tr>\n",
       "      <th>Item_Type</th>\n",
       "      <th></th>\n",
       "      <th></th>\n",
       "      <th></th>\n",
       "      <th></th>\n",
       "      <th></th>\n",
       "      <th></th>\n",
       "      <th></th>\n",
       "      <th></th>\n",
       "    </tr>\n",
       "  </thead>\n",
       "  <tbody>\n",
       "    <tr>\n",
       "      <th>Baking Goods</th>\n",
       "      <td>648.0</td>\n",
       "      <td>1952.971207</td>\n",
       "      <td>1546.788045</td>\n",
       "      <td>37.2848</td>\n",
       "      <td>705.08220</td>\n",
       "      <td>1577.9460</td>\n",
       "      <td>2823.82425</td>\n",
       "      <td>7931.6754</td>\n",
       "    </tr>\n",
       "    <tr>\n",
       "      <th>Breads</th>\n",
       "      <td>251.0</td>\n",
       "      <td>2204.132226</td>\n",
       "      <td>1644.235914</td>\n",
       "      <td>35.2874</td>\n",
       "      <td>968.73900</td>\n",
       "      <td>1860.2452</td>\n",
       "      <td>3145.90500</td>\n",
       "      <td>8958.3390</td>\n",
       "    </tr>\n",
       "    <tr>\n",
       "      <th>Breakfast</th>\n",
       "      <td>110.0</td>\n",
       "      <td>2111.808651</td>\n",
       "      <td>1911.693586</td>\n",
       "      <td>39.9480</td>\n",
       "      <td>679.11600</td>\n",
       "      <td>1554.6430</td>\n",
       "      <td>2970.30025</td>\n",
       "      <td>8209.3140</td>\n",
       "    </tr>\n",
       "    <tr>\n",
       "      <th>Canned</th>\n",
       "      <td>649.0</td>\n",
       "      <td>2225.194904</td>\n",
       "      <td>1645.235638</td>\n",
       "      <td>37.9506</td>\n",
       "      <td>952.09400</td>\n",
       "      <td>1860.2452</td>\n",
       "      <td>3101.29640</td>\n",
       "      <td>10306.5840</td>\n",
       "    </tr>\n",
       "    <tr>\n",
       "      <th>Dairy</th>\n",
       "      <td>682.0</td>\n",
       "      <td>2232.542597</td>\n",
       "      <td>1884.404698</td>\n",
       "      <td>40.6138</td>\n",
       "      <td>788.97300</td>\n",
       "      <td>1650.8511</td>\n",
       "      <td>3296.20935</td>\n",
       "      <td>10256.6490</td>\n",
       "    </tr>\n",
       "    <tr>\n",
       "      <th>Frozen Foods</th>\n",
       "      <td>856.0</td>\n",
       "      <td>2132.867744</td>\n",
       "      <td>1724.777720</td>\n",
       "      <td>36.6190</td>\n",
       "      <td>808.94700</td>\n",
       "      <td>1687.1372</td>\n",
       "      <td>3079.49145</td>\n",
       "      <td>9678.0688</td>\n",
       "    </tr>\n",
       "    <tr>\n",
       "      <th>Fruits and Vegetables</th>\n",
       "      <td>1232.0</td>\n",
       "      <td>2289.009592</td>\n",
       "      <td>1799.503459</td>\n",
       "      <td>45.2744</td>\n",
       "      <td>884.84820</td>\n",
       "      <td>1830.9500</td>\n",
       "      <td>3227.13260</td>\n",
       "      <td>12117.5600</td>\n",
       "    </tr>\n",
       "    <tr>\n",
       "      <th>Hard Drinks</th>\n",
       "      <td>214.0</td>\n",
       "      <td>2139.221622</td>\n",
       "      <td>1606.191587</td>\n",
       "      <td>37.9506</td>\n",
       "      <td>834.91320</td>\n",
       "      <td>1816.6353</td>\n",
       "      <td>3071.33540</td>\n",
       "      <td>7843.1240</td>\n",
       "    </tr>\n",
       "    <tr>\n",
       "      <th>Health and Hygiene</th>\n",
       "      <td>520.0</td>\n",
       "      <td>2010.000265</td>\n",
       "      <td>1553.633063</td>\n",
       "      <td>34.6216</td>\n",
       "      <td>758.84555</td>\n",
       "      <td>1669.4935</td>\n",
       "      <td>2884.57850</td>\n",
       "      <td>9779.9362</td>\n",
       "    </tr>\n",
       "    <tr>\n",
       "      <th>Household</th>\n",
       "      <td>910.0</td>\n",
       "      <td>2258.784300</td>\n",
       "      <td>1692.245757</td>\n",
       "      <td>33.2900</td>\n",
       "      <td>853.38915</td>\n",
       "      <td>1981.4208</td>\n",
       "      <td>3236.78670</td>\n",
       "      <td>13086.9648</td>\n",
       "    </tr>\n",
       "    <tr>\n",
       "      <th>Meat</th>\n",
       "      <td>425.0</td>\n",
       "      <td>2158.977911</td>\n",
       "      <td>1695.231081</td>\n",
       "      <td>47.9376</td>\n",
       "      <td>782.98080</td>\n",
       "      <td>1829.6184</td>\n",
       "      <td>3036.04800</td>\n",
       "      <td>9390.4432</td>\n",
       "    </tr>\n",
       "    <tr>\n",
       "      <th>Others</th>\n",
       "      <td>169.0</td>\n",
       "      <td>1926.139702</td>\n",
       "      <td>1431.860471</td>\n",
       "      <td>39.9480</td>\n",
       "      <td>790.97040</td>\n",
       "      <td>1713.7692</td>\n",
       "      <td>2719.79300</td>\n",
       "      <td>6008.8450</td>\n",
       "    </tr>\n",
       "    <tr>\n",
       "      <th>Seafood</th>\n",
       "      <td>64.0</td>\n",
       "      <td>2326.065928</td>\n",
       "      <td>1842.988719</td>\n",
       "      <td>149.8050</td>\n",
       "      <td>473.38380</td>\n",
       "      <td>2055.3246</td>\n",
       "      <td>3589.32780</td>\n",
       "      <td>6503.5344</td>\n",
       "    </tr>\n",
       "    <tr>\n",
       "      <th>Snack Foods</th>\n",
       "      <td>1200.0</td>\n",
       "      <td>2277.321739</td>\n",
       "      <td>1705.121755</td>\n",
       "      <td>33.9558</td>\n",
       "      <td>918.80400</td>\n",
       "      <td>1944.1360</td>\n",
       "      <td>3143.57470</td>\n",
       "      <td>10993.6896</td>\n",
       "    </tr>\n",
       "    <tr>\n",
       "      <th>Soft Drinks</th>\n",
       "      <td>445.0</td>\n",
       "      <td>2006.511735</td>\n",
       "      <td>1674.249752</td>\n",
       "      <td>33.2900</td>\n",
       "      <td>771.66220</td>\n",
       "      <td>1518.0240</td>\n",
       "      <td>2759.07520</td>\n",
       "      <td>9554.2300</td>\n",
       "    </tr>\n",
       "    <tr>\n",
       "      <th>Starchy Foods</th>\n",
       "      <td>148.0</td>\n",
       "      <td>2374.332773</td>\n",
       "      <td>1773.945328</td>\n",
       "      <td>58.5904</td>\n",
       "      <td>958.75200</td>\n",
       "      <td>1968.1048</td>\n",
       "      <td>3592.65680</td>\n",
       "      <td>8132.0812</td>\n",
       "    </tr>\n",
       "  </tbody>\n",
       "</table>\n",
       "</div>"
      ],
      "text/plain": [
       "                        count         mean          std       min        25%  \\\n",
       "Item_Type                                                                      \n",
       "Baking Goods            648.0  1952.971207  1546.788045   37.2848  705.08220   \n",
       "Breads                  251.0  2204.132226  1644.235914   35.2874  968.73900   \n",
       "Breakfast               110.0  2111.808651  1911.693586   39.9480  679.11600   \n",
       "Canned                  649.0  2225.194904  1645.235638   37.9506  952.09400   \n",
       "Dairy                   682.0  2232.542597  1884.404698   40.6138  788.97300   \n",
       "Frozen Foods            856.0  2132.867744  1724.777720   36.6190  808.94700   \n",
       "Fruits and Vegetables  1232.0  2289.009592  1799.503459   45.2744  884.84820   \n",
       "Hard Drinks             214.0  2139.221622  1606.191587   37.9506  834.91320   \n",
       "Health and Hygiene      520.0  2010.000265  1553.633063   34.6216  758.84555   \n",
       "Household               910.0  2258.784300  1692.245757   33.2900  853.38915   \n",
       "Meat                    425.0  2158.977911  1695.231081   47.9376  782.98080   \n",
       "Others                  169.0  1926.139702  1431.860471   39.9480  790.97040   \n",
       "Seafood                  64.0  2326.065928  1842.988719  149.8050  473.38380   \n",
       "Snack Foods            1200.0  2277.321739  1705.121755   33.9558  918.80400   \n",
       "Soft Drinks             445.0  2006.511735  1674.249752   33.2900  771.66220   \n",
       "Starchy Foods           148.0  2374.332773  1773.945328   58.5904  958.75200   \n",
       "\n",
       "                             50%         75%         max  \n",
       "Item_Type                                                 \n",
       "Baking Goods           1577.9460  2823.82425   7931.6754  \n",
       "Breads                 1860.2452  3145.90500   8958.3390  \n",
       "Breakfast              1554.6430  2970.30025   8209.3140  \n",
       "Canned                 1860.2452  3101.29640  10306.5840  \n",
       "Dairy                  1650.8511  3296.20935  10256.6490  \n",
       "Frozen Foods           1687.1372  3079.49145   9678.0688  \n",
       "Fruits and Vegetables  1830.9500  3227.13260  12117.5600  \n",
       "Hard Drinks            1816.6353  3071.33540   7843.1240  \n",
       "Health and Hygiene     1669.4935  2884.57850   9779.9362  \n",
       "Household              1981.4208  3236.78670  13086.9648  \n",
       "Meat                   1829.6184  3036.04800   9390.4432  \n",
       "Others                 1713.7692  2719.79300   6008.8450  \n",
       "Seafood                2055.3246  3589.32780   6503.5344  \n",
       "Snack Foods            1944.1360  3143.57470  10993.6896  \n",
       "Soft Drinks            1518.0240  2759.07520   9554.2300  \n",
       "Starchy Foods          1968.1048  3592.65680   8132.0812  "
      ]
     },
     "execution_count": 49,
     "metadata": {},
     "output_type": "execute_result"
    }
   ],
   "source": [
    "sales.groupby('Item_Type')['Item_Outlet_Sales'].describe()"
   ]
  },
  {
   "cell_type": "code",
   "execution_count": 50,
   "metadata": {},
   "outputs": [
    {
     "data": {
      "text/plain": [
       "Index(['Item_Identifier', 'Item_Weight', 'Item_Fat_Content', 'Item_Visibility',\n",
       "       'Item_Type', 'Item_MRP', 'Outlet_Identifier',\n",
       "       'Outlet_Establishment_Year', 'Outlet_Size', 'Outlet_Location_Type',\n",
       "       'Outlet_Type', 'Item_Outlet_Sales', 'Profit'],\n",
       "      dtype='object')"
      ]
     },
     "execution_count": 50,
     "metadata": {},
     "output_type": "execute_result"
    }
   ],
   "source": [
    "sales.columns"
   ]
  },
  {
   "cell_type": "code",
   "execution_count": 51,
   "metadata": {},
   "outputs": [
    {
     "data": {
      "image/png": "[encoded data removed]",
      "text/plain": [
       "<Figure size 432x288 with 1 Axes>"
      ]
     },
     "metadata": {
      "needs_background": "light"
     },
     "output_type": "display_data"
    }
   ],
   "source": [
    "sns.boxplot(x=sales.Outlet_Identifier, y=sales.Item_Outlet_Sales)\n",
    "plt.xticks(rotation=90)\n",
    "plt.show()"
   ]
  },
  {
   "cell_type": "code",
   "execution_count": 52,
   "metadata": {},
   "outputs": [
    {
     "data": {
      "image/png": "[encoded data removed]",
      "text/plain": [
       "<Figure size 432x288 with 1 Axes>"
      ]
     },
     "metadata": {
      "needs_background": "light"
     },
     "output_type": "display_data"
    }
   ],
   "source": [
    "sns.boxplot(x=sales.Outlet_Size, y=sales.Item_Outlet_Sales)\n",
    "plt.xticks(rotation=90)\n",
    "plt.show()"
   ]
  },
  {
   "cell_type": "code",
   "execution_count": 53,
   "metadata": {},
   "outputs": [
    {
     "data": {
      "text/plain": [
       "Medium    935\n",
       "Name: Outlet_Size, dtype: int64"
      ]
     },
     "execution_count": 53,
     "metadata": {},
     "output_type": "execute_result"
    }
   ],
   "source": [
    "sales.loc[sales.Outlet_Identifier=='OUT027','Outlet_Size'].value_counts()"
   ]
  },
  {
   "cell_type": "code",
   "execution_count": 54,
   "metadata": {},
   "outputs": [
    {
     "data": {
      "text/plain": [
       "Index(['Item_Identifier', 'Item_Weight', 'Item_Fat_Content', 'Item_Visibility',\n",
       "       'Item_Type', 'Item_MRP', 'Outlet_Identifier',\n",
       "       'Outlet_Establishment_Year', 'Outlet_Size', 'Outlet_Location_Type',\n",
       "       'Outlet_Type', 'Item_Outlet_Sales', 'Profit'],\n",
       "      dtype='object')"
      ]
     },
     "execution_count": 54,
     "metadata": {},
     "output_type": "execute_result"
    }
   ],
   "source": [
    "sales.columns"
   ]
  },
  {
   "cell_type": "code",
   "execution_count": 55,
   "metadata": {},
   "outputs": [
    {
     "data": {
      "image/png": "[encoded data removed]",
      "text/plain": [
       "<Figure size 432x288 with 1 Axes>"
      ]
     },
     "metadata": {
      "needs_background": "light"
     },
     "output_type": "display_data"
    }
   ],
   "source": [
    "sns.boxplot(x=sales.Outlet_Type, y=sales.Item_Outlet_Sales)\n",
    "plt.xticks(rotation=90)\n",
    "plt.show()"
   ]
  },
  {
   "cell_type": "code",
   "execution_count": 56,
   "metadata": {},
   "outputs": [
    {
     "data": {
      "text/html": [
       "<div>\n",
       "<style scoped>\n",
       "    .dataframe tbody tr th:only-of-type {\n",
       "        vertical-align: middle;\n",
       "    }\n",
       "\n",
       "    .dataframe tbody tr th {\n",
       "        vertical-align: top;\n",
       "    }\n",
       "\n",
       "    .dataframe thead th {\n",
       "        text-align: right;\n",
       "    }\n",
       "</style>\n",
       "<table border=\"1\" class=\"dataframe\">\n",
       "  <thead>\n",
       "    <tr style=\"text-align: right;\">\n",
       "      <th></th>\n",
       "      <th>count</th>\n",
       "      <th>mean</th>\n",
       "      <th>std</th>\n",
       "      <th>min</th>\n",
       "      <th>25%</th>\n",
       "      <th>50%</th>\n",
       "      <th>75%</th>\n",
       "      <th>max</th>\n",
       "    </tr>\n",
       "    <tr>\n",
       "      <th>Outlet_Type</th>\n",
       "      <th></th>\n",
       "      <th></th>\n",
       "      <th></th>\n",
       "      <th></th>\n",
       "      <th></th>\n",
       "      <th></th>\n",
       "      <th></th>\n",
       "      <th></th>\n",
       "    </tr>\n",
       "  </thead>\n",
       "  <tbody>\n",
       "    <tr>\n",
       "      <th>Grocery Store</th>\n",
       "      <td>1083.0</td>\n",
       "      <td>339.828500</td>\n",
       "      <td>260.851582</td>\n",
       "      <td>33.2900</td>\n",
       "      <td>153.79980</td>\n",
       "      <td>256.9988</td>\n",
       "      <td>458.73620</td>\n",
       "      <td>1775.6886</td>\n",
       "    </tr>\n",
       "    <tr>\n",
       "      <th>Supermarket Type1</th>\n",
       "      <td>5577.0</td>\n",
       "      <td>2316.181148</td>\n",
       "      <td>1515.965558</td>\n",
       "      <td>73.2380</td>\n",
       "      <td>1151.16820</td>\n",
       "      <td>1990.7420</td>\n",
       "      <td>3135.91800</td>\n",
       "      <td>10256.6490</td>\n",
       "    </tr>\n",
       "    <tr>\n",
       "      <th>Supermarket Type2</th>\n",
       "      <td>928.0</td>\n",
       "      <td>1995.498739</td>\n",
       "      <td>1375.932889</td>\n",
       "      <td>69.2432</td>\n",
       "      <td>981.55565</td>\n",
       "      <td>1655.1788</td>\n",
       "      <td>2702.64865</td>\n",
       "      <td>6768.5228</td>\n",
       "    </tr>\n",
       "    <tr>\n",
       "      <th>Supermarket Type3</th>\n",
       "      <td>935.0</td>\n",
       "      <td>3694.038558</td>\n",
       "      <td>2127.760054</td>\n",
       "      <td>241.6854</td>\n",
       "      <td>2044.33890</td>\n",
       "      <td>3364.9532</td>\n",
       "      <td>4975.52340</td>\n",
       "      <td>13086.9648</td>\n",
       "    </tr>\n",
       "  </tbody>\n",
       "</table>\n",
       "</div>"
      ],
      "text/plain": [
       "                    count         mean          std       min         25%  \\\n",
       "Outlet_Type                                                                 \n",
       "Grocery Store      1083.0   339.828500   260.851582   33.2900   153.79980   \n",
       "Supermarket Type1  5577.0  2316.181148  1515.965558   73.2380  1151.16820   \n",
       "Supermarket Type2   928.0  1995.498739  1375.932889   69.2432   981.55565   \n",
       "Supermarket Type3   935.0  3694.038558  2127.760054  241.6854  2044.33890   \n",
       "\n",
       "                         50%         75%         max  \n",
       "Outlet_Type                                           \n",
       "Grocery Store       256.9988   458.73620   1775.6886  \n",
       "Supermarket Type1  1990.7420  3135.91800  10256.6490  \n",
       "Supermarket Type2  1655.1788  2702.64865   6768.5228  \n",
       "Supermarket Type3  3364.9532  4975.52340  13086.9648  "
      ]
     },
     "execution_count": 56,
     "metadata": {},
     "output_type": "execute_result"
    }
   ],
   "source": [
    "sales.groupby(\"Outlet_Type\")['Item_Outlet_Sales'].describe()"
   ]
  },
  {
   "cell_type": "markdown",
   "metadata": {},
   "source": [
    "## Summary\n",
    "\n",
    "* S3 has highest sales.\n",
    "* out027 Medium Size Outlet has very high sales\n",
    "* outlet Location Type has missing value\n",
    "* OUT027 is a S3 Outlet\n",
    "* Low fat content have higher sales in comparison to regular one.\n",
    "* Item_Type - Household,Dairy,Fruits and Veggis, Starchy Food, Frozen Food etc have quit higher sales.\n",
    "* Seafood has no Outlier in sales and just because the price is higher and thus, it reflect high score.\n",
    "* Generally, Medium Size Outlets have a very high scales.\n",
    "* Item Visibility and Item Weight have missing values.\n",
    "* Item MRP shows a high cluster of values which are centered at 25 dollars, 100 and 250 dollars approximately."
   ]
  },
  {
   "cell_type": "markdown",
   "metadata": {},
   "source": [
    "## Missing Values\n",
    "\n",
    "* Numerical Values - Median Imputation is the best bet possible.\n",
    "* Categorical Variable - Mode Imputation is good.\n",
    "\n",
    "**Missing value imputaion basis pattern identification**\n",
    "\n",
    "However, the best way ti deal with the missing values is to look into data and find out the optimal pattern that can be\n",
    "leveraged to impute the missing values."
   ]
  },
  {
   "cell_type": "code",
   "execution_count": 57,
   "metadata": {},
   "outputs": [
    {
     "data": {
      "text/plain": [
       "Item_Identifier                 0\n",
       "Item_Weight                   749\n",
       "Item_Fat_Content                0\n",
       "Item_Visibility                 0\n",
       "Item_Type                       0\n",
       "Item_MRP                        0\n",
       "Outlet_Identifier               0\n",
       "Outlet_Establishment_Year       0\n",
       "Outlet_Size                  2410\n",
       "Outlet_Location_Type         2050\n",
       "Outlet_Type                     0\n",
       "Item_Outlet_Sales               0\n",
       "Profit                          0\n",
       "dtype: int64"
      ]
     },
     "execution_count": 57,
     "metadata": {},
     "output_type": "execute_result"
    }
   ],
   "source": [
    "sales.isnull().sum()"
   ]
  },
  {
   "cell_type": "code",
   "execution_count": 58,
   "metadata": {},
   "outputs": [
    {
     "data": {
      "text/html": [
       "<div>\n",
       "<style scoped>\n",
       "    .dataframe tbody tr th:only-of-type {\n",
       "        vertical-align: middle;\n",
       "    }\n",
       "\n",
       "    .dataframe tbody tr th {\n",
       "        vertical-align: top;\n",
       "    }\n",
       "\n",
       "    .dataframe thead th {\n",
       "        text-align: right;\n",
       "    }\n",
       "</style>\n",
       "<table border=\"1\" class=\"dataframe\">\n",
       "  <thead>\n",
       "    <tr style=\"text-align: right;\">\n",
       "      <th></th>\n",
       "      <th>count</th>\n",
       "      <th>mean</th>\n",
       "      <th>std</th>\n",
       "      <th>min</th>\n",
       "      <th>25%</th>\n",
       "      <th>50%</th>\n",
       "      <th>75%</th>\n",
       "      <th>max</th>\n",
       "    </tr>\n",
       "    <tr>\n",
       "      <th>Item_Type</th>\n",
       "      <th></th>\n",
       "      <th></th>\n",
       "      <th></th>\n",
       "      <th></th>\n",
       "      <th></th>\n",
       "      <th></th>\n",
       "      <th></th>\n",
       "      <th></th>\n",
       "    </tr>\n",
       "  </thead>\n",
       "  <tbody>\n",
       "    <tr>\n",
       "      <th>Baking Goods</th>\n",
       "      <td>587.0</td>\n",
       "      <td>11.210443</td>\n",
       "      <td>5.725596</td>\n",
       "      <td>0.0</td>\n",
       "      <td>7.2200</td>\n",
       "      <td>10.8000</td>\n",
       "      <td>15.550</td>\n",
       "      <td>20.85</td>\n",
       "    </tr>\n",
       "    <tr>\n",
       "      <th>Breads</th>\n",
       "      <td>227.0</td>\n",
       "      <td>10.197247</td>\n",
       "      <td>5.430212</td>\n",
       "      <td>0.0</td>\n",
       "      <td>6.5500</td>\n",
       "      <td>10.1950</td>\n",
       "      <td>14.500</td>\n",
       "      <td>20.85</td>\n",
       "    </tr>\n",
       "    <tr>\n",
       "      <th>Breakfast</th>\n",
       "      <td>103.0</td>\n",
       "      <td>11.032718</td>\n",
       "      <td>6.421345</td>\n",
       "      <td>0.0</td>\n",
       "      <td>7.8800</td>\n",
       "      <td>9.0000</td>\n",
       "      <td>16.500</td>\n",
       "      <td>21.10</td>\n",
       "    </tr>\n",
       "    <tr>\n",
       "      <th>Canned</th>\n",
       "      <td>589.0</td>\n",
       "      <td>11.261078</td>\n",
       "      <td>5.570581</td>\n",
       "      <td>0.0</td>\n",
       "      <td>7.5000</td>\n",
       "      <td>11.1000</td>\n",
       "      <td>15.850</td>\n",
       "      <td>21.35</td>\n",
       "    </tr>\n",
       "    <tr>\n",
       "      <th>Dairy</th>\n",
       "      <td>620.0</td>\n",
       "      <td>12.256702</td>\n",
       "      <td>5.865431</td>\n",
       "      <td>0.0</td>\n",
       "      <td>7.9350</td>\n",
       "      <td>12.9500</td>\n",
       "      <td>17.250</td>\n",
       "      <td>20.70</td>\n",
       "    </tr>\n",
       "    <tr>\n",
       "      <th>Frozen Foods</th>\n",
       "      <td>781.0</td>\n",
       "      <td>11.829129</td>\n",
       "      <td>5.564991</td>\n",
       "      <td>0.0</td>\n",
       "      <td>7.9300</td>\n",
       "      <td>12.1500</td>\n",
       "      <td>16.200</td>\n",
       "      <td>20.85</td>\n",
       "    </tr>\n",
       "    <tr>\n",
       "      <th>Fruits and Vegetables</th>\n",
       "      <td>1127.0</td>\n",
       "      <td>11.957445</td>\n",
       "      <td>5.838902</td>\n",
       "      <td>0.0</td>\n",
       "      <td>7.7525</td>\n",
       "      <td>12.5000</td>\n",
       "      <td>16.600</td>\n",
       "      <td>21.35</td>\n",
       "    </tr>\n",
       "    <tr>\n",
       "      <th>Hard Drinks</th>\n",
       "      <td>194.0</td>\n",
       "      <td>10.753918</td>\n",
       "      <td>4.892196</td>\n",
       "      <td>0.0</td>\n",
       "      <td>8.0600</td>\n",
       "      <td>9.5000</td>\n",
       "      <td>14.700</td>\n",
       "      <td>19.70</td>\n",
       "    </tr>\n",
       "    <tr>\n",
       "      <th>Health and Hygiene</th>\n",
       "      <td>476.0</td>\n",
       "      <td>11.872258</td>\n",
       "      <td>5.787862</td>\n",
       "      <td>0.0</td>\n",
       "      <td>8.4200</td>\n",
       "      <td>11.6000</td>\n",
       "      <td>16.750</td>\n",
       "      <td>21.25</td>\n",
       "    </tr>\n",
       "    <tr>\n",
       "      <th>Household</th>\n",
       "      <td>843.0</td>\n",
       "      <td>12.051026</td>\n",
       "      <td>6.211860</td>\n",
       "      <td>0.0</td>\n",
       "      <td>7.6700</td>\n",
       "      <td>12.3500</td>\n",
       "      <td>17.650</td>\n",
       "      <td>21.25</td>\n",
       "    </tr>\n",
       "    <tr>\n",
       "      <th>Meat</th>\n",
       "      <td>383.0</td>\n",
       "      <td>11.277924</td>\n",
       "      <td>6.049486</td>\n",
       "      <td>0.0</td>\n",
       "      <td>6.7375</td>\n",
       "      <td>11.8000</td>\n",
       "      <td>16.175</td>\n",
       "      <td>21.25</td>\n",
       "    </tr>\n",
       "    <tr>\n",
       "      <th>Others</th>\n",
       "      <td>151.0</td>\n",
       "      <td>12.568874</td>\n",
       "      <td>5.695601</td>\n",
       "      <td>0.0</td>\n",
       "      <td>9.3950</td>\n",
       "      <td>13.1000</td>\n",
       "      <td>17.550</td>\n",
       "      <td>20.50</td>\n",
       "    </tr>\n",
       "    <tr>\n",
       "      <th>Seafood</th>\n",
       "      <td>56.0</td>\n",
       "      <td>11.432054</td>\n",
       "      <td>6.347031</td>\n",
       "      <td>0.0</td>\n",
       "      <td>7.4200</td>\n",
       "      <td>11.0225</td>\n",
       "      <td>17.750</td>\n",
       "      <td>20.75</td>\n",
       "    </tr>\n",
       "    <tr>\n",
       "      <th>Snack Foods</th>\n",
       "      <td>1095.0</td>\n",
       "      <td>11.718744</td>\n",
       "      <td>5.780170</td>\n",
       "      <td>0.0</td>\n",
       "      <td>7.6400</td>\n",
       "      <td>11.8000</td>\n",
       "      <td>16.750</td>\n",
       "      <td>21.25</td>\n",
       "    </tr>\n",
       "    <tr>\n",
       "      <th>Soft Drinks</th>\n",
       "      <td>402.0</td>\n",
       "      <td>11.022264</td>\n",
       "      <td>5.211208</td>\n",
       "      <td>0.0</td>\n",
       "      <td>7.5350</td>\n",
       "      <td>10.8000</td>\n",
       "      <td>15.350</td>\n",
       "      <td>20.75</td>\n",
       "    </tr>\n",
       "    <tr>\n",
       "      <th>Starchy Foods</th>\n",
       "      <td>140.0</td>\n",
       "      <td>12.712821</td>\n",
       "      <td>5.238811</td>\n",
       "      <td>0.0</td>\n",
       "      <td>10.1950</td>\n",
       "      <td>12.8250</td>\n",
       "      <td>16.700</td>\n",
       "      <td>21.20</td>\n",
       "    </tr>\n",
       "  </tbody>\n",
       "</table>\n",
       "</div>"
      ],
      "text/plain": [
       "                        count       mean       std  min      25%      50%  \\\n",
       "Item_Type                                                                   \n",
       "Baking Goods            587.0  11.210443  5.725596  0.0   7.2200  10.8000   \n",
       "Breads                  227.0  10.197247  5.430212  0.0   6.5500  10.1950   \n",
       "Breakfast               103.0  11.032718  6.421345  0.0   7.8800   9.0000   \n",
       "Canned                  589.0  11.261078  5.570581  0.0   7.5000  11.1000   \n",
       "Dairy                   620.0  12.256702  5.865431  0.0   7.9350  12.9500   \n",
       "Frozen Foods            781.0  11.829129  5.564991  0.0   7.9300  12.1500   \n",
       "Fruits and Vegetables  1127.0  11.957445  5.838902  0.0   7.7525  12.5000   \n",
       "Hard Drinks             194.0  10.753918  4.892196  0.0   8.0600   9.5000   \n",
       "Health and Hygiene      476.0  11.872258  5.787862  0.0   8.4200  11.6000   \n",
       "Household               843.0  12.051026  6.211860  0.0   7.6700  12.3500   \n",
       "Meat                    383.0  11.277924  6.049486  0.0   6.7375  11.8000   \n",
       "Others                  151.0  12.568874  5.695601  0.0   9.3950  13.1000   \n",
       "Seafood                  56.0  11.432054  6.347031  0.0   7.4200  11.0225   \n",
       "Snack Foods            1095.0  11.718744  5.780170  0.0   7.6400  11.8000   \n",
       "Soft Drinks             402.0  11.022264  5.211208  0.0   7.5350  10.8000   \n",
       "Starchy Foods           140.0  12.712821  5.238811  0.0  10.1950  12.8250   \n",
       "\n",
       "                          75%    max  \n",
       "Item_Type                             \n",
       "Baking Goods           15.550  20.85  \n",
       "Breads                 14.500  20.85  \n",
       "Breakfast              16.500  21.10  \n",
       "Canned                 15.850  21.35  \n",
       "Dairy                  17.250  20.70  \n",
       "Frozen Foods           16.200  20.85  \n",
       "Fruits and Vegetables  16.600  21.35  \n",
       "Hard Drinks            14.700  19.70  \n",
       "Health and Hygiene     16.750  21.25  \n",
       "Household              17.650  21.25  \n",
       "Meat                   16.175  21.25  \n",
       "Others                 17.550  20.50  \n",
       "Seafood                17.750  20.75  \n",
       "Snack Foods            16.750  21.25  \n",
       "Soft Drinks            15.350  20.75  \n",
       "Starchy Foods          16.700  21.20  "
      ]
     },
     "execution_count": 58,
     "metadata": {},
     "output_type": "execute_result"
    }
   ],
   "source": [
    "sales.groupby('Item_Type')['Item_Weight'].describe()"
   ]
  },
  {
   "cell_type": "code",
   "execution_count": 59,
   "metadata": {},
   "outputs": [
    {
     "data": {
      "text/plain": [
       "0        9.300\n",
       "1        5.920\n",
       "2       17.500\n",
       "3       19.200\n",
       "4        8.930\n",
       "         ...  \n",
       "8518     6.865\n",
       "8519     8.380\n",
       "8520    10.600\n",
       "8521     7.210\n",
       "8522    14.800\n",
       "Name: Item_Weight, Length: 8523, dtype: float64"
      ]
     },
     "execution_count": 59,
     "metadata": {},
     "output_type": "execute_result"
    }
   ],
   "source": [
    "sales.Item_Weight"
   ]
  },
  {
   "cell_type": "code",
   "execution_count": 60,
   "metadata": {
    "scrolled": false
   },
   "outputs": [],
   "source": [
    "rownos= sales.loc[sales.Item_Weight.isnull(),].index\n",
    "ids = sales.loc[sales.Item_Weight.isnull(),]['Item_Identifier']"
   ]
  },
  {
   "cell_type": "code",
   "execution_count": 61,
   "metadata": {},
   "outputs": [
    {
     "data": {
      "text/plain": [
       "(Int64Index([   7,   18,   21,   23,   29,  136,  153,  161,  168,  178,\n",
       "             ...\n",
       "             8372, 8373, 8375, 8383, 8390, 8404, 8405, 8422, 8435, 8442],\n",
       "            dtype='int64', length=749),\n",
       " 7       FDP10\n",
       " 18      DRI11\n",
       " 21      FDW12\n",
       " 23      FDC37\n",
       " 29      FDC14\n",
       "         ...  \n",
       " 8404    DRH39\n",
       " 8405    FDB09\n",
       " 8422    FDD08\n",
       " 8435    FDT48\n",
       " 8442    FDX40\n",
       " Name: Item_Identifier, Length: 749, dtype: object)"
      ]
     },
     "execution_count": 61,
     "metadata": {},
     "output_type": "execute_result"
    }
   ],
   "source": [
    "rownos, ids"
   ]
  },
  {
   "cell_type": "code",
   "execution_count": 62,
   "metadata": {},
   "outputs": [],
   "source": [
    "for i in rownos:\n",
    "    sales.loc[i,'Item_Weight']=sales.loc[sales.Item_Identifier==ids[i],'Item_Weight'].mean()"
   ]
  },
  {
   "cell_type": "code",
   "execution_count": 63,
   "metadata": {},
   "outputs": [
    {
     "data": {
      "text/html": [
       "<div>\n",
       "<style scoped>\n",
       "    .dataframe tbody tr th:only-of-type {\n",
       "        vertical-align: middle;\n",
       "    }\n",
       "\n",
       "    .dataframe tbody tr th {\n",
       "        vertical-align: top;\n",
       "    }\n",
       "\n",
       "    .dataframe thead th {\n",
       "        text-align: right;\n",
       "    }\n",
       "</style>\n",
       "<table border=\"1\" class=\"dataframe\">\n",
       "  <thead>\n",
       "    <tr style=\"text-align: right;\">\n",
       "      <th></th>\n",
       "      <th></th>\n",
       "      <th>Outlet_Type</th>\n",
       "    </tr>\n",
       "    <tr>\n",
       "      <th>Outlet_Size</th>\n",
       "      <th>Outlet_Type</th>\n",
       "      <th></th>\n",
       "    </tr>\n",
       "  </thead>\n",
       "  <tbody>\n",
       "    <tr>\n",
       "      <th>High</th>\n",
       "      <th>Supermarket Type1</th>\n",
       "      <td>932</td>\n",
       "    </tr>\n",
       "    <tr>\n",
       "      <th rowspan=\"3\" valign=\"top\">Medium</th>\n",
       "      <th>Supermarket Type3</th>\n",
       "      <td>935</td>\n",
       "    </tr>\n",
       "    <tr>\n",
       "      <th>Supermarket Type1</th>\n",
       "      <td>930</td>\n",
       "    </tr>\n",
       "    <tr>\n",
       "      <th>Supermarket Type2</th>\n",
       "      <td>928</td>\n",
       "    </tr>\n",
       "    <tr>\n",
       "      <th rowspan=\"2\" valign=\"top\">Small</th>\n",
       "      <th>Supermarket Type1</th>\n",
       "      <td>1860</td>\n",
       "    </tr>\n",
       "    <tr>\n",
       "      <th>Grocery Store</th>\n",
       "      <td>528</td>\n",
       "    </tr>\n",
       "  </tbody>\n",
       "</table>\n",
       "</div>"
      ],
      "text/plain": [
       "                               Outlet_Type\n",
       "Outlet_Size Outlet_Type                   \n",
       "High        Supermarket Type1          932\n",
       "Medium      Supermarket Type3          935\n",
       "            Supermarket Type1          930\n",
       "            Supermarket Type2          928\n",
       "Small       Supermarket Type1         1860\n",
       "            Grocery Store              528"
      ]
     },
     "execution_count": 63,
     "metadata": {},
     "output_type": "execute_result"
    }
   ],
   "source": [
    "pd.DataFrame(sales.groupby(\"Outlet_Size\")[\"Outlet_Type\"].value_counts())"
   ]
  },
  {
   "cell_type": "code",
   "execution_count": 64,
   "metadata": {},
   "outputs": [
    {
     "data": {
      "text/plain": [
       "0    Medium\n",
       "dtype: object"
      ]
     },
     "execution_count": 64,
     "metadata": {},
     "output_type": "execute_result"
    }
   ],
   "source": [
    "sales.Outlet_Size.mode()"
   ]
  },
  {
   "cell_type": "code",
   "execution_count": 65,
   "metadata": {},
   "outputs": [
    {
     "data": {
      "text/plain": [
       "Supermarket Type1    1855\n",
       "Grocery Store         555\n",
       "Name: Outlet_Type, dtype: int64"
      ]
     },
     "execution_count": 65,
     "metadata": {},
     "output_type": "execute_result"
    }
   ],
   "source": [
    "sales.loc[sales.Outlet_Size.isnull(),'Outlet_Type'].value_counts()"
   ]
  },
  {
   "cell_type": "code",
   "execution_count": 66,
   "metadata": {},
   "outputs": [
    {
     "data": {
      "text/plain": [
       "OUT013    932\n",
       "OUT046    930\n",
       "OUT049    930\n",
       "OUT035    930\n",
       "OUT045    929\n",
       "OUT017    926\n",
       "Name: Outlet_Identifier, dtype: int64"
      ]
     },
     "execution_count": 66,
     "metadata": {},
     "output_type": "execute_result"
    }
   ],
   "source": [
    "sales.loc[sales.Outlet_Type=='Supermarket Type1','Outlet_Identifier'].value_counts()"
   ]
  },
  {
   "cell_type": "code",
   "execution_count": 67,
   "metadata": {},
   "outputs": [
    {
     "data": {
      "text/plain": [
       "Outlet_Identifier  Outlet_Size\n",
       "OUT013             High           932\n",
       "OUT049             Medium         930\n",
       "OUT046             Small          930\n",
       "OUT035             Small          930\n",
       "dtype: int64"
      ]
     },
     "execution_count": 67,
     "metadata": {},
     "output_type": "execute_result"
    }
   ],
   "source": [
    "sales.loc[sales.Outlet_Type=='Supermarket Type1',['Outlet_Identifier','Outlet_Size']].value_counts()"
   ]
  },
  {
   "cell_type": "code",
   "execution_count": 68,
   "metadata": {},
   "outputs": [],
   "source": [
    "sales.loc[sales.Outlet_Size.isnull(), 'Outlet_Size']='Small'"
   ]
  },
  {
   "cell_type": "code",
   "execution_count": 69,
   "metadata": {},
   "outputs": [
    {
     "data": {
      "text/html": [
       "<div>\n",
       "<style scoped>\n",
       "    .dataframe tbody tr th:only-of-type {\n",
       "        vertical-align: middle;\n",
       "    }\n",
       "\n",
       "    .dataframe tbody tr th {\n",
       "        vertical-align: top;\n",
       "    }\n",
       "\n",
       "    .dataframe thead th {\n",
       "        text-align: right;\n",
       "    }\n",
       "</style>\n",
       "<table border=\"1\" class=\"dataframe\">\n",
       "  <thead>\n",
       "    <tr style=\"text-align: right;\">\n",
       "      <th></th>\n",
       "      <th>Item_Identifier</th>\n",
       "      <th>Item_Weight</th>\n",
       "      <th>Item_Fat_Content</th>\n",
       "      <th>Item_Visibility</th>\n",
       "      <th>Item_Type</th>\n",
       "      <th>Item_MRP</th>\n",
       "      <th>Outlet_Identifier</th>\n",
       "      <th>Outlet_Establishment_Year</th>\n",
       "      <th>Outlet_Size</th>\n",
       "      <th>Outlet_Location_Type</th>\n",
       "      <th>Outlet_Type</th>\n",
       "      <th>Item_Outlet_Sales</th>\n",
       "      <th>Profit</th>\n",
       "    </tr>\n",
       "  </thead>\n",
       "  <tbody>\n",
       "    <tr>\n",
       "      <th>1922</th>\n",
       "      <td>FDK57</td>\n",
       "      <td>NaN</td>\n",
       "      <td>Low Fat</td>\n",
       "      <td>0.079904</td>\n",
       "      <td>Snack Foods</td>\n",
       "      <td>120.0</td>\n",
       "      <td>OUT027</td>\n",
       "      <td>1985</td>\n",
       "      <td>Medium</td>\n",
       "      <td>Tier 2</td>\n",
       "      <td>Supermarket Type3</td>\n",
       "      <td>4434.2280</td>\n",
       "      <td>14.5</td>\n",
       "    </tr>\n",
       "    <tr>\n",
       "      <th>5022</th>\n",
       "      <td>FDQ60</td>\n",
       "      <td>NaN</td>\n",
       "      <td>Regular</td>\n",
       "      <td>0.191501</td>\n",
       "      <td>Baking Goods</td>\n",
       "      <td>121.2</td>\n",
       "      <td>OUT019</td>\n",
       "      <td>1985</td>\n",
       "      <td>Small</td>\n",
       "      <td>Tier1</td>\n",
       "      <td>Grocery Store</td>\n",
       "      <td>120.5098</td>\n",
       "      <td>12.3</td>\n",
       "    </tr>\n",
       "  </tbody>\n",
       "</table>\n",
       "</div>"
      ],
      "text/plain": [
       "     Item_Identifier  Item_Weight Item_Fat_Content  Item_Visibility  \\\n",
       "1922           FDK57          NaN          Low Fat         0.079904   \n",
       "5022           FDQ60          NaN          Regular         0.191501   \n",
       "\n",
       "         Item_Type  Item_MRP Outlet_Identifier  Outlet_Establishment_Year  \\\n",
       "1922   Snack Foods     120.0            OUT027                       1985   \n",
       "5022  Baking Goods     121.2            OUT019                       1985   \n",
       "\n",
       "     Outlet_Size Outlet_Location_Type        Outlet_Type  Item_Outlet_Sales  \\\n",
       "1922      Medium               Tier 2  Supermarket Type3          4434.2280   \n",
       "5022       Small                Tier1      Grocery Store           120.5098   \n",
       "\n",
       "      Profit  \n",
       "1922    14.5  \n",
       "5022    12.3  "
      ]
     },
     "execution_count": 69,
     "metadata": {},
     "output_type": "execute_result"
    }
   ],
   "source": [
    "sales.loc[sales[\"Item_Weight\"].isnull()]"
   ]
  },
  {
   "cell_type": "code",
   "execution_count": 70,
   "metadata": {},
   "outputs": [
    {
     "data": {
      "text/plain": [
       "Item_Type\n",
       "Baking Goods             11.274961\n",
       "Breads                   10.185237\n",
       "Breakfast                11.071583\n",
       "Canned                   11.366399\n",
       "Dairy                    12.327054\n",
       "Frozen Foods             11.877524\n",
       "Fruits and Vegetables    11.989753\n",
       "Hard Drinks              10.797767\n",
       "Health and Hygiene       11.906371\n",
       "Household                12.161019\n",
       "Meat                     11.375251\n",
       "Others                   12.595148\n",
       "Seafood                  11.682743\n",
       "Snack Foods              11.788654\n",
       "Soft Drinks              11.046050\n",
       "Starchy Foods            12.784875\n",
       "Name: Item_Weight, dtype: float64"
      ]
     },
     "execution_count": 70,
     "metadata": {},
     "output_type": "execute_result"
    }
   ],
   "source": [
    "sales.groupby(\"Item_Type\").mean()['Item_Weight']"
   ]
  },
  {
   "cell_type": "code",
   "execution_count": 71,
   "metadata": {},
   "outputs": [],
   "source": [
    "sales.loc[sales[\"Item_Identifier\"]==\"FDK57\",\"Item_Weight\"]=sales.loc[sales[\"Item_Type\"]==\"Snack Foods\",\"Item_Weight\"].mean()"
   ]
  },
  {
   "cell_type": "code",
   "execution_count": 72,
   "metadata": {},
   "outputs": [],
   "source": [
    "sales.loc[sales['Item_Identifier']==\"FDQ60\",'Item_Weight']=sales.loc[sales[\"Item_Type\"]=='Baking Goods','Item_Weight'].mean()"
   ]
  },
  {
   "cell_type": "code",
   "execution_count": 73,
   "metadata": {},
   "outputs": [
    {
     "data": {
      "text/html": [
       "<div>\n",
       "<style scoped>\n",
       "    .dataframe tbody tr th:only-of-type {\n",
       "        vertical-align: middle;\n",
       "    }\n",
       "\n",
       "    .dataframe tbody tr th {\n",
       "        vertical-align: top;\n",
       "    }\n",
       "\n",
       "    .dataframe thead th {\n",
       "        text-align: right;\n",
       "    }\n",
       "</style>\n",
       "<table border=\"1\" class=\"dataframe\">\n",
       "  <thead>\n",
       "    <tr style=\"text-align: right;\">\n",
       "      <th></th>\n",
       "      <th>Item_Identifier</th>\n",
       "      <th>Item_Weight</th>\n",
       "      <th>Item_Fat_Content</th>\n",
       "      <th>Item_Visibility</th>\n",
       "      <th>Item_Type</th>\n",
       "      <th>Item_MRP</th>\n",
       "      <th>Outlet_Identifier</th>\n",
       "      <th>Outlet_Establishment_Year</th>\n",
       "      <th>Outlet_Size</th>\n",
       "      <th>Outlet_Location_Type</th>\n",
       "      <th>Outlet_Type</th>\n",
       "      <th>Item_Outlet_Sales</th>\n",
       "      <th>Profit</th>\n",
       "    </tr>\n",
       "  </thead>\n",
       "  <tbody>\n",
       "    <tr>\n",
       "      <th>0</th>\n",
       "      <td>FDA15</td>\n",
       "      <td>9.3</td>\n",
       "      <td>Low Fat</td>\n",
       "      <td>0.016047</td>\n",
       "      <td>Dairy</td>\n",
       "      <td>249.8</td>\n",
       "      <td>OUT049</td>\n",
       "      <td>1999</td>\n",
       "      <td>Medium</td>\n",
       "      <td>Tier 2</td>\n",
       "      <td>Supermarket Type1</td>\n",
       "      <td>3735.138</td>\n",
       "      <td>11.5</td>\n",
       "    </tr>\n",
       "  </tbody>\n",
       "</table>\n",
       "</div>"
      ],
      "text/plain": [
       "  Item_Identifier  Item_Weight Item_Fat_Content  Item_Visibility Item_Type  \\\n",
       "0           FDA15          9.3          Low Fat         0.016047     Dairy   \n",
       "\n",
       "   Item_MRP Outlet_Identifier  Outlet_Establishment_Year Outlet_Size  \\\n",
       "0     249.8            OUT049                       1999      Medium   \n",
       "\n",
       "  Outlet_Location_Type        Outlet_Type  Item_Outlet_Sales  Profit  \n",
       "0               Tier 2  Supermarket Type1           3735.138    11.5  "
      ]
     },
     "execution_count": 73,
     "metadata": {},
     "output_type": "execute_result"
    }
   ],
   "source": [
    "sales.head(1)"
   ]
  },
  {
   "cell_type": "markdown",
   "metadata": {},
   "source": [
    "# Day3"
   ]
  },
  {
   "cell_type": "markdown",
   "metadata": {},
   "source": [
    "## Feature Engineering"
   ]
  },
  {
   "cell_type": "code",
   "execution_count": 74,
   "metadata": {},
   "outputs": [
    {
     "data": {
      "text/html": [
       "<div>\n",
       "<style scoped>\n",
       "    .dataframe tbody tr th:only-of-type {\n",
       "        vertical-align: middle;\n",
       "    }\n",
       "\n",
       "    .dataframe tbody tr th {\n",
       "        vertical-align: top;\n",
       "    }\n",
       "\n",
       "    .dataframe thead th {\n",
       "        text-align: right;\n",
       "    }\n",
       "</style>\n",
       "<table border=\"1\" class=\"dataframe\">\n",
       "  <thead>\n",
       "    <tr style=\"text-align: right;\">\n",
       "      <th></th>\n",
       "      <th>Item_Weight</th>\n",
       "      <th>Item_Visibility</th>\n",
       "      <th>Item_MRP</th>\n",
       "      <th>Outlet_Establishment_Year</th>\n",
       "      <th>Item_Outlet_Sales</th>\n",
       "      <th>Profit</th>\n",
       "      <th>Item_Identifier_DRA12</th>\n",
       "      <th>Item_Identifier_DRA24</th>\n",
       "      <th>Item_Identifier_DRA59</th>\n",
       "      <th>Item_Identifier_DRB01</th>\n",
       "      <th>...</th>\n",
       "      <th>Outlet_Location_Type_?</th>\n",
       "      <th>Outlet_Location_Type_NAN</th>\n",
       "      <th>Outlet_Location_Type_Tier 2</th>\n",
       "      <th>Outlet_Location_Type_Tier 3</th>\n",
       "      <th>Outlet_Location_Type_Tier1</th>\n",
       "      <th>Outlet_Location_Type_na</th>\n",
       "      <th>Outlet_Type_Grocery Store</th>\n",
       "      <th>Outlet_Type_Supermarket Type1</th>\n",
       "      <th>Outlet_Type_Supermarket Type2</th>\n",
       "      <th>Outlet_Type_Supermarket Type3</th>\n",
       "    </tr>\n",
       "  </thead>\n",
       "  <tbody>\n",
       "    <tr>\n",
       "      <th>0</th>\n",
       "      <td>9.30</td>\n",
       "      <td>0.016047</td>\n",
       "      <td>249.8</td>\n",
       "      <td>1999</td>\n",
       "      <td>3735.1380</td>\n",
       "      <td>11.5</td>\n",
       "      <td>0</td>\n",
       "      <td>0</td>\n",
       "      <td>0</td>\n",
       "      <td>0</td>\n",
       "      <td>...</td>\n",
       "      <td>0</td>\n",
       "      <td>0</td>\n",
       "      <td>1</td>\n",
       "      <td>0</td>\n",
       "      <td>0</td>\n",
       "      <td>0</td>\n",
       "      <td>0</td>\n",
       "      <td>1</td>\n",
       "      <td>0</td>\n",
       "      <td>0</td>\n",
       "    </tr>\n",
       "    <tr>\n",
       "      <th>1</th>\n",
       "      <td>5.92</td>\n",
       "      <td>0.019278</td>\n",
       "      <td>48.3</td>\n",
       "      <td>2009</td>\n",
       "      <td>443.4228</td>\n",
       "      <td>14.3</td>\n",
       "      <td>0</td>\n",
       "      <td>0</td>\n",
       "      <td>0</td>\n",
       "      <td>0</td>\n",
       "      <td>...</td>\n",
       "      <td>0</td>\n",
       "      <td>0</td>\n",
       "      <td>1</td>\n",
       "      <td>0</td>\n",
       "      <td>0</td>\n",
       "      <td>0</td>\n",
       "      <td>0</td>\n",
       "      <td>0</td>\n",
       "      <td>1</td>\n",
       "      <td>0</td>\n",
       "    </tr>\n",
       "    <tr>\n",
       "      <th>2</th>\n",
       "      <td>17.50</td>\n",
       "      <td>0.016760</td>\n",
       "      <td>141.6</td>\n",
       "      <td>1999</td>\n",
       "      <td>2097.2700</td>\n",
       "      <td>14.5</td>\n",
       "      <td>0</td>\n",
       "      <td>0</td>\n",
       "      <td>0</td>\n",
       "      <td>0</td>\n",
       "      <td>...</td>\n",
       "      <td>0</td>\n",
       "      <td>0</td>\n",
       "      <td>1</td>\n",
       "      <td>0</td>\n",
       "      <td>0</td>\n",
       "      <td>0</td>\n",
       "      <td>0</td>\n",
       "      <td>1</td>\n",
       "      <td>0</td>\n",
       "      <td>0</td>\n",
       "    </tr>\n",
       "    <tr>\n",
       "      <th>3</th>\n",
       "      <td>19.20</td>\n",
       "      <td>0.000000</td>\n",
       "      <td>182.1</td>\n",
       "      <td>1998</td>\n",
       "      <td>732.3800</td>\n",
       "      <td>13.6</td>\n",
       "      <td>0</td>\n",
       "      <td>0</td>\n",
       "      <td>0</td>\n",
       "      <td>0</td>\n",
       "      <td>...</td>\n",
       "      <td>0</td>\n",
       "      <td>0</td>\n",
       "      <td>0</td>\n",
       "      <td>0</td>\n",
       "      <td>0</td>\n",
       "      <td>0</td>\n",
       "      <td>1</td>\n",
       "      <td>0</td>\n",
       "      <td>0</td>\n",
       "      <td>0</td>\n",
       "    </tr>\n",
       "    <tr>\n",
       "      <th>4</th>\n",
       "      <td>8.93</td>\n",
       "      <td>0.000000</td>\n",
       "      <td>53.9</td>\n",
       "      <td>1987</td>\n",
       "      <td>994.7052</td>\n",
       "      <td>14.1</td>\n",
       "      <td>0</td>\n",
       "      <td>0</td>\n",
       "      <td>0</td>\n",
       "      <td>0</td>\n",
       "      <td>...</td>\n",
       "      <td>0</td>\n",
       "      <td>0</td>\n",
       "      <td>0</td>\n",
       "      <td>1</td>\n",
       "      <td>0</td>\n",
       "      <td>0</td>\n",
       "      <td>0</td>\n",
       "      <td>1</td>\n",
       "      <td>0</td>\n",
       "      <td>0</td>\n",
       "    </tr>\n",
       "  </tbody>\n",
       "</table>\n",
       "<p>5 rows × 1608 columns</p>\n",
       "</div>"
      ],
      "text/plain": [
       "   Item_Weight  Item_Visibility  Item_MRP  Outlet_Establishment_Year  \\\n",
       "0         9.30         0.016047     249.8                       1999   \n",
       "1         5.92         0.019278      48.3                       2009   \n",
       "2        17.50         0.016760     141.6                       1999   \n",
       "3        19.20         0.000000     182.1                       1998   \n",
       "4         8.93         0.000000      53.9                       1987   \n",
       "\n",
       "   Item_Outlet_Sales  Profit  Item_Identifier_DRA12  Item_Identifier_DRA24  \\\n",
       "0          3735.1380    11.5                      0                      0   \n",
       "1           443.4228    14.3                      0                      0   \n",
       "2          2097.2700    14.5                      0                      0   \n",
       "3           732.3800    13.6                      0                      0   \n",
       "4           994.7052    14.1                      0                      0   \n",
       "\n",
       "   Item_Identifier_DRA59  Item_Identifier_DRB01  ...  Outlet_Location_Type_?  \\\n",
       "0                      0                      0  ...                       0   \n",
       "1                      0                      0  ...                       0   \n",
       "2                      0                      0  ...                       0   \n",
       "3                      0                      0  ...                       0   \n",
       "4                      0                      0  ...                       0   \n",
       "\n",
       "   Outlet_Location_Type_NAN  Outlet_Location_Type_Tier 2  \\\n",
       "0                         0                            1   \n",
       "1                         0                            1   \n",
       "2                         0                            1   \n",
       "3                         0                            0   \n",
       "4                         0                            0   \n",
       "\n",
       "   Outlet_Location_Type_Tier 3  Outlet_Location_Type_Tier1  \\\n",
       "0                            0                           0   \n",
       "1                            0                           0   \n",
       "2                            0                           0   \n",
       "3                            0                           0   \n",
       "4                            1                           0   \n",
       "\n",
       "   Outlet_Location_Type_na  Outlet_Type_Grocery Store  \\\n",
       "0                        0                          0   \n",
       "1                        0                          0   \n",
       "2                        0                          0   \n",
       "3                        0                          1   \n",
       "4                        0                          0   \n",
       "\n",
       "   Outlet_Type_Supermarket Type1  Outlet_Type_Supermarket Type2  \\\n",
       "0                              1                              0   \n",
       "1                              0                              1   \n",
       "2                              1                              0   \n",
       "3                              0                              0   \n",
       "4                              1                              0   \n",
       "\n",
       "   Outlet_Type_Supermarket Type3  \n",
       "0                              0  \n",
       "1                              0  \n",
       "2                              0  \n",
       "3                              0  \n",
       "4                              0  \n",
       "\n",
       "[5 rows x 1608 columns]"
      ]
     },
     "execution_count": 74,
     "metadata": {},
     "output_type": "execute_result"
    }
   ],
   "source": [
    "pd.get_dummies(sales).head()"
   ]
  },
  {
   "cell_type": "code",
   "execution_count": 75,
   "metadata": {},
   "outputs": [
    {
     "data": {
      "text/plain": [
       "array(['Dairy', 'Soft Drinks', 'Meat', 'Fruits and Vegetables',\n",
       "       'Household', 'Baking Goods', 'Snack Foods', 'Frozen Foods',\n",
       "       'Breakfast', 'Health and Hygiene', 'Hard Drinks', 'Canned',\n",
       "       'Breads', 'Starchy Foods', 'Others', 'Seafood'], dtype=object)"
      ]
     },
     "execution_count": 75,
     "metadata": {},
     "output_type": "execute_result"
    }
   ],
   "source": [
    "sales.Item_Type.unique()"
   ]
  },
  {
   "cell_type": "code",
   "execution_count": 76,
   "metadata": {},
   "outputs": [],
   "source": [
    "perishable=['Dairy', 'Meat', 'Fruits and Vegetables',\n",
    "        'Frozen Foods','Breakfast','Breads', 'Seafood']"
   ]
  },
  {
   "cell_type": "code",
   "execution_count": 77,
   "metadata": {},
   "outputs": [],
   "source": [
    "def perish(x):\n",
    "    if x in perishable:\n",
    "        return('Perishables')\n",
    "    else:\n",
    "        return('Non-Perishables')"
   ]
  },
  {
   "cell_type": "code",
   "execution_count": 78,
   "metadata": {},
   "outputs": [
    {
     "data": {
      "text/html": [
       "<div>\n",
       "<style scoped>\n",
       "    .dataframe tbody tr th:only-of-type {\n",
       "        vertical-align: middle;\n",
       "    }\n",
       "\n",
       "    .dataframe tbody tr th {\n",
       "        vertical-align: top;\n",
       "    }\n",
       "\n",
       "    .dataframe thead th {\n",
       "        text-align: right;\n",
       "    }\n",
       "</style>\n",
       "<table border=\"1\" class=\"dataframe\">\n",
       "  <thead>\n",
       "    <tr style=\"text-align: right;\">\n",
       "      <th></th>\n",
       "      <th>Non-Perishables</th>\n",
       "      <th>Perishables</th>\n",
       "    </tr>\n",
       "  </thead>\n",
       "  <tbody>\n",
       "    <tr>\n",
       "      <th>0</th>\n",
       "      <td>0</td>\n",
       "      <td>1</td>\n",
       "    </tr>\n",
       "    <tr>\n",
       "      <th>1</th>\n",
       "      <td>1</td>\n",
       "      <td>0</td>\n",
       "    </tr>\n",
       "    <tr>\n",
       "      <th>2</th>\n",
       "      <td>0</td>\n",
       "      <td>1</td>\n",
       "    </tr>\n",
       "    <tr>\n",
       "      <th>3</th>\n",
       "      <td>0</td>\n",
       "      <td>1</td>\n",
       "    </tr>\n",
       "    <tr>\n",
       "      <th>4</th>\n",
       "      <td>1</td>\n",
       "      <td>0</td>\n",
       "    </tr>\n",
       "    <tr>\n",
       "      <th>...</th>\n",
       "      <td>...</td>\n",
       "      <td>...</td>\n",
       "    </tr>\n",
       "    <tr>\n",
       "      <th>8518</th>\n",
       "      <td>1</td>\n",
       "      <td>0</td>\n",
       "    </tr>\n",
       "    <tr>\n",
       "      <th>8519</th>\n",
       "      <td>1</td>\n",
       "      <td>0</td>\n",
       "    </tr>\n",
       "    <tr>\n",
       "      <th>8520</th>\n",
       "      <td>1</td>\n",
       "      <td>0</td>\n",
       "    </tr>\n",
       "    <tr>\n",
       "      <th>8521</th>\n",
       "      <td>1</td>\n",
       "      <td>0</td>\n",
       "    </tr>\n",
       "    <tr>\n",
       "      <th>8522</th>\n",
       "      <td>1</td>\n",
       "      <td>0</td>\n",
       "    </tr>\n",
       "  </tbody>\n",
       "</table>\n",
       "<p>8523 rows × 2 columns</p>\n",
       "</div>"
      ],
      "text/plain": [
       "      Non-Perishables  Perishables\n",
       "0                   0            1\n",
       "1                   1            0\n",
       "2                   0            1\n",
       "3                   0            1\n",
       "4                   1            0\n",
       "...               ...          ...\n",
       "8518                1            0\n",
       "8519                1            0\n",
       "8520                1            0\n",
       "8521                1            0\n",
       "8522                1            0\n",
       "\n",
       "[8523 rows x 2 columns]"
      ]
     },
     "execution_count": 78,
     "metadata": {},
     "output_type": "execute_result"
    }
   ],
   "source": [
    "pd.get_dummies(sales.Item_Type.apply(perish))"
   ]
  },
  {
   "cell_type": "code",
   "execution_count": 79,
   "metadata": {},
   "outputs": [],
   "source": [
    "sales['Item_TypeBinned'] = sales.Item_Type.apply(perish)"
   ]
  },
  {
   "cell_type": "code",
   "execution_count": 80,
   "metadata": {},
   "outputs": [
    {
     "data": {
      "text/html": [
       "<div>\n",
       "<style scoped>\n",
       "    .dataframe tbody tr th:only-of-type {\n",
       "        vertical-align: middle;\n",
       "    }\n",
       "\n",
       "    .dataframe tbody tr th {\n",
       "        vertical-align: top;\n",
       "    }\n",
       "\n",
       "    .dataframe thead th {\n",
       "        text-align: right;\n",
       "    }\n",
       "</style>\n",
       "<table border=\"1\" class=\"dataframe\">\n",
       "  <thead>\n",
       "    <tr style=\"text-align: right;\">\n",
       "      <th></th>\n",
       "      <th>Item_Identifier</th>\n",
       "      <th>Item_Weight</th>\n",
       "      <th>Item_Fat_Content</th>\n",
       "      <th>Item_Visibility</th>\n",
       "      <th>Item_Type</th>\n",
       "      <th>Item_MRP</th>\n",
       "      <th>Outlet_Identifier</th>\n",
       "      <th>Outlet_Establishment_Year</th>\n",
       "      <th>Outlet_Size</th>\n",
       "      <th>Outlet_Location_Type</th>\n",
       "      <th>Outlet_Type</th>\n",
       "      <th>Item_Outlet_Sales</th>\n",
       "      <th>Profit</th>\n",
       "      <th>Item_TypeBinned</th>\n",
       "    </tr>\n",
       "  </thead>\n",
       "  <tbody>\n",
       "    <tr>\n",
       "      <th>0</th>\n",
       "      <td>FDA15</td>\n",
       "      <td>9.300</td>\n",
       "      <td>Low Fat</td>\n",
       "      <td>0.016047</td>\n",
       "      <td>Dairy</td>\n",
       "      <td>249.8</td>\n",
       "      <td>OUT049</td>\n",
       "      <td>1999</td>\n",
       "      <td>Medium</td>\n",
       "      <td>Tier 2</td>\n",
       "      <td>Supermarket Type1</td>\n",
       "      <td>3735.1380</td>\n",
       "      <td>11.5</td>\n",
       "      <td>Perishables</td>\n",
       "    </tr>\n",
       "    <tr>\n",
       "      <th>1</th>\n",
       "      <td>DRC01</td>\n",
       "      <td>5.920</td>\n",
       "      <td>Regular</td>\n",
       "      <td>0.019278</td>\n",
       "      <td>Soft Drinks</td>\n",
       "      <td>48.3</td>\n",
       "      <td>OUT018</td>\n",
       "      <td>2009</td>\n",
       "      <td>Medium</td>\n",
       "      <td>Tier 2</td>\n",
       "      <td>Supermarket Type2</td>\n",
       "      <td>443.4228</td>\n",
       "      <td>14.3</td>\n",
       "      <td>Non-Perishables</td>\n",
       "    </tr>\n",
       "    <tr>\n",
       "      <th>2</th>\n",
       "      <td>FDN15</td>\n",
       "      <td>17.500</td>\n",
       "      <td>Low Fat</td>\n",
       "      <td>0.016760</td>\n",
       "      <td>Meat</td>\n",
       "      <td>141.6</td>\n",
       "      <td>OUT049</td>\n",
       "      <td>1999</td>\n",
       "      <td>Medium</td>\n",
       "      <td>Tier 2</td>\n",
       "      <td>Supermarket Type1</td>\n",
       "      <td>2097.2700</td>\n",
       "      <td>14.5</td>\n",
       "      <td>Perishables</td>\n",
       "    </tr>\n",
       "    <tr>\n",
       "      <th>3</th>\n",
       "      <td>FDX07</td>\n",
       "      <td>19.200</td>\n",
       "      <td>Regular</td>\n",
       "      <td>0.000000</td>\n",
       "      <td>Fruits and Vegetables</td>\n",
       "      <td>182.1</td>\n",
       "      <td>OUT010</td>\n",
       "      <td>1998</td>\n",
       "      <td>Small</td>\n",
       "      <td>NaN</td>\n",
       "      <td>Grocery Store</td>\n",
       "      <td>732.3800</td>\n",
       "      <td>13.6</td>\n",
       "      <td>Perishables</td>\n",
       "    </tr>\n",
       "    <tr>\n",
       "      <th>4</th>\n",
       "      <td>NCD19</td>\n",
       "      <td>8.930</td>\n",
       "      <td>Low Fat</td>\n",
       "      <td>0.000000</td>\n",
       "      <td>Household</td>\n",
       "      <td>53.9</td>\n",
       "      <td>OUT013</td>\n",
       "      <td>1987</td>\n",
       "      <td>High</td>\n",
       "      <td>Tier 3</td>\n",
       "      <td>Supermarket Type1</td>\n",
       "      <td>994.7052</td>\n",
       "      <td>14.1</td>\n",
       "      <td>Non-Perishables</td>\n",
       "    </tr>\n",
       "    <tr>\n",
       "      <th>5</th>\n",
       "      <td>FDP36</td>\n",
       "      <td>10.395</td>\n",
       "      <td>Regular</td>\n",
       "      <td>0.000000</td>\n",
       "      <td>Baking Goods</td>\n",
       "      <td>51.4</td>\n",
       "      <td>OUT018</td>\n",
       "      <td>2009</td>\n",
       "      <td>Medium</td>\n",
       "      <td>Tier 2</td>\n",
       "      <td>Supermarket Type2</td>\n",
       "      <td>556.6088</td>\n",
       "      <td>9.5</td>\n",
       "      <td>Non-Perishables</td>\n",
       "    </tr>\n",
       "    <tr>\n",
       "      <th>6</th>\n",
       "      <td>FDO10</td>\n",
       "      <td>13.650</td>\n",
       "      <td>Regular</td>\n",
       "      <td>0.012741</td>\n",
       "      <td>Snack Foods</td>\n",
       "      <td>57.7</td>\n",
       "      <td>OUT013</td>\n",
       "      <td>1987</td>\n",
       "      <td>High</td>\n",
       "      <td>Tier 3</td>\n",
       "      <td>Supermarket Type1</td>\n",
       "      <td>343.5528</td>\n",
       "      <td>8.8</td>\n",
       "      <td>Non-Perishables</td>\n",
       "    </tr>\n",
       "    <tr>\n",
       "      <th>7</th>\n",
       "      <td>FDP10</td>\n",
       "      <td>19.000</td>\n",
       "      <td>Low Fat</td>\n",
       "      <td>0.127470</td>\n",
       "      <td>Snack Foods</td>\n",
       "      <td>107.8</td>\n",
       "      <td>OUT027</td>\n",
       "      <td>1985</td>\n",
       "      <td>Medium</td>\n",
       "      <td>Tier 2</td>\n",
       "      <td>Supermarket Type3</td>\n",
       "      <td>4022.7636</td>\n",
       "      <td>13.3</td>\n",
       "      <td>Non-Perishables</td>\n",
       "    </tr>\n",
       "    <tr>\n",
       "      <th>8</th>\n",
       "      <td>FDH17</td>\n",
       "      <td>16.200</td>\n",
       "      <td>Regular</td>\n",
       "      <td>0.016687</td>\n",
       "      <td>Frozen Foods</td>\n",
       "      <td>97.0</td>\n",
       "      <td>OUT045</td>\n",
       "      <td>2002</td>\n",
       "      <td>Small</td>\n",
       "      <td>NaN</td>\n",
       "      <td>Supermarket Type1</td>\n",
       "      <td>1076.5986</td>\n",
       "      <td>13.0</td>\n",
       "      <td>Perishables</td>\n",
       "    </tr>\n",
       "    <tr>\n",
       "      <th>9</th>\n",
       "      <td>FDU28</td>\n",
       "      <td>19.200</td>\n",
       "      <td>Regular</td>\n",
       "      <td>0.094450</td>\n",
       "      <td>Frozen Foods</td>\n",
       "      <td>187.8</td>\n",
       "      <td>OUT017</td>\n",
       "      <td>2007</td>\n",
       "      <td>Small</td>\n",
       "      <td>--</td>\n",
       "      <td>Supermarket Type1</td>\n",
       "      <td>4710.5350</td>\n",
       "      <td>13.6</td>\n",
       "      <td>Perishables</td>\n",
       "    </tr>\n",
       "  </tbody>\n",
       "</table>\n",
       "</div>"
      ],
      "text/plain": [
       "  Item_Identifier  Item_Weight Item_Fat_Content  Item_Visibility  \\\n",
       "0           FDA15        9.300          Low Fat         0.016047   \n",
       "1           DRC01        5.920          Regular         0.019278   \n",
       "2           FDN15       17.500          Low Fat         0.016760   \n",
       "3           FDX07       19.200          Regular         0.000000   \n",
       "4           NCD19        8.930          Low Fat         0.000000   \n",
       "5           FDP36       10.395          Regular         0.000000   \n",
       "6           FDO10       13.650          Regular         0.012741   \n",
       "7           FDP10       19.000          Low Fat         0.127470   \n",
       "8           FDH17       16.200          Regular         0.016687   \n",
       "9           FDU28       19.200          Regular         0.094450   \n",
       "\n",
       "               Item_Type  Item_MRP Outlet_Identifier  \\\n",
       "0                  Dairy     249.8            OUT049   \n",
       "1            Soft Drinks      48.3            OUT018   \n",
       "2                   Meat     141.6            OUT049   \n",
       "3  Fruits and Vegetables     182.1            OUT010   \n",
       "4              Household      53.9            OUT013   \n",
       "5           Baking Goods      51.4            OUT018   \n",
       "6            Snack Foods      57.7            OUT013   \n",
       "7            Snack Foods     107.8            OUT027   \n",
       "8           Frozen Foods      97.0            OUT045   \n",
       "9           Frozen Foods     187.8            OUT017   \n",
       "\n",
       "   Outlet_Establishment_Year Outlet_Size Outlet_Location_Type  \\\n",
       "0                       1999      Medium               Tier 2   \n",
       "1                       2009      Medium               Tier 2   \n",
       "2                       1999      Medium               Tier 2   \n",
       "3                       1998       Small                  NaN   \n",
       "4                       1987        High               Tier 3   \n",
       "5                       2009      Medium               Tier 2   \n",
       "6                       1987        High               Tier 3   \n",
       "7                       1985      Medium               Tier 2   \n",
       "8                       2002       Small                  NaN   \n",
       "9                       2007       Small                   --   \n",
       "\n",
       "         Outlet_Type  Item_Outlet_Sales  Profit  Item_TypeBinned  \n",
       "0  Supermarket Type1          3735.1380    11.5      Perishables  \n",
       "1  Supermarket Type2           443.4228    14.3  Non-Perishables  \n",
       "2  Supermarket Type1          2097.2700    14.5      Perishables  \n",
       "3      Grocery Store           732.3800    13.6      Perishables  \n",
       "4  Supermarket Type1           994.7052    14.1  Non-Perishables  \n",
       "5  Supermarket Type2           556.6088     9.5  Non-Perishables  \n",
       "6  Supermarket Type1           343.5528     8.8  Non-Perishables  \n",
       "7  Supermarket Type3          4022.7636    13.3  Non-Perishables  \n",
       "8  Supermarket Type1          1076.5986    13.0      Perishables  \n",
       "9  Supermarket Type1          4710.5350    13.6      Perishables  "
      ]
     },
     "execution_count": 80,
     "metadata": {},
     "output_type": "execute_result"
    }
   ],
   "source": [
    "sales.head(10)"
   ]
  },
  {
   "cell_type": "code",
   "execution_count": 81,
   "metadata": {},
   "outputs": [
    {
     "data": {
      "text/plain": [
       "'FD'"
      ]
     },
     "execution_count": 81,
     "metadata": {},
     "output_type": "execute_result"
    }
   ],
   "source": [
    "sales.Item_Identifier[0][:2]"
   ]
  },
  {
   "cell_type": "code",
   "execution_count": 82,
   "metadata": {},
   "outputs": [],
   "source": [
    "ids=[]\n",
    "\n",
    "for i in sales.Item_Identifier:\n",
    "    ids.append(i[:2])"
   ]
  },
  {
   "cell_type": "code",
   "execution_count": 83,
   "metadata": {
    "scrolled": true
   },
   "outputs": [
    {
     "data": {
      "text/plain": [
       "['FD',\n",
       " 'DR',\n",
       " 'FD',\n",
       " 'FD',\n",
       " 'NC',\n",
       " 'FD',\n",
       " 'FD',\n",
       " 'FD',\n",
       " 'FD',\n",
       " 'FD',\n",
       " 'FD',\n",
       " 'FD',\n",
       " 'FD',\n",
       " 'FD',\n",
       " 'FD',\n",
       " 'FD',\n",
       " 'NC',\n",
       " 'FD',\n",
       " 'DR',\n",
       " 'FD',\n",
       " 'FD',\n",
       " 'FD',\n",
       " 'NC',\n",
       " 'FD',\n",
       " 'FD',\n",
       " 'NC',\n",
       " 'FD',\n",
       " 'DR',\n",
       " 'FD',\n",
       " 'FD',\n",
       " 'FD',\n",
       " 'NC',\n",
       " 'FD',\n",
       " 'FD',\n",
       " 'DR',\n",
       " 'NC',\n",
       " 'FD',\n",
       " 'DR',\n",
       " 'FD',\n",
       " 'FD',\n",
       " 'FD',\n",
       " 'FD',\n",
       " 'FD',\n",
       " 'FD',\n",
       " 'FD',\n",
       " 'FD',\n",
       " 'NC',\n",
       " 'FD',\n",
       " 'FD',\n",
       " 'FD',\n",
       " 'NC',\n",
       " 'FD',\n",
       " 'FD',\n",
       " 'FD',\n",
       " 'NC',\n",
       " 'FD',\n",
       " 'NC',\n",
       " 'DR',\n",
       " 'FD',\n",
       " 'FD',\n",
       " 'FD',\n",
       " 'FD',\n",
       " 'FD',\n",
       " 'FD',\n",
       " 'FD',\n",
       " 'FD',\n",
       " 'FD',\n",
       " 'FD',\n",
       " 'DR',\n",
       " 'NC',\n",
       " 'FD',\n",
       " 'FD',\n",
       " 'FD',\n",
       " 'FD',\n",
       " 'NC',\n",
       " 'FD',\n",
       " 'FD',\n",
       " 'FD',\n",
       " 'FD',\n",
       " 'FD',\n",
       " 'FD',\n",
       " 'FD',\n",
       " 'FD',\n",
       " 'NC',\n",
       " 'FD',\n",
       " 'FD',\n",
       " 'FD',\n",
       " 'FD',\n",
       " 'FD',\n",
       " 'FD',\n",
       " 'FD',\n",
       " 'DR',\n",
       " 'DR',\n",
       " 'FD',\n",
       " 'NC',\n",
       " 'FD',\n",
       " 'FD',\n",
       " 'FD',\n",
       " 'NC',\n",
       " 'FD',\n",
       " 'FD',\n",
       " 'FD',\n",
       " 'FD',\n",
       " 'DR',\n",
       " 'FD',\n",
       " 'FD',\n",
       " 'FD',\n",
       " 'FD',\n",
       " 'DR',\n",
       " 'DR',\n",
       " 'FD',\n",
       " 'FD',\n",
       " 'FD',\n",
       " 'FD',\n",
       " 'FD',\n",
       " 'FD',\n",
       " 'FD',\n",
       " 'FD',\n",
       " 'DR',\n",
       " 'FD',\n",
       " 'NC',\n",
       " 'DR',\n",
       " 'FD',\n",
       " 'FD',\n",
       " 'FD',\n",
       " 'FD',\n",
       " 'DR',\n",
       " 'FD',\n",
       " 'DR',\n",
       " 'NC',\n",
       " 'FD',\n",
       " 'NC',\n",
       " 'NC',\n",
       " 'FD',\n",
       " 'FD',\n",
       " 'NC',\n",
       " 'FD',\n",
       " 'FD',\n",
       " 'FD',\n",
       " 'NC',\n",
       " 'NC',\n",
       " 'NC',\n",
       " 'NC',\n",
       " 'NC',\n",
       " 'FD',\n",
       " 'FD',\n",
       " 'FD',\n",
       " 'NC',\n",
       " 'FD',\n",
       " 'NC',\n",
       " 'DR',\n",
       " 'FD',\n",
       " 'FD',\n",
       " 'DR',\n",
       " 'FD',\n",
       " 'NC',\n",
       " 'FD',\n",
       " 'FD',\n",
       " 'DR',\n",
       " 'FD',\n",
       " 'FD',\n",
       " 'FD',\n",
       " 'FD',\n",
       " 'DR',\n",
       " 'FD',\n",
       " 'DR',\n",
       " 'FD',\n",
       " 'FD',\n",
       " 'NC',\n",
       " 'FD',\n",
       " 'NC',\n",
       " 'FD',\n",
       " 'FD',\n",
       " 'FD',\n",
       " 'FD',\n",
       " 'FD',\n",
       " 'FD',\n",
       " 'NC',\n",
       " 'DR',\n",
       " 'FD',\n",
       " 'FD',\n",
       " 'FD',\n",
       " 'NC',\n",
       " 'FD',\n",
       " 'FD',\n",
       " 'FD',\n",
       " 'FD',\n",
       " 'NC',\n",
       " 'FD',\n",
       " 'NC',\n",
       " 'FD',\n",
       " 'FD',\n",
       " 'FD',\n",
       " 'FD',\n",
       " 'NC',\n",
       " 'FD',\n",
       " 'FD',\n",
       " 'NC',\n",
       " 'FD',\n",
       " 'FD',\n",
       " 'NC',\n",
       " 'FD',\n",
       " 'FD',\n",
       " 'FD',\n",
       " 'FD',\n",
       " 'FD',\n",
       " 'FD',\n",
       " 'DR',\n",
       " 'FD',\n",
       " 'FD',\n",
       " 'DR',\n",
       " 'DR',\n",
       " 'FD',\n",
       " 'NC',\n",
       " 'NC',\n",
       " 'FD',\n",
       " 'FD',\n",
       " 'FD',\n",
       " 'FD',\n",
       " 'FD',\n",
       " 'FD',\n",
       " 'FD',\n",
       " 'FD',\n",
       " 'FD',\n",
       " 'DR',\n",
       " 'NC',\n",
       " 'FD',\n",
       " 'DR',\n",
       " 'FD',\n",
       " 'FD',\n",
       " 'NC',\n",
       " 'FD',\n",
       " 'FD',\n",
       " 'FD',\n",
       " 'NC',\n",
       " 'DR',\n",
       " 'FD',\n",
       " 'FD',\n",
       " 'FD',\n",
       " 'NC',\n",
       " 'NC',\n",
       " 'NC',\n",
       " 'NC',\n",
       " 'FD',\n",
       " 'DR',\n",
       " 'FD',\n",
       " 'FD',\n",
       " 'FD',\n",
       " 'FD',\n",
       " 'FD',\n",
       " 'DR',\n",
       " 'FD',\n",
       " 'FD',\n",
       " 'FD',\n",
       " 'FD',\n",
       " 'FD',\n",
       " 'FD',\n",
       " 'NC',\n",
       " 'FD',\n",
       " 'FD',\n",
       " 'FD',\n",
       " 'DR',\n",
       " 'FD',\n",
       " 'FD',\n",
       " 'FD',\n",
       " 'NC',\n",
       " 'FD',\n",
       " 'FD',\n",
       " 'FD',\n",
       " 'FD',\n",
       " 'FD',\n",
       " 'FD',\n",
       " 'FD',\n",
       " 'FD',\n",
       " 'FD',\n",
       " 'FD',\n",
       " 'FD',\n",
       " 'FD',\n",
       " 'FD',\n",
       " 'FD',\n",
       " 'FD',\n",
       " 'NC',\n",
       " 'NC',\n",
       " 'DR',\n",
       " 'FD',\n",
       " 'FD',\n",
       " 'FD',\n",
       " 'NC',\n",
       " 'FD',\n",
       " 'NC',\n",
       " 'DR',\n",
       " 'FD',\n",
       " 'FD',\n",
       " 'FD',\n",
       " 'FD',\n",
       " 'FD',\n",
       " 'FD',\n",
       " 'NC',\n",
       " 'FD',\n",
       " 'FD',\n",
       " 'FD',\n",
       " 'FD',\n",
       " 'NC',\n",
       " 'FD',\n",
       " 'DR',\n",
       " 'DR',\n",
       " 'FD',\n",
       " 'FD',\n",
       " 'FD',\n",
       " 'FD',\n",
       " 'FD',\n",
       " 'FD',\n",
       " 'FD',\n",
       " 'FD',\n",
       " 'FD',\n",
       " 'FD',\n",
       " 'FD',\n",
       " 'FD',\n",
       " 'FD',\n",
       " 'FD',\n",
       " 'DR',\n",
       " 'FD',\n",
       " 'DR',\n",
       " 'FD',\n",
       " 'FD',\n",
       " 'NC',\n",
       " 'FD',\n",
       " 'FD',\n",
       " 'NC',\n",
       " 'FD',\n",
       " 'DR',\n",
       " 'FD',\n",
       " 'FD',\n",
       " 'FD',\n",
       " 'FD',\n",
       " 'FD',\n",
       " 'NC',\n",
       " 'FD',\n",
       " 'FD',\n",
       " 'FD',\n",
       " 'FD',\n",
       " 'FD',\n",
       " 'NC',\n",
       " 'NC',\n",
       " 'FD',\n",
       " 'DR',\n",
       " 'FD',\n",
       " 'NC',\n",
       " 'NC',\n",
       " 'FD',\n",
       " 'FD',\n",
       " 'FD',\n",
       " 'FD',\n",
       " 'DR',\n",
       " 'FD',\n",
       " 'FD',\n",
       " 'FD',\n",
       " 'FD',\n",
       " 'FD',\n",
       " 'FD',\n",
       " 'DR',\n",
       " 'NC',\n",
       " 'FD',\n",
       " 'FD',\n",
       " 'FD',\n",
       " 'FD',\n",
       " 'FD',\n",
       " 'FD',\n",
       " 'FD',\n",
       " 'FD',\n",
       " 'FD',\n",
       " 'NC',\n",
       " 'NC',\n",
       " 'FD',\n",
       " 'FD',\n",
       " 'FD',\n",
       " 'FD',\n",
       " 'FD',\n",
       " 'FD',\n",
       " 'FD',\n",
       " 'FD',\n",
       " 'FD',\n",
       " 'FD',\n",
       " 'FD',\n",
       " 'FD',\n",
       " 'FD',\n",
       " 'FD',\n",
       " 'FD',\n",
       " 'FD',\n",
       " 'DR',\n",
       " 'FD',\n",
       " 'FD',\n",
       " 'FD',\n",
       " 'FD',\n",
       " 'NC',\n",
       " 'FD',\n",
       " 'FD',\n",
       " 'FD',\n",
       " 'FD',\n",
       " 'NC',\n",
       " 'NC',\n",
       " 'NC',\n",
       " 'FD',\n",
       " 'NC',\n",
       " 'FD',\n",
       " 'FD',\n",
       " 'FD',\n",
       " 'FD',\n",
       " 'FD',\n",
       " 'DR',\n",
       " 'FD',\n",
       " 'NC',\n",
       " 'FD',\n",
       " 'FD',\n",
       " 'NC',\n",
       " 'FD',\n",
       " 'FD',\n",
       " 'FD',\n",
       " 'FD',\n",
       " 'NC',\n",
       " 'FD',\n",
       " 'FD',\n",
       " 'FD',\n",
       " 'FD',\n",
       " 'NC',\n",
       " 'FD',\n",
       " 'FD',\n",
       " 'FD',\n",
       " 'FD',\n",
       " 'FD',\n",
       " 'FD',\n",
       " 'FD',\n",
       " 'FD',\n",
       " 'DR',\n",
       " 'FD',\n",
       " 'DR',\n",
       " 'NC',\n",
       " 'FD',\n",
       " 'FD',\n",
       " 'FD',\n",
       " 'FD',\n",
       " 'FD',\n",
       " 'FD',\n",
       " 'NC',\n",
       " 'FD',\n",
       " 'FD',\n",
       " 'FD',\n",
       " 'DR',\n",
       " 'NC',\n",
       " 'NC',\n",
       " 'FD',\n",
       " 'FD',\n",
       " 'FD',\n",
       " 'FD',\n",
       " 'FD',\n",
       " 'NC',\n",
       " 'FD',\n",
       " 'FD',\n",
       " 'DR',\n",
       " 'NC',\n",
       " 'FD',\n",
       " 'FD',\n",
       " 'FD',\n",
       " 'NC',\n",
       " 'DR',\n",
       " 'FD',\n",
       " 'NC',\n",
       " 'FD',\n",
       " 'FD',\n",
       " 'FD',\n",
       " 'NC',\n",
       " 'FD',\n",
       " 'FD',\n",
       " 'FD',\n",
       " 'FD',\n",
       " 'FD',\n",
       " 'NC',\n",
       " 'FD',\n",
       " 'FD',\n",
       " 'NC',\n",
       " 'FD',\n",
       " 'DR',\n",
       " 'FD',\n",
       " 'FD',\n",
       " 'FD',\n",
       " 'FD',\n",
       " 'FD',\n",
       " 'FD',\n",
       " 'FD',\n",
       " 'FD',\n",
       " 'NC',\n",
       " 'FD',\n",
       " 'NC',\n",
       " 'FD',\n",
       " 'FD',\n",
       " 'FD',\n",
       " 'FD',\n",
       " 'FD',\n",
       " 'FD',\n",
       " 'NC',\n",
       " 'NC',\n",
       " 'FD',\n",
       " 'FD',\n",
       " 'FD',\n",
       " 'FD',\n",
       " 'FD',\n",
       " 'FD',\n",
       " 'NC',\n",
       " 'NC',\n",
       " 'DR',\n",
       " 'FD',\n",
       " 'FD',\n",
       " 'FD',\n",
       " 'FD',\n",
       " 'FD',\n",
       " 'DR',\n",
       " 'NC',\n",
       " 'DR',\n",
       " 'FD',\n",
       " 'NC',\n",
       " 'FD',\n",
       " 'FD',\n",
       " 'NC',\n",
       " 'FD',\n",
       " 'NC',\n",
       " 'FD',\n",
       " 'NC',\n",
       " 'NC',\n",
       " 'FD',\n",
       " 'FD',\n",
       " 'FD',\n",
       " 'NC',\n",
       " 'FD',\n",
       " 'FD',\n",
       " 'FD',\n",
       " 'FD',\n",
       " 'FD',\n",
       " 'FD',\n",
       " 'FD',\n",
       " 'NC',\n",
       " 'FD',\n",
       " 'FD',\n",
       " 'FD',\n",
       " 'FD',\n",
       " 'DR',\n",
       " 'FD',\n",
       " 'FD',\n",
       " 'FD',\n",
       " 'NC',\n",
       " 'FD',\n",
       " 'FD',\n",
       " 'FD',\n",
       " 'FD',\n",
       " 'FD',\n",
       " 'FD',\n",
       " 'FD',\n",
       " 'NC',\n",
       " 'FD',\n",
       " 'FD',\n",
       " 'FD',\n",
       " 'DR',\n",
       " 'DR',\n",
       " 'FD',\n",
       " 'FD',\n",
       " 'FD',\n",
       " 'DR',\n",
       " 'FD',\n",
       " 'FD',\n",
       " 'FD',\n",
       " 'FD',\n",
       " 'FD',\n",
       " 'NC',\n",
       " 'FD',\n",
       " 'FD',\n",
       " 'DR',\n",
       " 'FD',\n",
       " 'DR',\n",
       " 'DR',\n",
       " 'FD',\n",
       " 'NC',\n",
       " 'FD',\n",
       " 'FD',\n",
       " 'FD',\n",
       " 'FD',\n",
       " 'FD',\n",
       " 'FD',\n",
       " 'FD',\n",
       " 'NC',\n",
       " 'FD',\n",
       " 'NC',\n",
       " 'NC',\n",
       " 'FD',\n",
       " 'NC',\n",
       " 'FD',\n",
       " 'NC',\n",
       " 'FD',\n",
       " 'FD',\n",
       " 'NC',\n",
       " 'FD',\n",
       " 'DR',\n",
       " 'FD',\n",
       " 'FD',\n",
       " 'FD',\n",
       " 'FD',\n",
       " 'NC',\n",
       " 'FD',\n",
       " 'FD',\n",
       " 'FD',\n",
       " 'NC',\n",
       " 'FD',\n",
       " 'FD',\n",
       " 'FD',\n",
       " 'NC',\n",
       " 'FD',\n",
       " 'FD',\n",
       " 'FD',\n",
       " 'FD',\n",
       " 'DR',\n",
       " 'FD',\n",
       " 'FD',\n",
       " 'FD',\n",
       " 'FD',\n",
       " 'NC',\n",
       " 'FD',\n",
       " 'FD',\n",
       " 'FD',\n",
       " 'FD',\n",
       " 'FD',\n",
       " 'FD',\n",
       " 'FD',\n",
       " 'DR',\n",
       " 'FD',\n",
       " 'FD',\n",
       " 'FD',\n",
       " 'FD',\n",
       " 'FD',\n",
       " 'FD',\n",
       " 'FD',\n",
       " 'FD',\n",
       " 'FD',\n",
       " 'FD',\n",
       " 'FD',\n",
       " 'FD',\n",
       " 'DR',\n",
       " 'NC',\n",
       " 'FD',\n",
       " 'NC',\n",
       " 'DR',\n",
       " 'FD',\n",
       " 'FD',\n",
       " 'FD',\n",
       " 'FD',\n",
       " 'FD',\n",
       " 'DR',\n",
       " 'FD',\n",
       " 'NC',\n",
       " 'FD',\n",
       " 'FD',\n",
       " 'NC',\n",
       " 'FD',\n",
       " 'FD',\n",
       " 'FD',\n",
       " 'FD',\n",
       " 'FD',\n",
       " 'FD',\n",
       " 'NC',\n",
       " 'FD',\n",
       " 'FD',\n",
       " 'FD',\n",
       " 'FD',\n",
       " 'DR',\n",
       " 'FD',\n",
       " 'FD',\n",
       " 'FD',\n",
       " 'NC',\n",
       " 'NC',\n",
       " 'FD',\n",
       " 'NC',\n",
       " 'FD',\n",
       " 'FD',\n",
       " 'FD',\n",
       " 'FD',\n",
       " 'FD',\n",
       " 'FD',\n",
       " 'FD',\n",
       " 'FD',\n",
       " 'FD',\n",
       " 'FD',\n",
       " 'FD',\n",
       " 'FD',\n",
       " 'FD',\n",
       " 'NC',\n",
       " 'FD',\n",
       " 'FD',\n",
       " 'FD',\n",
       " 'NC',\n",
       " 'NC',\n",
       " 'NC',\n",
       " 'NC',\n",
       " 'FD',\n",
       " 'DR',\n",
       " 'NC',\n",
       " 'NC',\n",
       " 'NC',\n",
       " 'FD',\n",
       " 'FD',\n",
       " 'FD',\n",
       " 'NC',\n",
       " 'FD',\n",
       " 'FD',\n",
       " 'NC',\n",
       " 'NC',\n",
       " 'DR',\n",
       " 'FD',\n",
       " 'FD',\n",
       " 'FD',\n",
       " 'FD',\n",
       " 'NC',\n",
       " 'FD',\n",
       " 'NC',\n",
       " 'FD',\n",
       " 'FD',\n",
       " 'FD',\n",
       " 'FD',\n",
       " 'FD',\n",
       " 'FD',\n",
       " 'FD',\n",
       " 'FD',\n",
       " 'FD',\n",
       " 'FD',\n",
       " 'FD',\n",
       " 'FD',\n",
       " 'DR',\n",
       " 'FD',\n",
       " 'NC',\n",
       " 'FD',\n",
       " 'NC',\n",
       " 'FD',\n",
       " 'FD',\n",
       " 'FD',\n",
       " 'FD',\n",
       " 'FD',\n",
       " 'FD',\n",
       " 'FD',\n",
       " 'NC',\n",
       " 'FD',\n",
       " 'DR',\n",
       " 'FD',\n",
       " 'FD',\n",
       " 'FD',\n",
       " 'FD',\n",
       " 'FD',\n",
       " 'FD',\n",
       " 'FD',\n",
       " 'DR',\n",
       " 'FD',\n",
       " 'FD',\n",
       " 'FD',\n",
       " 'FD',\n",
       " 'FD',\n",
       " 'FD',\n",
       " 'FD',\n",
       " 'FD',\n",
       " 'NC',\n",
       " 'FD',\n",
       " 'FD',\n",
       " 'FD',\n",
       " 'FD',\n",
       " 'FD',\n",
       " 'NC',\n",
       " 'FD',\n",
       " 'FD',\n",
       " 'DR',\n",
       " 'DR',\n",
       " 'FD',\n",
       " 'FD',\n",
       " 'DR',\n",
       " 'FD',\n",
       " 'FD',\n",
       " 'FD',\n",
       " 'NC',\n",
       " 'FD',\n",
       " 'FD',\n",
       " 'FD',\n",
       " 'FD',\n",
       " 'FD',\n",
       " 'FD',\n",
       " 'FD',\n",
       " 'DR',\n",
       " 'FD',\n",
       " 'NC',\n",
       " 'FD',\n",
       " 'FD',\n",
       " 'NC',\n",
       " 'FD',\n",
       " 'FD',\n",
       " 'FD',\n",
       " 'FD',\n",
       " 'FD',\n",
       " 'FD',\n",
       " 'NC',\n",
       " 'FD',\n",
       " 'NC',\n",
       " 'FD',\n",
       " 'FD',\n",
       " 'FD',\n",
       " 'NC',\n",
       " 'FD',\n",
       " 'FD',\n",
       " 'FD',\n",
       " 'FD',\n",
       " 'FD',\n",
       " 'FD',\n",
       " 'DR',\n",
       " 'NC',\n",
       " 'DR',\n",
       " 'FD',\n",
       " 'FD',\n",
       " 'NC',\n",
       " 'FD',\n",
       " 'DR',\n",
       " 'FD',\n",
       " 'FD',\n",
       " 'NC',\n",
       " 'FD',\n",
       " 'FD',\n",
       " 'FD',\n",
       " 'FD',\n",
       " 'FD',\n",
       " 'DR',\n",
       " 'NC',\n",
       " 'FD',\n",
       " 'FD',\n",
       " 'DR',\n",
       " 'FD',\n",
       " 'NC',\n",
       " 'FD',\n",
       " 'NC',\n",
       " 'FD',\n",
       " 'FD',\n",
       " 'FD',\n",
       " 'FD',\n",
       " 'DR',\n",
       " 'NC',\n",
       " 'FD',\n",
       " 'FD',\n",
       " 'FD',\n",
       " 'FD',\n",
       " 'FD',\n",
       " 'FD',\n",
       " 'NC',\n",
       " 'FD',\n",
       " 'FD',\n",
       " 'FD',\n",
       " 'FD',\n",
       " 'DR',\n",
       " 'FD',\n",
       " 'FD',\n",
       " 'DR',\n",
       " 'FD',\n",
       " 'FD',\n",
       " 'NC',\n",
       " 'FD',\n",
       " 'FD',\n",
       " 'FD',\n",
       " 'FD',\n",
       " 'FD',\n",
       " 'FD',\n",
       " 'NC',\n",
       " 'FD',\n",
       " 'FD',\n",
       " 'NC',\n",
       " 'FD',\n",
       " 'FD',\n",
       " 'FD',\n",
       " 'FD',\n",
       " 'FD',\n",
       " 'FD',\n",
       " 'FD',\n",
       " 'DR',\n",
       " 'FD',\n",
       " 'FD',\n",
       " 'NC',\n",
       " 'FD',\n",
       " 'DR',\n",
       " 'FD',\n",
       " 'FD',\n",
       " 'FD',\n",
       " 'NC',\n",
       " 'FD',\n",
       " 'FD',\n",
       " 'FD',\n",
       " 'NC',\n",
       " 'FD',\n",
       " 'FD',\n",
       " 'FD',\n",
       " 'FD',\n",
       " 'FD',\n",
       " 'FD',\n",
       " 'NC',\n",
       " 'FD',\n",
       " 'FD',\n",
       " 'NC',\n",
       " 'FD',\n",
       " 'NC',\n",
       " 'FD',\n",
       " 'DR',\n",
       " 'NC',\n",
       " 'DR',\n",
       " 'NC',\n",
       " 'NC',\n",
       " 'FD',\n",
       " 'FD',\n",
       " 'DR',\n",
       " 'FD',\n",
       " 'DR',\n",
       " 'FD',\n",
       " 'FD',\n",
       " 'FD',\n",
       " 'FD',\n",
       " 'FD',\n",
       " 'FD',\n",
       " 'NC',\n",
       " 'FD',\n",
       " 'FD',\n",
       " 'DR',\n",
       " 'FD',\n",
       " 'FD',\n",
       " 'FD',\n",
       " 'FD',\n",
       " 'FD',\n",
       " 'FD',\n",
       " 'FD',\n",
       " 'NC',\n",
       " 'FD',\n",
       " 'FD',\n",
       " 'FD',\n",
       " 'FD',\n",
       " 'FD',\n",
       " 'NC',\n",
       " 'DR',\n",
       " 'FD',\n",
       " 'FD',\n",
       " 'FD',\n",
       " 'FD',\n",
       " 'FD',\n",
       " 'FD',\n",
       " 'FD',\n",
       " 'FD',\n",
       " 'NC',\n",
       " 'FD',\n",
       " 'FD',\n",
       " 'FD',\n",
       " 'FD',\n",
       " 'FD',\n",
       " 'FD',\n",
       " 'FD',\n",
       " 'FD',\n",
       " 'FD',\n",
       " 'FD',\n",
       " 'NC',\n",
       " 'FD',\n",
       " 'NC',\n",
       " 'FD',\n",
       " 'FD',\n",
       " 'FD',\n",
       " 'DR',\n",
       " 'FD',\n",
       " 'NC',\n",
       " 'FD',\n",
       " 'FD',\n",
       " 'FD',\n",
       " 'FD',\n",
       " 'NC',\n",
       " 'FD',\n",
       " 'FD',\n",
       " 'FD',\n",
       " 'NC',\n",
       " 'FD',\n",
       " 'FD',\n",
       " 'FD',\n",
       " 'FD',\n",
       " 'FD',\n",
       " 'FD',\n",
       " 'FD',\n",
       " 'FD',\n",
       " 'FD',\n",
       " 'NC',\n",
       " 'FD',\n",
       " 'FD',\n",
       " 'NC',\n",
       " 'FD',\n",
       " 'FD',\n",
       " 'NC',\n",
       " 'DR',\n",
       " 'FD',\n",
       " 'NC',\n",
       " 'FD',\n",
       " 'DR',\n",
       " 'NC',\n",
       " ...]"
      ]
     },
     "execution_count": 83,
     "metadata": {},
     "output_type": "execute_result"
    }
   ],
   "source": [
    "ids"
   ]
  },
  {
   "cell_type": "code",
   "execution_count": 84,
   "metadata": {},
   "outputs": [],
   "source": [
    "sales['Item_Ids']= pd.Series(ids)"
   ]
  },
  {
   "cell_type": "code",
   "execution_count": 85,
   "metadata": {},
   "outputs": [
    {
     "data": {
      "text/html": [
       "<div>\n",
       "<style scoped>\n",
       "    .dataframe tbody tr th:only-of-type {\n",
       "        vertical-align: middle;\n",
       "    }\n",
       "\n",
       "    .dataframe tbody tr th {\n",
       "        vertical-align: top;\n",
       "    }\n",
       "\n",
       "    .dataframe thead th {\n",
       "        text-align: right;\n",
       "    }\n",
       "</style>\n",
       "<table border=\"1\" class=\"dataframe\">\n",
       "  <thead>\n",
       "    <tr style=\"text-align: right;\">\n",
       "      <th></th>\n",
       "      <th>Item_Identifier</th>\n",
       "      <th>Item_Weight</th>\n",
       "      <th>Item_Fat_Content</th>\n",
       "      <th>Item_Visibility</th>\n",
       "      <th>Item_Type</th>\n",
       "      <th>Item_MRP</th>\n",
       "      <th>Outlet_Identifier</th>\n",
       "      <th>Outlet_Establishment_Year</th>\n",
       "      <th>Outlet_Size</th>\n",
       "      <th>Outlet_Location_Type</th>\n",
       "      <th>Outlet_Type</th>\n",
       "      <th>Item_Outlet_Sales</th>\n",
       "      <th>Profit</th>\n",
       "      <th>Item_TypeBinned</th>\n",
       "    </tr>\n",
       "    <tr>\n",
       "      <th>Item_Ids</th>\n",
       "      <th></th>\n",
       "      <th></th>\n",
       "      <th></th>\n",
       "      <th></th>\n",
       "      <th></th>\n",
       "      <th></th>\n",
       "      <th></th>\n",
       "      <th></th>\n",
       "      <th></th>\n",
       "      <th></th>\n",
       "      <th></th>\n",
       "      <th></th>\n",
       "      <th></th>\n",
       "      <th></th>\n",
       "    </tr>\n",
       "  </thead>\n",
       "  <tbody>\n",
       "    <tr>\n",
       "      <th>DR</th>\n",
       "      <td>799</td>\n",
       "      <td>799</td>\n",
       "      <td>799</td>\n",
       "      <td>799</td>\n",
       "      <td>799</td>\n",
       "      <td>799</td>\n",
       "      <td>799</td>\n",
       "      <td>799</td>\n",
       "      <td>799</td>\n",
       "      <td>601</td>\n",
       "      <td>799</td>\n",
       "      <td>799</td>\n",
       "      <td>799</td>\n",
       "      <td>799</td>\n",
       "    </tr>\n",
       "    <tr>\n",
       "      <th>FD</th>\n",
       "      <td>6125</td>\n",
       "      <td>6125</td>\n",
       "      <td>6125</td>\n",
       "      <td>6125</td>\n",
       "      <td>6125</td>\n",
       "      <td>6125</td>\n",
       "      <td>6125</td>\n",
       "      <td>6125</td>\n",
       "      <td>6125</td>\n",
       "      <td>4651</td>\n",
       "      <td>6125</td>\n",
       "      <td>6125</td>\n",
       "      <td>6125</td>\n",
       "      <td>6125</td>\n",
       "    </tr>\n",
       "    <tr>\n",
       "      <th>NC</th>\n",
       "      <td>1599</td>\n",
       "      <td>1599</td>\n",
       "      <td>1599</td>\n",
       "      <td>1599</td>\n",
       "      <td>1599</td>\n",
       "      <td>1599</td>\n",
       "      <td>1599</td>\n",
       "      <td>1599</td>\n",
       "      <td>1599</td>\n",
       "      <td>1221</td>\n",
       "      <td>1599</td>\n",
       "      <td>1599</td>\n",
       "      <td>1599</td>\n",
       "      <td>1599</td>\n",
       "    </tr>\n",
       "  </tbody>\n",
       "</table>\n",
       "</div>"
      ],
      "text/plain": [
       "          Item_Identifier  Item_Weight  Item_Fat_Content  Item_Visibility  \\\n",
       "Item_Ids                                                                    \n",
       "DR                    799          799               799              799   \n",
       "FD                   6125         6125              6125             6125   \n",
       "NC                   1599         1599              1599             1599   \n",
       "\n",
       "          Item_Type  Item_MRP  Outlet_Identifier  Outlet_Establishment_Year  \\\n",
       "Item_Ids                                                                      \n",
       "DR              799       799                799                        799   \n",
       "FD             6125      6125               6125                       6125   \n",
       "NC             1599      1599               1599                       1599   \n",
       "\n",
       "          Outlet_Size  Outlet_Location_Type  Outlet_Type  Item_Outlet_Sales  \\\n",
       "Item_Ids                                                                      \n",
       "DR                799                   601          799                799   \n",
       "FD               6125                  4651         6125               6125   \n",
       "NC               1599                  1221         1599               1599   \n",
       "\n",
       "          Profit  Item_TypeBinned  \n",
       "Item_Ids                           \n",
       "DR           799              799  \n",
       "FD          6125             6125  \n",
       "NC          1599             1599  "
      ]
     },
     "execution_count": 85,
     "metadata": {},
     "output_type": "execute_result"
    }
   ],
   "source": [
    "sales.groupby('Item_Ids').count()"
   ]
  },
  {
   "cell_type": "code",
   "execution_count": 86,
   "metadata": {
    "scrolled": true
   },
   "outputs": [
    {
     "data": {
      "text/html": [
       "<div>\n",
       "<style scoped>\n",
       "    .dataframe tbody tr th:only-of-type {\n",
       "        vertical-align: middle;\n",
       "    }\n",
       "\n",
       "    .dataframe tbody tr th {\n",
       "        vertical-align: top;\n",
       "    }\n",
       "\n",
       "    .dataframe thead th {\n",
       "        text-align: right;\n",
       "    }\n",
       "</style>\n",
       "<table border=\"1\" class=\"dataframe\">\n",
       "  <thead>\n",
       "    <tr style=\"text-align: right;\">\n",
       "      <th></th>\n",
       "      <th>Item_Identifier</th>\n",
       "      <th>Item_Weight</th>\n",
       "      <th>Item_Fat_Content</th>\n",
       "      <th>Item_Visibility</th>\n",
       "      <th>Item_Type</th>\n",
       "      <th>Item_MRP</th>\n",
       "      <th>Outlet_Identifier</th>\n",
       "      <th>Outlet_Establishment_Year</th>\n",
       "      <th>Outlet_Size</th>\n",
       "      <th>Outlet_Location_Type</th>\n",
       "      <th>Outlet_Type</th>\n",
       "      <th>Item_Outlet_Sales</th>\n",
       "      <th>Profit</th>\n",
       "      <th>Item_TypeBinned</th>\n",
       "      <th>Item_Ids</th>\n",
       "    </tr>\n",
       "  </thead>\n",
       "  <tbody>\n",
       "    <tr>\n",
       "      <th>0</th>\n",
       "      <td>FDA15</td>\n",
       "      <td>9.30</td>\n",
       "      <td>Low Fat</td>\n",
       "      <td>0.016047</td>\n",
       "      <td>Dairy</td>\n",
       "      <td>249.8</td>\n",
       "      <td>OUT049</td>\n",
       "      <td>1999</td>\n",
       "      <td>Medium</td>\n",
       "      <td>Tier 2</td>\n",
       "      <td>Supermarket Type1</td>\n",
       "      <td>3735.1380</td>\n",
       "      <td>11.5</td>\n",
       "      <td>Perishables</td>\n",
       "      <td>FD</td>\n",
       "    </tr>\n",
       "    <tr>\n",
       "      <th>1</th>\n",
       "      <td>DRC01</td>\n",
       "      <td>5.92</td>\n",
       "      <td>Regular</td>\n",
       "      <td>0.019278</td>\n",
       "      <td>Soft Drinks</td>\n",
       "      <td>48.3</td>\n",
       "      <td>OUT018</td>\n",
       "      <td>2009</td>\n",
       "      <td>Medium</td>\n",
       "      <td>Tier 2</td>\n",
       "      <td>Supermarket Type2</td>\n",
       "      <td>443.4228</td>\n",
       "      <td>14.3</td>\n",
       "      <td>Non-Perishables</td>\n",
       "      <td>DR</td>\n",
       "    </tr>\n",
       "    <tr>\n",
       "      <th>2</th>\n",
       "      <td>FDN15</td>\n",
       "      <td>17.50</td>\n",
       "      <td>Low Fat</td>\n",
       "      <td>0.016760</td>\n",
       "      <td>Meat</td>\n",
       "      <td>141.6</td>\n",
       "      <td>OUT049</td>\n",
       "      <td>1999</td>\n",
       "      <td>Medium</td>\n",
       "      <td>Tier 2</td>\n",
       "      <td>Supermarket Type1</td>\n",
       "      <td>2097.2700</td>\n",
       "      <td>14.5</td>\n",
       "      <td>Perishables</td>\n",
       "      <td>FD</td>\n",
       "    </tr>\n",
       "    <tr>\n",
       "      <th>3</th>\n",
       "      <td>FDX07</td>\n",
       "      <td>19.20</td>\n",
       "      <td>Regular</td>\n",
       "      <td>0.000000</td>\n",
       "      <td>Fruits and Vegetables</td>\n",
       "      <td>182.1</td>\n",
       "      <td>OUT010</td>\n",
       "      <td>1998</td>\n",
       "      <td>Small</td>\n",
       "      <td>NaN</td>\n",
       "      <td>Grocery Store</td>\n",
       "      <td>732.3800</td>\n",
       "      <td>13.6</td>\n",
       "      <td>Perishables</td>\n",
       "      <td>FD</td>\n",
       "    </tr>\n",
       "    <tr>\n",
       "      <th>4</th>\n",
       "      <td>NCD19</td>\n",
       "      <td>8.93</td>\n",
       "      <td>Low Fat</td>\n",
       "      <td>0.000000</td>\n",
       "      <td>Household</td>\n",
       "      <td>53.9</td>\n",
       "      <td>OUT013</td>\n",
       "      <td>1987</td>\n",
       "      <td>High</td>\n",
       "      <td>Tier 3</td>\n",
       "      <td>Supermarket Type1</td>\n",
       "      <td>994.7052</td>\n",
       "      <td>14.1</td>\n",
       "      <td>Non-Perishables</td>\n",
       "      <td>NC</td>\n",
       "    </tr>\n",
       "  </tbody>\n",
       "</table>\n",
       "</div>"
      ],
      "text/plain": [
       "  Item_Identifier  Item_Weight Item_Fat_Content  Item_Visibility  \\\n",
       "0           FDA15         9.30          Low Fat         0.016047   \n",
       "1           DRC01         5.92          Regular         0.019278   \n",
       "2           FDN15        17.50          Low Fat         0.016760   \n",
       "3           FDX07        19.20          Regular         0.000000   \n",
       "4           NCD19         8.93          Low Fat         0.000000   \n",
       "\n",
       "               Item_Type  Item_MRP Outlet_Identifier  \\\n",
       "0                  Dairy     249.8            OUT049   \n",
       "1            Soft Drinks      48.3            OUT018   \n",
       "2                   Meat     141.6            OUT049   \n",
       "3  Fruits and Vegetables     182.1            OUT010   \n",
       "4              Household      53.9            OUT013   \n",
       "\n",
       "   Outlet_Establishment_Year Outlet_Size Outlet_Location_Type  \\\n",
       "0                       1999      Medium               Tier 2   \n",
       "1                       2009      Medium               Tier 2   \n",
       "2                       1999      Medium               Tier 2   \n",
       "3                       1998       Small                  NaN   \n",
       "4                       1987        High               Tier 3   \n",
       "\n",
       "         Outlet_Type  Item_Outlet_Sales  Profit  Item_TypeBinned Item_Ids  \n",
       "0  Supermarket Type1          3735.1380    11.5      Perishables       FD  \n",
       "1  Supermarket Type2           443.4228    14.3  Non-Perishables       DR  \n",
       "2  Supermarket Type1          2097.2700    14.5      Perishables       FD  \n",
       "3      Grocery Store           732.3800    13.6      Perishables       FD  \n",
       "4  Supermarket Type1           994.7052    14.1  Non-Perishables       NC  "
      ]
     },
     "execution_count": 86,
     "metadata": {},
     "output_type": "execute_result"
    }
   ],
   "source": [
    "sales.head()"
   ]
  },
  {
   "cell_type": "code",
   "execution_count": 87,
   "metadata": {},
   "outputs": [],
   "source": [
    "sales.loc[sales['Item_Ids']==\"NC\",'Item_Fat_Content']='Non Edible'"
   ]
  },
  {
   "cell_type": "code",
   "execution_count": 88,
   "metadata": {},
   "outputs": [
    {
     "data": {
      "image/png": "[encoded data removed]",
      "text/plain": [
       "<Figure size 432x288 with 1 Axes>"
      ]
     },
     "metadata": {
      "needs_background": "light"
     },
     "output_type": "display_data"
    }
   ],
   "source": [
    "sns.boxplot(x=sales.Item_Fat_Content, y=sales.Item_Outlet_Sales)\n",
    "plt.show()"
   ]
  },
  {
   "cell_type": "code",
   "execution_count": 89,
   "metadata": {
    "scrolled": false
   },
   "outputs": [
    {
     "data": {
      "text/html": [
       "<div>\n",
       "<style scoped>\n",
       "    .dataframe tbody tr th:only-of-type {\n",
       "        vertical-align: middle;\n",
       "    }\n",
       "\n",
       "    .dataframe tbody tr th {\n",
       "        vertical-align: top;\n",
       "    }\n",
       "\n",
       "    .dataframe thead th {\n",
       "        text-align: right;\n",
       "    }\n",
       "</style>\n",
       "<table border=\"1\" class=\"dataframe\">\n",
       "  <thead>\n",
       "    <tr style=\"text-align: right;\">\n",
       "      <th></th>\n",
       "      <th>Item_Identifier</th>\n",
       "      <th>Item_Weight</th>\n",
       "      <th>Item_Fat_Content</th>\n",
       "      <th>Item_Visibility</th>\n",
       "      <th>Item_Type</th>\n",
       "      <th>Item_MRP</th>\n",
       "      <th>Outlet_Identifier</th>\n",
       "      <th>Outlet_Establishment_Year</th>\n",
       "      <th>Outlet_Size</th>\n",
       "      <th>Outlet_Location_Type</th>\n",
       "      <th>Outlet_Type</th>\n",
       "      <th>Item_Outlet_Sales</th>\n",
       "      <th>Profit</th>\n",
       "      <th>Item_TypeBinned</th>\n",
       "      <th>Item_Ids</th>\n",
       "    </tr>\n",
       "  </thead>\n",
       "  <tbody>\n",
       "    <tr>\n",
       "      <th>0</th>\n",
       "      <td>FDA15</td>\n",
       "      <td>9.300</td>\n",
       "      <td>Low Fat</td>\n",
       "      <td>0.016047</td>\n",
       "      <td>Dairy</td>\n",
       "      <td>249.8</td>\n",
       "      <td>OUT049</td>\n",
       "      <td>1999</td>\n",
       "      <td>Medium</td>\n",
       "      <td>Tier 2</td>\n",
       "      <td>Supermarket Type1</td>\n",
       "      <td>3735.1380</td>\n",
       "      <td>11.5</td>\n",
       "      <td>Perishables</td>\n",
       "      <td>FD</td>\n",
       "    </tr>\n",
       "    <tr>\n",
       "      <th>1</th>\n",
       "      <td>DRC01</td>\n",
       "      <td>5.920</td>\n",
       "      <td>Regular</td>\n",
       "      <td>0.019278</td>\n",
       "      <td>Soft Drinks</td>\n",
       "      <td>48.3</td>\n",
       "      <td>OUT018</td>\n",
       "      <td>2009</td>\n",
       "      <td>Medium</td>\n",
       "      <td>Tier 2</td>\n",
       "      <td>Supermarket Type2</td>\n",
       "      <td>443.4228</td>\n",
       "      <td>14.3</td>\n",
       "      <td>Non-Perishables</td>\n",
       "      <td>DR</td>\n",
       "    </tr>\n",
       "    <tr>\n",
       "      <th>2</th>\n",
       "      <td>FDN15</td>\n",
       "      <td>17.500</td>\n",
       "      <td>Low Fat</td>\n",
       "      <td>0.016760</td>\n",
       "      <td>Meat</td>\n",
       "      <td>141.6</td>\n",
       "      <td>OUT049</td>\n",
       "      <td>1999</td>\n",
       "      <td>Medium</td>\n",
       "      <td>Tier 2</td>\n",
       "      <td>Supermarket Type1</td>\n",
       "      <td>2097.2700</td>\n",
       "      <td>14.5</td>\n",
       "      <td>Perishables</td>\n",
       "      <td>FD</td>\n",
       "    </tr>\n",
       "    <tr>\n",
       "      <th>3</th>\n",
       "      <td>FDX07</td>\n",
       "      <td>19.200</td>\n",
       "      <td>Regular</td>\n",
       "      <td>0.000000</td>\n",
       "      <td>Fruits and Vegetables</td>\n",
       "      <td>182.1</td>\n",
       "      <td>OUT010</td>\n",
       "      <td>1998</td>\n",
       "      <td>Small</td>\n",
       "      <td>NaN</td>\n",
       "      <td>Grocery Store</td>\n",
       "      <td>732.3800</td>\n",
       "      <td>13.6</td>\n",
       "      <td>Perishables</td>\n",
       "      <td>FD</td>\n",
       "    </tr>\n",
       "    <tr>\n",
       "      <th>4</th>\n",
       "      <td>NCD19</td>\n",
       "      <td>8.930</td>\n",
       "      <td>Non Edible</td>\n",
       "      <td>0.000000</td>\n",
       "      <td>Household</td>\n",
       "      <td>53.9</td>\n",
       "      <td>OUT013</td>\n",
       "      <td>1987</td>\n",
       "      <td>High</td>\n",
       "      <td>Tier 3</td>\n",
       "      <td>Supermarket Type1</td>\n",
       "      <td>994.7052</td>\n",
       "      <td>14.1</td>\n",
       "      <td>Non-Perishables</td>\n",
       "      <td>NC</td>\n",
       "    </tr>\n",
       "    <tr>\n",
       "      <th>5</th>\n",
       "      <td>FDP36</td>\n",
       "      <td>10.395</td>\n",
       "      <td>Regular</td>\n",
       "      <td>0.000000</td>\n",
       "      <td>Baking Goods</td>\n",
       "      <td>51.4</td>\n",
       "      <td>OUT018</td>\n",
       "      <td>2009</td>\n",
       "      <td>Medium</td>\n",
       "      <td>Tier 2</td>\n",
       "      <td>Supermarket Type2</td>\n",
       "      <td>556.6088</td>\n",
       "      <td>9.5</td>\n",
       "      <td>Non-Perishables</td>\n",
       "      <td>FD</td>\n",
       "    </tr>\n",
       "    <tr>\n",
       "      <th>6</th>\n",
       "      <td>FDO10</td>\n",
       "      <td>13.650</td>\n",
       "      <td>Regular</td>\n",
       "      <td>0.012741</td>\n",
       "      <td>Snack Foods</td>\n",
       "      <td>57.7</td>\n",
       "      <td>OUT013</td>\n",
       "      <td>1987</td>\n",
       "      <td>High</td>\n",
       "      <td>Tier 3</td>\n",
       "      <td>Supermarket Type1</td>\n",
       "      <td>343.5528</td>\n",
       "      <td>8.8</td>\n",
       "      <td>Non-Perishables</td>\n",
       "      <td>FD</td>\n",
       "    </tr>\n",
       "    <tr>\n",
       "      <th>7</th>\n",
       "      <td>FDP10</td>\n",
       "      <td>19.000</td>\n",
       "      <td>Low Fat</td>\n",
       "      <td>0.127470</td>\n",
       "      <td>Snack Foods</td>\n",
       "      <td>107.8</td>\n",
       "      <td>OUT027</td>\n",
       "      <td>1985</td>\n",
       "      <td>Medium</td>\n",
       "      <td>Tier 2</td>\n",
       "      <td>Supermarket Type3</td>\n",
       "      <td>4022.7636</td>\n",
       "      <td>13.3</td>\n",
       "      <td>Non-Perishables</td>\n",
       "      <td>FD</td>\n",
       "    </tr>\n",
       "    <tr>\n",
       "      <th>8</th>\n",
       "      <td>FDH17</td>\n",
       "      <td>16.200</td>\n",
       "      <td>Regular</td>\n",
       "      <td>0.016687</td>\n",
       "      <td>Frozen Foods</td>\n",
       "      <td>97.0</td>\n",
       "      <td>OUT045</td>\n",
       "      <td>2002</td>\n",
       "      <td>Small</td>\n",
       "      <td>NaN</td>\n",
       "      <td>Supermarket Type1</td>\n",
       "      <td>1076.5986</td>\n",
       "      <td>13.0</td>\n",
       "      <td>Perishables</td>\n",
       "      <td>FD</td>\n",
       "    </tr>\n",
       "    <tr>\n",
       "      <th>9</th>\n",
       "      <td>FDU28</td>\n",
       "      <td>19.200</td>\n",
       "      <td>Regular</td>\n",
       "      <td>0.094450</td>\n",
       "      <td>Frozen Foods</td>\n",
       "      <td>187.8</td>\n",
       "      <td>OUT017</td>\n",
       "      <td>2007</td>\n",
       "      <td>Small</td>\n",
       "      <td>--</td>\n",
       "      <td>Supermarket Type1</td>\n",
       "      <td>4710.5350</td>\n",
       "      <td>13.6</td>\n",
       "      <td>Perishables</td>\n",
       "      <td>FD</td>\n",
       "    </tr>\n",
       "  </tbody>\n",
       "</table>\n",
       "</div>"
      ],
      "text/plain": [
       "  Item_Identifier  Item_Weight Item_Fat_Content  Item_Visibility  \\\n",
       "0           FDA15        9.300          Low Fat         0.016047   \n",
       "1           DRC01        5.920          Regular         0.019278   \n",
       "2           FDN15       17.500          Low Fat         0.016760   \n",
       "3           FDX07       19.200          Regular         0.000000   \n",
       "4           NCD19        8.930       Non Edible         0.000000   \n",
       "5           FDP36       10.395          Regular         0.000000   \n",
       "6           FDO10       13.650          Regular         0.012741   \n",
       "7           FDP10       19.000          Low Fat         0.127470   \n",
       "8           FDH17       16.200          Regular         0.016687   \n",
       "9           FDU28       19.200          Regular         0.094450   \n",
       "\n",
       "               Item_Type  Item_MRP Outlet_Identifier  \\\n",
       "0                  Dairy     249.8            OUT049   \n",
       "1            Soft Drinks      48.3            OUT018   \n",
       "2                   Meat     141.6            OUT049   \n",
       "3  Fruits and Vegetables     182.1            OUT010   \n",
       "4              Household      53.9            OUT013   \n",
       "5           Baking Goods      51.4            OUT018   \n",
       "6            Snack Foods      57.7            OUT013   \n",
       "7            Snack Foods     107.8            OUT027   \n",
       "8           Frozen Foods      97.0            OUT045   \n",
       "9           Frozen Foods     187.8            OUT017   \n",
       "\n",
       "   Outlet_Establishment_Year Outlet_Size Outlet_Location_Type  \\\n",
       "0                       1999      Medium               Tier 2   \n",
       "1                       2009      Medium               Tier 2   \n",
       "2                       1999      Medium               Tier 2   \n",
       "3                       1998       Small                  NaN   \n",
       "4                       1987        High               Tier 3   \n",
       "5                       2009      Medium               Tier 2   \n",
       "6                       1987        High               Tier 3   \n",
       "7                       1985      Medium               Tier 2   \n",
       "8                       2002       Small                  NaN   \n",
       "9                       2007       Small                   --   \n",
       "\n",
       "         Outlet_Type  Item_Outlet_Sales  Profit  Item_TypeBinned Item_Ids  \n",
       "0  Supermarket Type1          3735.1380    11.5      Perishables       FD  \n",
       "1  Supermarket Type2           443.4228    14.3  Non-Perishables       DR  \n",
       "2  Supermarket Type1          2097.2700    14.5      Perishables       FD  \n",
       "3      Grocery Store           732.3800    13.6      Perishables       FD  \n",
       "4  Supermarket Type1           994.7052    14.1  Non-Perishables       NC  \n",
       "5  Supermarket Type2           556.6088     9.5  Non-Perishables       FD  \n",
       "6  Supermarket Type1           343.5528     8.8  Non-Perishables       FD  \n",
       "7  Supermarket Type3          4022.7636    13.3  Non-Perishables       FD  \n",
       "8  Supermarket Type1          1076.5986    13.0      Perishables       FD  \n",
       "9  Supermarket Type1          4710.5350    13.6      Perishables       FD  "
      ]
     },
     "execution_count": 89,
     "metadata": {},
     "output_type": "execute_result"
    }
   ],
   "source": [
    "sales.head(10)"
   ]
  },
  {
   "cell_type": "code",
   "execution_count": 90,
   "metadata": {},
   "outputs": [],
   "source": [
    "sales.loc[sales['Outlet_Identifier']!=\"OUT027\",'Outlet_Identifier']=\"Others\""
   ]
  },
  {
   "cell_type": "code",
   "execution_count": 91,
   "metadata": {},
   "outputs": [
    {
     "data": {
      "text/plain": [
       "Others    7588\n",
       "OUT027     935\n",
       "Name: Outlet_Identifier, dtype: int64"
      ]
     },
     "execution_count": 91,
     "metadata": {},
     "output_type": "execute_result"
    }
   ],
   "source": [
    "sales.Outlet_Identifier.value_counts()"
   ]
  },
  {
   "cell_type": "code",
   "execution_count": 92,
   "metadata": {},
   "outputs": [],
   "source": [
    "sales[\"Outlet_Age\"]=2013-sales[\"Outlet_Establishment_Year\"]"
   ]
  },
  {
   "cell_type": "code",
   "execution_count": 93,
   "metadata": {},
   "outputs": [
    {
     "data": {
      "text/html": [
       "<div>\n",
       "<style scoped>\n",
       "    .dataframe tbody tr th:only-of-type {\n",
       "        vertical-align: middle;\n",
       "    }\n",
       "\n",
       "    .dataframe tbody tr th {\n",
       "        vertical-align: top;\n",
       "    }\n",
       "\n",
       "    .dataframe thead th {\n",
       "        text-align: right;\n",
       "    }\n",
       "</style>\n",
       "<table border=\"1\" class=\"dataframe\">\n",
       "  <thead>\n",
       "    <tr style=\"text-align: right;\">\n",
       "      <th></th>\n",
       "      <th>Item_Identifier</th>\n",
       "      <th>Item_Weight</th>\n",
       "      <th>Item_Fat_Content</th>\n",
       "      <th>Item_Visibility</th>\n",
       "      <th>Item_Type</th>\n",
       "      <th>Item_MRP</th>\n",
       "      <th>Outlet_Identifier</th>\n",
       "      <th>Outlet_Establishment_Year</th>\n",
       "      <th>Outlet_Size</th>\n",
       "      <th>Outlet_Location_Type</th>\n",
       "      <th>Outlet_Type</th>\n",
       "      <th>Item_Outlet_Sales</th>\n",
       "      <th>Profit</th>\n",
       "      <th>Item_TypeBinned</th>\n",
       "      <th>Item_Ids</th>\n",
       "      <th>Outlet_Age</th>\n",
       "    </tr>\n",
       "  </thead>\n",
       "  <tbody>\n",
       "    <tr>\n",
       "      <th>0</th>\n",
       "      <td>FDA15</td>\n",
       "      <td>9.300</td>\n",
       "      <td>Low Fat</td>\n",
       "      <td>0.016047</td>\n",
       "      <td>Dairy</td>\n",
       "      <td>249.8</td>\n",
       "      <td>Others</td>\n",
       "      <td>1999</td>\n",
       "      <td>Medium</td>\n",
       "      <td>Tier 2</td>\n",
       "      <td>Supermarket Type1</td>\n",
       "      <td>3735.1380</td>\n",
       "      <td>11.5</td>\n",
       "      <td>Perishables</td>\n",
       "      <td>FD</td>\n",
       "      <td>14</td>\n",
       "    </tr>\n",
       "    <tr>\n",
       "      <th>1</th>\n",
       "      <td>DRC01</td>\n",
       "      <td>5.920</td>\n",
       "      <td>Regular</td>\n",
       "      <td>0.019278</td>\n",
       "      <td>Soft Drinks</td>\n",
       "      <td>48.3</td>\n",
       "      <td>Others</td>\n",
       "      <td>2009</td>\n",
       "      <td>Medium</td>\n",
       "      <td>Tier 2</td>\n",
       "      <td>Supermarket Type2</td>\n",
       "      <td>443.4228</td>\n",
       "      <td>14.3</td>\n",
       "      <td>Non-Perishables</td>\n",
       "      <td>DR</td>\n",
       "      <td>4</td>\n",
       "    </tr>\n",
       "    <tr>\n",
       "      <th>2</th>\n",
       "      <td>FDN15</td>\n",
       "      <td>17.500</td>\n",
       "      <td>Low Fat</td>\n",
       "      <td>0.016760</td>\n",
       "      <td>Meat</td>\n",
       "      <td>141.6</td>\n",
       "      <td>Others</td>\n",
       "      <td>1999</td>\n",
       "      <td>Medium</td>\n",
       "      <td>Tier 2</td>\n",
       "      <td>Supermarket Type1</td>\n",
       "      <td>2097.2700</td>\n",
       "      <td>14.5</td>\n",
       "      <td>Perishables</td>\n",
       "      <td>FD</td>\n",
       "      <td>14</td>\n",
       "    </tr>\n",
       "    <tr>\n",
       "      <th>3</th>\n",
       "      <td>FDX07</td>\n",
       "      <td>19.200</td>\n",
       "      <td>Regular</td>\n",
       "      <td>0.000000</td>\n",
       "      <td>Fruits and Vegetables</td>\n",
       "      <td>182.1</td>\n",
       "      <td>Others</td>\n",
       "      <td>1998</td>\n",
       "      <td>Small</td>\n",
       "      <td>NaN</td>\n",
       "      <td>Grocery Store</td>\n",
       "      <td>732.3800</td>\n",
       "      <td>13.6</td>\n",
       "      <td>Perishables</td>\n",
       "      <td>FD</td>\n",
       "      <td>15</td>\n",
       "    </tr>\n",
       "    <tr>\n",
       "      <th>4</th>\n",
       "      <td>NCD19</td>\n",
       "      <td>8.930</td>\n",
       "      <td>Non Edible</td>\n",
       "      <td>0.000000</td>\n",
       "      <td>Household</td>\n",
       "      <td>53.9</td>\n",
       "      <td>Others</td>\n",
       "      <td>1987</td>\n",
       "      <td>High</td>\n",
       "      <td>Tier 3</td>\n",
       "      <td>Supermarket Type1</td>\n",
       "      <td>994.7052</td>\n",
       "      <td>14.1</td>\n",
       "      <td>Non-Perishables</td>\n",
       "      <td>NC</td>\n",
       "      <td>26</td>\n",
       "    </tr>\n",
       "    <tr>\n",
       "      <th>5</th>\n",
       "      <td>FDP36</td>\n",
       "      <td>10.395</td>\n",
       "      <td>Regular</td>\n",
       "      <td>0.000000</td>\n",
       "      <td>Baking Goods</td>\n",
       "      <td>51.4</td>\n",
       "      <td>Others</td>\n",
       "      <td>2009</td>\n",
       "      <td>Medium</td>\n",
       "      <td>Tier 2</td>\n",
       "      <td>Supermarket Type2</td>\n",
       "      <td>556.6088</td>\n",
       "      <td>9.5</td>\n",
       "      <td>Non-Perishables</td>\n",
       "      <td>FD</td>\n",
       "      <td>4</td>\n",
       "    </tr>\n",
       "    <tr>\n",
       "      <th>6</th>\n",
       "      <td>FDO10</td>\n",
       "      <td>13.650</td>\n",
       "      <td>Regular</td>\n",
       "      <td>0.012741</td>\n",
       "      <td>Snack Foods</td>\n",
       "      <td>57.7</td>\n",
       "      <td>Others</td>\n",
       "      <td>1987</td>\n",
       "      <td>High</td>\n",
       "      <td>Tier 3</td>\n",
       "      <td>Supermarket Type1</td>\n",
       "      <td>343.5528</td>\n",
       "      <td>8.8</td>\n",
       "      <td>Non-Perishables</td>\n",
       "      <td>FD</td>\n",
       "      <td>26</td>\n",
       "    </tr>\n",
       "    <tr>\n",
       "      <th>7</th>\n",
       "      <td>FDP10</td>\n",
       "      <td>19.000</td>\n",
       "      <td>Low Fat</td>\n",
       "      <td>0.127470</td>\n",
       "      <td>Snack Foods</td>\n",
       "      <td>107.8</td>\n",
       "      <td>OUT027</td>\n",
       "      <td>1985</td>\n",
       "      <td>Medium</td>\n",
       "      <td>Tier 2</td>\n",
       "      <td>Supermarket Type3</td>\n",
       "      <td>4022.7636</td>\n",
       "      <td>13.3</td>\n",
       "      <td>Non-Perishables</td>\n",
       "      <td>FD</td>\n",
       "      <td>28</td>\n",
       "    </tr>\n",
       "    <tr>\n",
       "      <th>8</th>\n",
       "      <td>FDH17</td>\n",
       "      <td>16.200</td>\n",
       "      <td>Regular</td>\n",
       "      <td>0.016687</td>\n",
       "      <td>Frozen Foods</td>\n",
       "      <td>97.0</td>\n",
       "      <td>Others</td>\n",
       "      <td>2002</td>\n",
       "      <td>Small</td>\n",
       "      <td>NaN</td>\n",
       "      <td>Supermarket Type1</td>\n",
       "      <td>1076.5986</td>\n",
       "      <td>13.0</td>\n",
       "      <td>Perishables</td>\n",
       "      <td>FD</td>\n",
       "      <td>11</td>\n",
       "    </tr>\n",
       "    <tr>\n",
       "      <th>9</th>\n",
       "      <td>FDU28</td>\n",
       "      <td>19.200</td>\n",
       "      <td>Regular</td>\n",
       "      <td>0.094450</td>\n",
       "      <td>Frozen Foods</td>\n",
       "      <td>187.8</td>\n",
       "      <td>Others</td>\n",
       "      <td>2007</td>\n",
       "      <td>Small</td>\n",
       "      <td>--</td>\n",
       "      <td>Supermarket Type1</td>\n",
       "      <td>4710.5350</td>\n",
       "      <td>13.6</td>\n",
       "      <td>Perishables</td>\n",
       "      <td>FD</td>\n",
       "      <td>6</td>\n",
       "    </tr>\n",
       "  </tbody>\n",
       "</table>\n",
       "</div>"
      ],
      "text/plain": [
       "  Item_Identifier  Item_Weight Item_Fat_Content  Item_Visibility  \\\n",
       "0           FDA15        9.300          Low Fat         0.016047   \n",
       "1           DRC01        5.920          Regular         0.019278   \n",
       "2           FDN15       17.500          Low Fat         0.016760   \n",
       "3           FDX07       19.200          Regular         0.000000   \n",
       "4           NCD19        8.930       Non Edible         0.000000   \n",
       "5           FDP36       10.395          Regular         0.000000   \n",
       "6           FDO10       13.650          Regular         0.012741   \n",
       "7           FDP10       19.000          Low Fat         0.127470   \n",
       "8           FDH17       16.200          Regular         0.016687   \n",
       "9           FDU28       19.200          Regular         0.094450   \n",
       "\n",
       "               Item_Type  Item_MRP Outlet_Identifier  \\\n",
       "0                  Dairy     249.8            Others   \n",
       "1            Soft Drinks      48.3            Others   \n",
       "2                   Meat     141.6            Others   \n",
       "3  Fruits and Vegetables     182.1            Others   \n",
       "4              Household      53.9            Others   \n",
       "5           Baking Goods      51.4            Others   \n",
       "6            Snack Foods      57.7            Others   \n",
       "7            Snack Foods     107.8            OUT027   \n",
       "8           Frozen Foods      97.0            Others   \n",
       "9           Frozen Foods     187.8            Others   \n",
       "\n",
       "   Outlet_Establishment_Year Outlet_Size Outlet_Location_Type  \\\n",
       "0                       1999      Medium               Tier 2   \n",
       "1                       2009      Medium               Tier 2   \n",
       "2                       1999      Medium               Tier 2   \n",
       "3                       1998       Small                  NaN   \n",
       "4                       1987        High               Tier 3   \n",
       "5                       2009      Medium               Tier 2   \n",
       "6                       1987        High               Tier 3   \n",
       "7                       1985      Medium               Tier 2   \n",
       "8                       2002       Small                  NaN   \n",
       "9                       2007       Small                   --   \n",
       "\n",
       "         Outlet_Type  Item_Outlet_Sales  Profit  Item_TypeBinned Item_Ids  \\\n",
       "0  Supermarket Type1          3735.1380    11.5      Perishables       FD   \n",
       "1  Supermarket Type2           443.4228    14.3  Non-Perishables       DR   \n",
       "2  Supermarket Type1          2097.2700    14.5      Perishables       FD   \n",
       "3      Grocery Store           732.3800    13.6      Perishables       FD   \n",
       "4  Supermarket Type1           994.7052    14.1  Non-Perishables       NC   \n",
       "5  Supermarket Type2           556.6088     9.5  Non-Perishables       FD   \n",
       "6  Supermarket Type1           343.5528     8.8  Non-Perishables       FD   \n",
       "7  Supermarket Type3          4022.7636    13.3  Non-Perishables       FD   \n",
       "8  Supermarket Type1          1076.5986    13.0      Perishables       FD   \n",
       "9  Supermarket Type1          4710.5350    13.6      Perishables       FD   \n",
       "\n",
       "   Outlet_Age  \n",
       "0          14  \n",
       "1           4  \n",
       "2          14  \n",
       "3          15  \n",
       "4          26  \n",
       "5           4  \n",
       "6          26  \n",
       "7          28  \n",
       "8          11  \n",
       "9           6  "
      ]
     },
     "execution_count": 93,
     "metadata": {},
     "output_type": "execute_result"
    }
   ],
   "source": [
    "sales.head(10)"
   ]
  },
  {
   "cell_type": "code",
   "execution_count": 94,
   "metadata": {},
   "outputs": [],
   "source": [
    "finalsales=sales.drop([\"Item_Identifier\",\"Item_Type\",\n",
    "                      \"Outlet_Establishment_Year\"],axis=1)"
   ]
  },
  {
   "cell_type": "code",
   "execution_count": 95,
   "metadata": {},
   "outputs": [
    {
     "data": {
      "text/plain": [
       "(8523, 13)"
      ]
     },
     "execution_count": 95,
     "metadata": {},
     "output_type": "execute_result"
    }
   ],
   "source": [
    "finalsales.shape"
   ]
  },
  {
   "cell_type": "code",
   "execution_count": 96,
   "metadata": {},
   "outputs": [
    {
     "data": {
      "text/plain": [
       "(8523, 31)"
      ]
     },
     "execution_count": 96,
     "metadata": {},
     "output_type": "execute_result"
    }
   ],
   "source": [
    "pd.get_dummies(finalsales).shape"
   ]
  },
  {
   "cell_type": "code",
   "execution_count": 97,
   "metadata": {},
   "outputs": [
    {
     "data": {
      "text/plain": [
       "(8523, 16)"
      ]
     },
     "execution_count": 97,
     "metadata": {},
     "output_type": "execute_result"
    }
   ],
   "source": [
    "sales.shape"
   ]
  },
  {
   "cell_type": "code",
   "execution_count": 98,
   "metadata": {},
   "outputs": [],
   "source": [
    "val= finalsales.Outlet_Location_Type.mode()"
   ]
  },
  {
   "cell_type": "code",
   "execution_count": 99,
   "metadata": {},
   "outputs": [
    {
     "data": {
      "text/plain": [
       "0    Tier 2\n",
       "dtype: object"
      ]
     },
     "execution_count": 99,
     "metadata": {},
     "output_type": "execute_result"
    }
   ],
   "source": [
    "val\n"
   ]
  },
  {
   "cell_type": "code",
   "execution_count": 100,
   "metadata": {},
   "outputs": [],
   "source": [
    "finalsales['Outlet_Location_Type']=finalsales.Outlet_Location_Type.fillna(value='Tier 2')"
   ]
  },
  {
   "cell_type": "code",
   "execution_count": 101,
   "metadata": {},
   "outputs": [
    {
     "data": {
      "text/plain": [
       "Item_Weight             0\n",
       "Item_Fat_Content        0\n",
       "Item_Visibility         0\n",
       "Item_MRP                0\n",
       "Outlet_Identifier       0\n",
       "Outlet_Size             0\n",
       "Outlet_Location_Type    0\n",
       "Outlet_Type             0\n",
       "Item_Outlet_Sales       0\n",
       "Profit                  0\n",
       "Item_TypeBinned         0\n",
       "Item_Ids                0\n",
       "Outlet_Age              0\n",
       "dtype: int64"
      ]
     },
     "execution_count": 101,
     "metadata": {},
     "output_type": "execute_result"
    }
   ],
   "source": [
    "finalsales.isnull().sum()"
   ]
  },
  {
   "cell_type": "code",
   "execution_count": 102,
   "metadata": {},
   "outputs": [
    {
     "data": {
      "text/html": [
       "<div>\n",
       "<style scoped>\n",
       "    .dataframe tbody tr th:only-of-type {\n",
       "        vertical-align: middle;\n",
       "    }\n",
       "\n",
       "    .dataframe tbody tr th {\n",
       "        vertical-align: top;\n",
       "    }\n",
       "\n",
       "    .dataframe thead th {\n",
       "        text-align: right;\n",
       "    }\n",
       "</style>\n",
       "<table border=\"1\" class=\"dataframe\">\n",
       "  <thead>\n",
       "    <tr style=\"text-align: right;\">\n",
       "      <th></th>\n",
       "      <th>Item_Weight</th>\n",
       "      <th>Item_Fat_Content</th>\n",
       "      <th>Item_Visibility</th>\n",
       "      <th>Item_MRP</th>\n",
       "      <th>Outlet_Identifier</th>\n",
       "      <th>Outlet_Size</th>\n",
       "      <th>Outlet_Location_Type</th>\n",
       "      <th>Outlet_Type</th>\n",
       "      <th>Item_Outlet_Sales</th>\n",
       "      <th>Profit</th>\n",
       "      <th>Item_TypeBinned</th>\n",
       "      <th>Item_Ids</th>\n",
       "      <th>Outlet_Age</th>\n",
       "    </tr>\n",
       "  </thead>\n",
       "  <tbody>\n",
       "    <tr>\n",
       "      <th>0</th>\n",
       "      <td>9.300</td>\n",
       "      <td>Low Fat</td>\n",
       "      <td>0.016047</td>\n",
       "      <td>249.8</td>\n",
       "      <td>Others</td>\n",
       "      <td>Medium</td>\n",
       "      <td>Tier 2</td>\n",
       "      <td>Supermarket Type1</td>\n",
       "      <td>3735.1380</td>\n",
       "      <td>11.5</td>\n",
       "      <td>Perishables</td>\n",
       "      <td>FD</td>\n",
       "      <td>14</td>\n",
       "    </tr>\n",
       "    <tr>\n",
       "      <th>1</th>\n",
       "      <td>5.920</td>\n",
       "      <td>Regular</td>\n",
       "      <td>0.019278</td>\n",
       "      <td>48.3</td>\n",
       "      <td>Others</td>\n",
       "      <td>Medium</td>\n",
       "      <td>Tier 2</td>\n",
       "      <td>Supermarket Type2</td>\n",
       "      <td>443.4228</td>\n",
       "      <td>14.3</td>\n",
       "      <td>Non-Perishables</td>\n",
       "      <td>DR</td>\n",
       "      <td>4</td>\n",
       "    </tr>\n",
       "    <tr>\n",
       "      <th>2</th>\n",
       "      <td>17.500</td>\n",
       "      <td>Low Fat</td>\n",
       "      <td>0.016760</td>\n",
       "      <td>141.6</td>\n",
       "      <td>Others</td>\n",
       "      <td>Medium</td>\n",
       "      <td>Tier 2</td>\n",
       "      <td>Supermarket Type1</td>\n",
       "      <td>2097.2700</td>\n",
       "      <td>14.5</td>\n",
       "      <td>Perishables</td>\n",
       "      <td>FD</td>\n",
       "      <td>14</td>\n",
       "    </tr>\n",
       "    <tr>\n",
       "      <th>3</th>\n",
       "      <td>19.200</td>\n",
       "      <td>Regular</td>\n",
       "      <td>0.000000</td>\n",
       "      <td>182.1</td>\n",
       "      <td>Others</td>\n",
       "      <td>Small</td>\n",
       "      <td>Tier 2</td>\n",
       "      <td>Grocery Store</td>\n",
       "      <td>732.3800</td>\n",
       "      <td>13.6</td>\n",
       "      <td>Perishables</td>\n",
       "      <td>FD</td>\n",
       "      <td>15</td>\n",
       "    </tr>\n",
       "    <tr>\n",
       "      <th>4</th>\n",
       "      <td>8.930</td>\n",
       "      <td>Non Edible</td>\n",
       "      <td>0.000000</td>\n",
       "      <td>53.9</td>\n",
       "      <td>Others</td>\n",
       "      <td>High</td>\n",
       "      <td>Tier 3</td>\n",
       "      <td>Supermarket Type1</td>\n",
       "      <td>994.7052</td>\n",
       "      <td>14.1</td>\n",
       "      <td>Non-Perishables</td>\n",
       "      <td>NC</td>\n",
       "      <td>26</td>\n",
       "    </tr>\n",
       "    <tr>\n",
       "      <th>...</th>\n",
       "      <td>...</td>\n",
       "      <td>...</td>\n",
       "      <td>...</td>\n",
       "      <td>...</td>\n",
       "      <td>...</td>\n",
       "      <td>...</td>\n",
       "      <td>...</td>\n",
       "      <td>...</td>\n",
       "      <td>...</td>\n",
       "      <td>...</td>\n",
       "      <td>...</td>\n",
       "      <td>...</td>\n",
       "      <td>...</td>\n",
       "    </tr>\n",
       "    <tr>\n",
       "      <th>8518</th>\n",
       "      <td>6.865</td>\n",
       "      <td>Low Fat</td>\n",
       "      <td>0.056783</td>\n",
       "      <td>214.5</td>\n",
       "      <td>Others</td>\n",
       "      <td>High</td>\n",
       "      <td>Tier 3</td>\n",
       "      <td>Supermarket Type1</td>\n",
       "      <td>2778.3834</td>\n",
       "      <td>14.1</td>\n",
       "      <td>Non-Perishables</td>\n",
       "      <td>FD</td>\n",
       "      <td>26</td>\n",
       "    </tr>\n",
       "    <tr>\n",
       "      <th>8519</th>\n",
       "      <td>8.380</td>\n",
       "      <td>Regular</td>\n",
       "      <td>0.046982</td>\n",
       "      <td>108.2</td>\n",
       "      <td>Others</td>\n",
       "      <td>Small</td>\n",
       "      <td>Tier 2</td>\n",
       "      <td>Supermarket Type1</td>\n",
       "      <td>549.2850</td>\n",
       "      <td>14.2</td>\n",
       "      <td>Non-Perishables</td>\n",
       "      <td>FD</td>\n",
       "      <td>11</td>\n",
       "    </tr>\n",
       "    <tr>\n",
       "      <th>8520</th>\n",
       "      <td>10.600</td>\n",
       "      <td>Non Edible</td>\n",
       "      <td>0.035186</td>\n",
       "      <td>85.1</td>\n",
       "      <td>Others</td>\n",
       "      <td>Small</td>\n",
       "      <td>Tier1</td>\n",
       "      <td>Supermarket Type1</td>\n",
       "      <td>1193.1136</td>\n",
       "      <td>9.5</td>\n",
       "      <td>Non-Perishables</td>\n",
       "      <td>NC</td>\n",
       "      <td>9</td>\n",
       "    </tr>\n",
       "    <tr>\n",
       "      <th>8521</th>\n",
       "      <td>7.210</td>\n",
       "      <td>Regular</td>\n",
       "      <td>0.145221</td>\n",
       "      <td>103.1</td>\n",
       "      <td>Others</td>\n",
       "      <td>Medium</td>\n",
       "      <td>Tier 2</td>\n",
       "      <td>Supermarket Type2</td>\n",
       "      <td>1845.5976</td>\n",
       "      <td>14.2</td>\n",
       "      <td>Non-Perishables</td>\n",
       "      <td>FD</td>\n",
       "      <td>4</td>\n",
       "    </tr>\n",
       "    <tr>\n",
       "      <th>8522</th>\n",
       "      <td>14.800</td>\n",
       "      <td>Low Fat</td>\n",
       "      <td>0.044878</td>\n",
       "      <td>75.5</td>\n",
       "      <td>Others</td>\n",
       "      <td>Small</td>\n",
       "      <td>Tier1</td>\n",
       "      <td>Supermarket Type1</td>\n",
       "      <td>765.6700</td>\n",
       "      <td>14.6</td>\n",
       "      <td>Non-Perishables</td>\n",
       "      <td>DR</td>\n",
       "      <td>16</td>\n",
       "    </tr>\n",
       "  </tbody>\n",
       "</table>\n",
       "<p>8523 rows × 13 columns</p>\n",
       "</div>"
      ],
      "text/plain": [
       "      Item_Weight Item_Fat_Content  Item_Visibility  Item_MRP  \\\n",
       "0           9.300          Low Fat         0.016047     249.8   \n",
       "1           5.920          Regular         0.019278      48.3   \n",
       "2          17.500          Low Fat         0.016760     141.6   \n",
       "3          19.200          Regular         0.000000     182.1   \n",
       "4           8.930       Non Edible         0.000000      53.9   \n",
       "...           ...              ...              ...       ...   \n",
       "8518        6.865          Low Fat         0.056783     214.5   \n",
       "8519        8.380          Regular         0.046982     108.2   \n",
       "8520       10.600       Non Edible         0.035186      85.1   \n",
       "8521        7.210          Regular         0.145221     103.1   \n",
       "8522       14.800          Low Fat         0.044878      75.5   \n",
       "\n",
       "     Outlet_Identifier Outlet_Size Outlet_Location_Type        Outlet_Type  \\\n",
       "0               Others      Medium               Tier 2  Supermarket Type1   \n",
       "1               Others      Medium               Tier 2  Supermarket Type2   \n",
       "2               Others      Medium               Tier 2  Supermarket Type1   \n",
       "3               Others       Small               Tier 2      Grocery Store   \n",
       "4               Others        High               Tier 3  Supermarket Type1   \n",
       "...                ...         ...                  ...                ...   \n",
       "8518            Others        High               Tier 3  Supermarket Type1   \n",
       "8519            Others       Small               Tier 2  Supermarket Type1   \n",
       "8520            Others       Small                Tier1  Supermarket Type1   \n",
       "8521            Others      Medium               Tier 2  Supermarket Type2   \n",
       "8522            Others       Small                Tier1  Supermarket Type1   \n",
       "\n",
       "      Item_Outlet_Sales  Profit  Item_TypeBinned Item_Ids  Outlet_Age  \n",
       "0             3735.1380    11.5      Perishables       FD          14  \n",
       "1              443.4228    14.3  Non-Perishables       DR           4  \n",
       "2             2097.2700    14.5      Perishables       FD          14  \n",
       "3              732.3800    13.6      Perishables       FD          15  \n",
       "4              994.7052    14.1  Non-Perishables       NC          26  \n",
       "...                 ...     ...              ...      ...         ...  \n",
       "8518          2778.3834    14.1  Non-Perishables       FD          26  \n",
       "8519           549.2850    14.2  Non-Perishables       FD          11  \n",
       "8520          1193.1136     9.5  Non-Perishables       NC           9  \n",
       "8521          1845.5976    14.2  Non-Perishables       FD           4  \n",
       "8522           765.6700    14.6  Non-Perishables       DR          16  \n",
       "\n",
       "[8523 rows x 13 columns]"
      ]
     },
     "execution_count": 102,
     "metadata": {},
     "output_type": "execute_result"
    }
   ],
   "source": [
    "finalsales"
   ]
  },
  {
   "cell_type": "code",
   "execution_count": 103,
   "metadata": {},
   "outputs": [],
   "source": [
    "marks=pd.DataFrame({'Marks':[98,88,65,33,99,74,81,55,68,48]})"
   ]
  },
  {
   "cell_type": "code",
   "execution_count": 104,
   "metadata": {},
   "outputs": [
    {
     "data": {
      "text/html": [
       "<div>\n",
       "<style scoped>\n",
       "    .dataframe tbody tr th:only-of-type {\n",
       "        vertical-align: middle;\n",
       "    }\n",
       "\n",
       "    .dataframe tbody tr th {\n",
       "        vertical-align: top;\n",
       "    }\n",
       "\n",
       "    .dataframe thead th {\n",
       "        text-align: right;\n",
       "    }\n",
       "</style>\n",
       "<table border=\"1\" class=\"dataframe\">\n",
       "  <thead>\n",
       "    <tr style=\"text-align: right;\">\n",
       "      <th></th>\n",
       "      <th>Marks</th>\n",
       "    </tr>\n",
       "  </thead>\n",
       "  <tbody>\n",
       "    <tr>\n",
       "      <th>0</th>\n",
       "      <td>98</td>\n",
       "    </tr>\n",
       "    <tr>\n",
       "      <th>1</th>\n",
       "      <td>88</td>\n",
       "    </tr>\n",
       "    <tr>\n",
       "      <th>2</th>\n",
       "      <td>65</td>\n",
       "    </tr>\n",
       "    <tr>\n",
       "      <th>3</th>\n",
       "      <td>33</td>\n",
       "    </tr>\n",
       "    <tr>\n",
       "      <th>4</th>\n",
       "      <td>99</td>\n",
       "    </tr>\n",
       "    <tr>\n",
       "      <th>5</th>\n",
       "      <td>74</td>\n",
       "    </tr>\n",
       "    <tr>\n",
       "      <th>6</th>\n",
       "      <td>81</td>\n",
       "    </tr>\n",
       "    <tr>\n",
       "      <th>7</th>\n",
       "      <td>55</td>\n",
       "    </tr>\n",
       "    <tr>\n",
       "      <th>8</th>\n",
       "      <td>68</td>\n",
       "    </tr>\n",
       "    <tr>\n",
       "      <th>9</th>\n",
       "      <td>48</td>\n",
       "    </tr>\n",
       "  </tbody>\n",
       "</table>\n",
       "</div>"
      ],
      "text/plain": [
       "   Marks\n",
       "0     98\n",
       "1     88\n",
       "2     65\n",
       "3     33\n",
       "4     99\n",
       "5     74\n",
       "6     81\n",
       "7     55\n",
       "8     68\n",
       "9     48"
      ]
     },
     "execution_count": 104,
     "metadata": {},
     "output_type": "execute_result"
    }
   ],
   "source": [
    "marks"
   ]
  },
  {
   "cell_type": "code",
   "execution_count": 105,
   "metadata": {},
   "outputs": [],
   "source": [
    "from sklearn.preprocessing import StandardScaler"
   ]
  },
  {
   "cell_type": "code",
   "execution_count": 106,
   "metadata": {},
   "outputs": [],
   "source": [
    "sc = StandardScaler()"
   ]
  },
  {
   "cell_type": "code",
   "execution_count": 107,
   "metadata": {},
   "outputs": [
    {
     "data": {
      "text/html": [
       "<div>\n",
       "<style scoped>\n",
       "    .dataframe tbody tr th:only-of-type {\n",
       "        vertical-align: middle;\n",
       "    }\n",
       "\n",
       "    .dataframe tbody tr th {\n",
       "        vertical-align: top;\n",
       "    }\n",
       "\n",
       "    .dataframe thead th {\n",
       "        text-align: right;\n",
       "    }\n",
       "</style>\n",
       "<table border=\"1\" class=\"dataframe\">\n",
       "  <thead>\n",
       "    <tr style=\"text-align: right;\">\n",
       "      <th></th>\n",
       "      <th>0</th>\n",
       "    </tr>\n",
       "  </thead>\n",
       "  <tbody>\n",
       "    <tr>\n",
       "      <th>count</th>\n",
       "      <td>1.000000e+01</td>\n",
       "    </tr>\n",
       "    <tr>\n",
       "      <th>mean</th>\n",
       "      <td>-2.664535e-16</td>\n",
       "    </tr>\n",
       "    <tr>\n",
       "      <th>std</th>\n",
       "      <td>1.054093e+00</td>\n",
       "    </tr>\n",
       "    <tr>\n",
       "      <th>min</th>\n",
       "      <td>-1.852664e+00</td>\n",
       "    </tr>\n",
       "    <tr>\n",
       "      <th>25%</th>\n",
       "      <td>-6.550316e-01</td>\n",
       "    </tr>\n",
       "    <tr>\n",
       "      <th>50%</th>\n",
       "      <td>4.888296e-03</td>\n",
       "    </tr>\n",
       "    <tr>\n",
       "      <th>75%</th>\n",
       "      <td>7.503534e-01</td>\n",
       "    </tr>\n",
       "    <tr>\n",
       "      <th>max</th>\n",
       "      <td>1.373611e+00</td>\n",
       "    </tr>\n",
       "  </tbody>\n",
       "</table>\n",
       "</div>"
      ],
      "text/plain": [
       "                  0\n",
       "count  1.000000e+01\n",
       "mean  -2.664535e-16\n",
       "std    1.054093e+00\n",
       "min   -1.852664e+00\n",
       "25%   -6.550316e-01\n",
       "50%    4.888296e-03\n",
       "75%    7.503534e-01\n",
       "max    1.373611e+00"
      ]
     },
     "execution_count": 107,
     "metadata": {},
     "output_type": "execute_result"
    }
   ],
   "source": [
    "pd.DataFrame(sc.fit_transform(marks)).describe()"
   ]
  },
  {
   "cell_type": "code",
   "execution_count": 108,
   "metadata": {},
   "outputs": [
    {
     "data": {
      "text/plain": [
       "StandardScaler()"
      ]
     },
     "execution_count": 108,
     "metadata": {},
     "output_type": "execute_result"
    }
   ],
   "source": [
    "sc.fit(marks)"
   ]
  },
  {
   "cell_type": "code",
   "execution_count": 109,
   "metadata": {},
   "outputs": [
    {
     "data": {
      "text/plain": [
       "array([[ 1.3247281 ],\n",
       "       [ 0.83589854],\n",
       "       [-0.28840944],\n",
       "       [-1.85266402],\n",
       "       [ 1.37361106],\n",
       "       [ 0.15153716],\n",
       "       [ 0.49371785],\n",
       "       [-0.777239  ],\n",
       "       [-0.14176057],\n",
       "       [-1.11941969]])"
      ]
     },
     "execution_count": 109,
     "metadata": {},
     "output_type": "execute_result"
    }
   ],
   "source": [
    "sc.transform(marks)"
   ]
  },
  {
   "cell_type": "code",
   "execution_count": 110,
   "metadata": {},
   "outputs": [],
   "source": [
    "trf=sc.transform(marks)"
   ]
  },
  {
   "cell_type": "code",
   "execution_count": 111,
   "metadata": {},
   "outputs": [
    {
     "data": {
      "text/plain": [
       "array([[ 1.3247281 ],\n",
       "       [ 0.83589854],\n",
       "       [-0.28840944],\n",
       "       [-1.85266402],\n",
       "       [ 1.37361106],\n",
       "       [ 0.15153716],\n",
       "       [ 0.49371785],\n",
       "       [-0.777239  ],\n",
       "       [-0.14176057],\n",
       "       [-1.11941969]])"
      ]
     },
     "execution_count": 111,
     "metadata": {},
     "output_type": "execute_result"
    }
   ],
   "source": [
    "trf"
   ]
  },
  {
   "cell_type": "code",
   "execution_count": 112,
   "metadata": {},
   "outputs": [
    {
     "data": {
      "text/plain": [
       "array([[98.],\n",
       "       [88.],\n",
       "       [65.],\n",
       "       [33.],\n",
       "       [99.],\n",
       "       [74.],\n",
       "       [81.],\n",
       "       [55.],\n",
       "       [68.],\n",
       "       [48.]])"
      ]
     },
     "execution_count": 112,
     "metadata": {},
     "output_type": "execute_result"
    }
   ],
   "source": [
    "sc.inverse_transform(trf)"
   ]
  },
  {
   "cell_type": "code",
   "execution_count": 113,
   "metadata": {},
   "outputs": [],
   "source": [
    "colnames= finalsales.dtypes[finalsales.dtypes == 'float64'].index"
   ]
  },
  {
   "cell_type": "code",
   "execution_count": 114,
   "metadata": {},
   "outputs": [
    {
     "data": {
      "text/html": [
       "<div>\n",
       "<style scoped>\n",
       "    .dataframe tbody tr th:only-of-type {\n",
       "        vertical-align: middle;\n",
       "    }\n",
       "\n",
       "    .dataframe tbody tr th {\n",
       "        vertical-align: top;\n",
       "    }\n",
       "\n",
       "    .dataframe thead tr th {\n",
       "        text-align: left;\n",
       "    }\n",
       "</style>\n",
       "<table border=\"1\" class=\"dataframe\">\n",
       "  <thead>\n",
       "    <tr>\n",
       "      <th></th>\n",
       "      <th>Item_Weight</th>\n",
       "      <th>Item_Visibility</th>\n",
       "      <th>Item_MRP</th>\n",
       "      <th>Item_Outlet_Sales</th>\n",
       "      <th>Profit</th>\n",
       "    </tr>\n",
       "  </thead>\n",
       "  <tbody>\n",
       "    <tr>\n",
       "      <th>0</th>\n",
       "      <td>-0.428795</td>\n",
       "      <td>-0.970732</td>\n",
       "      <td>1.747685</td>\n",
       "      <td>0.910601</td>\n",
       "      <td>-1.125033</td>\n",
       "    </tr>\n",
       "    <tr>\n",
       "      <th>1</th>\n",
       "      <td>-1.023460</td>\n",
       "      <td>-0.908111</td>\n",
       "      <td>-1.489032</td>\n",
       "      <td>-1.018440</td>\n",
       "      <td>0.520342</td>\n",
       "    </tr>\n",
       "    <tr>\n",
       "      <th>2</th>\n",
       "      <td>1.013884</td>\n",
       "      <td>-0.956917</td>\n",
       "      <td>0.009657</td>\n",
       "      <td>-0.049238</td>\n",
       "      <td>0.637869</td>\n",
       "    </tr>\n",
       "    <tr>\n",
       "      <th>3</th>\n",
       "      <td>1.312976</td>\n",
       "      <td>-1.281758</td>\n",
       "      <td>0.660212</td>\n",
       "      <td>-0.849103</td>\n",
       "      <td>0.108998</td>\n",
       "    </tr>\n",
       "    <tr>\n",
       "      <th>4</th>\n",
       "      <td>-0.493891</td>\n",
       "      <td>-1.281758</td>\n",
       "      <td>-1.399078</td>\n",
       "      <td>-0.695373</td>\n",
       "      <td>0.402815</td>\n",
       "    </tr>\n",
       "    <tr>\n",
       "      <th>...</th>\n",
       "      <td>...</td>\n",
       "      <td>...</td>\n",
       "      <td>...</td>\n",
       "      <td>...</td>\n",
       "      <td>...</td>\n",
       "    </tr>\n",
       "    <tr>\n",
       "      <th>8518</th>\n",
       "      <td>-0.857200</td>\n",
       "      <td>-0.181193</td>\n",
       "      <td>1.180657</td>\n",
       "      <td>0.349915</td>\n",
       "      <td>0.402815</td>\n",
       "    </tr>\n",
       "    <tr>\n",
       "      <th>8519</th>\n",
       "      <td>-0.590656</td>\n",
       "      <td>-0.371154</td>\n",
       "      <td>-0.526851</td>\n",
       "      <td>-0.956402</td>\n",
       "      <td>0.461578</td>\n",
       "    </tr>\n",
       "    <tr>\n",
       "      <th>8520</th>\n",
       "      <td>-0.200078</td>\n",
       "      <td>-0.599784</td>\n",
       "      <td>-0.897909</td>\n",
       "      <td>-0.579100</td>\n",
       "      <td>-2.300301</td>\n",
       "    </tr>\n",
       "    <tr>\n",
       "      <th>8521</th>\n",
       "      <td>-0.796502</td>\n",
       "      <td>1.532880</td>\n",
       "      <td>-0.608773</td>\n",
       "      <td>-0.196725</td>\n",
       "      <td>0.461578</td>\n",
       "    </tr>\n",
       "    <tr>\n",
       "      <th>8522</th>\n",
       "      <td>0.538856</td>\n",
       "      <td>-0.411936</td>\n",
       "      <td>-1.052115</td>\n",
       "      <td>-0.829594</td>\n",
       "      <td>0.696632</td>\n",
       "    </tr>\n",
       "  </tbody>\n",
       "</table>\n",
       "<p>8523 rows × 5 columns</p>\n",
       "</div>"
      ],
      "text/plain": [
       "     Item_Weight Item_Visibility  Item_MRP Item_Outlet_Sales    Profit\n",
       "0      -0.428795       -0.970732  1.747685          0.910601 -1.125033\n",
       "1      -1.023460       -0.908111 -1.489032         -1.018440  0.520342\n",
       "2       1.013884       -0.956917  0.009657         -0.049238  0.637869\n",
       "3       1.312976       -1.281758  0.660212         -0.849103  0.108998\n",
       "4      -0.493891       -1.281758 -1.399078         -0.695373  0.402815\n",
       "...          ...             ...       ...               ...       ...\n",
       "8518   -0.857200       -0.181193  1.180657          0.349915  0.402815\n",
       "8519   -0.590656       -0.371154 -0.526851         -0.956402  0.461578\n",
       "8520   -0.200078       -0.599784 -0.897909         -0.579100 -2.300301\n",
       "8521   -0.796502        1.532880 -0.608773         -0.196725  0.461578\n",
       "8522    0.538856       -0.411936 -1.052115         -0.829594  0.696632\n",
       "\n",
       "[8523 rows x 5 columns]"
      ]
     },
     "execution_count": 114,
     "metadata": {},
     "output_type": "execute_result"
    }
   ],
   "source": [
    "pd.DataFrame(sc.fit_transform(finalsales[colnames]),columns=[colnames])"
   ]
  },
  {
   "cell_type": "code",
   "execution_count": 115,
   "metadata": {},
   "outputs": [],
   "source": [
    "# Normalization\n",
    "from sklearn.preprocessing import MinMaxScaler\n",
    "minmax = MinMaxScaler()"
   ]
  },
  {
   "cell_type": "code",
   "execution_count": 116,
   "metadata": {},
   "outputs": [
    {
     "data": {
      "text/html": [
       "<div>\n",
       "<style scoped>\n",
       "    .dataframe tbody tr th:only-of-type {\n",
       "        vertical-align: middle;\n",
       "    }\n",
       "\n",
       "    .dataframe tbody tr th {\n",
       "        vertical-align: top;\n",
       "    }\n",
       "\n",
       "    .dataframe thead th {\n",
       "        text-align: right;\n",
       "    }\n",
       "</style>\n",
       "<table border=\"1\" class=\"dataframe\">\n",
       "  <thead>\n",
       "    <tr style=\"text-align: right;\">\n",
       "      <th></th>\n",
       "      <th>0</th>\n",
       "    </tr>\n",
       "  </thead>\n",
       "  <tbody>\n",
       "    <tr>\n",
       "      <th>count</th>\n",
       "      <td>10.000000</td>\n",
       "    </tr>\n",
       "    <tr>\n",
       "      <th>mean</th>\n",
       "      <td>0.574242</td>\n",
       "    </tr>\n",
       "    <tr>\n",
       "      <th>std</th>\n",
       "      <td>0.326721</td>\n",
       "    </tr>\n",
       "    <tr>\n",
       "      <th>min</th>\n",
       "      <td>0.000000</td>\n",
       "    </tr>\n",
       "    <tr>\n",
       "      <th>25%</th>\n",
       "      <td>0.371212</td>\n",
       "    </tr>\n",
       "    <tr>\n",
       "      <th>50%</th>\n",
       "      <td>0.575758</td>\n",
       "    </tr>\n",
       "    <tr>\n",
       "      <th>75%</th>\n",
       "      <td>0.806818</td>\n",
       "    </tr>\n",
       "    <tr>\n",
       "      <th>max</th>\n",
       "      <td>1.000000</td>\n",
       "    </tr>\n",
       "  </tbody>\n",
       "</table>\n",
       "</div>"
      ],
      "text/plain": [
       "               0\n",
       "count  10.000000\n",
       "mean    0.574242\n",
       "std     0.326721\n",
       "min     0.000000\n",
       "25%     0.371212\n",
       "50%     0.575758\n",
       "75%     0.806818\n",
       "max     1.000000"
      ]
     },
     "execution_count": 116,
     "metadata": {},
     "output_type": "execute_result"
    }
   ],
   "source": [
    "pd.DataFrame(minmax.fit_transform(marks)).describe()"
   ]
  },
  {
   "cell_type": "markdown",
   "metadata": {},
   "source": [
    "## Transformation\n",
    "\n",
    "**1. Log Transformation**\n",
    "\n",
    "**2 Exponential Transformation**\n",
    "\n",
    "**3. BoxCox Transformation**\n",
    "\n",
    "**4. Prob Plot to Cross Verify**"
   ]
  },
  {
   "cell_type": "code",
   "execution_count": 117,
   "metadata": {},
   "outputs": [
    {
     "name": "stdout",
     "output_type": "stream",
     "text": [
      "Skewnes before transform  1.1775306028542798\n"
     ]
    }
   ],
   "source": [
    "# Applying log transformation on Item Outlet Sales\n",
    "print('Skewnes before transform ',finalsales.Item_Outlet_Sales.skew())"
   ]
  },
  {
   "cell_type": "code",
   "execution_count": 118,
   "metadata": {},
   "outputs": [
    {
     "name": "stdout",
     "output_type": "stream",
     "text": [
      "Log transform skew  Item_Outlet_Sales   -0.887753\n",
      "dtype: float64\n"
     ]
    }
   ],
   "source": [
    "# Log Transform\n",
    "logtransform=np.log(finalsales.Item_Outlet_Sales)\n",
    "print('Log transform skew ',pd.DataFrame(logtransform).skew())"
   ]
  },
  {
   "cell_type": "code",
   "execution_count": 119,
   "metadata": {},
   "outputs": [],
   "source": [
    "from scipy.stats import probplot"
   ]
  },
  {
   "cell_type": "code",
   "execution_count": 120,
   "metadata": {},
   "outputs": [
    {
     "data": {
      "image/png": "[encoded data removed]",
      "text/plain": [
       "<Figure size 432x288 with 1 Axes>"
      ]
     },
     "metadata": {
      "needs_background": "light"
     },
     "output_type": "display_data"
    }
   ],
   "source": [
    "probplot(finalsales.Item_Outlet_Sales, plot= plt)\n",
    "plt.show()"
   ]
  },
  {
   "cell_type": "code",
   "execution_count": 121,
   "metadata": {},
   "outputs": [
    {
     "data": {
      "image/png": "[encoded data removed]",
      "text/plain": [
       "<Figure size 432x288 with 1 Axes>"
      ]
     },
     "metadata": {
      "needs_background": "light"
     },
     "output_type": "display_data"
    }
   ],
   "source": [
    "probplot(logtransform, plot= plt)\n",
    "plt.show()"
   ]
  },
  {
   "cell_type": "code",
   "execution_count": 122,
   "metadata": {},
   "outputs": [
    {
     "name": "stderr",
     "output_type": "stream",
     "text": [
      "C:\\Users\\Pragyansh\\anaconda3\\lib\\site-packages\\pandas\\core\\series.py:726: RuntimeWarning: overflow encountered in exp\n",
      "  result = getattr(ufunc, method)(*inputs, **kwargs)\n",
      "C:\\Users\\Pragyansh\\anaconda3\\lib\\site-packages\\numpy\\lib\\function_base.py:2474: RuntimeWarning: invalid value encountered in subtract\n",
      "  X -= avg[:, None]\n",
      "C:\\Users\\Pragyansh\\anaconda3\\lib\\site-packages\\matplotlib\\ticker.py:2234: RuntimeWarning: overflow encountered in multiply\n",
      "  steps = self._extended_steps * scale\n"
     ]
    },
    {
     "data": {
      "image/png": "[encoded data removed]",
      "text/plain": [
       "<Figure size 432x288 with 1 Axes>"
      ]
     },
     "metadata": {
      "needs_background": "light"
     },
     "output_type": "display_data"
    }
   ],
   "source": [
    "exptransform=np.exp(finalsales.Item_Outlet_Sales)\n",
    "probplot(exptransform, plot= plt)\n",
    "plt.show()"
   ]
  },
  {
   "cell_type": "code",
   "execution_count": 123,
   "metadata": {},
   "outputs": [],
   "source": [
    "\n",
    "from scipy.stats import boxcox"
   ]
  },
  {
   "cell_type": "code",
   "execution_count": 124,
   "metadata": {},
   "outputs": [],
   "source": [
    "tgt, vals=boxcox(finalsales.Item_Outlet_Sales)"
   ]
  },
  {
   "cell_type": "code",
   "execution_count": 125,
   "metadata": {},
   "outputs": [
    {
     "data": {
      "text/plain": [
       "0   -0.074978\n",
       "dtype: float64"
      ]
     },
     "execution_count": 125,
     "metadata": {},
     "output_type": "execute_result"
    }
   ],
   "source": [
    "pd.DataFrame(tgt).skew()"
   ]
  },
  {
   "cell_type": "code",
   "execution_count": 126,
   "metadata": {},
   "outputs": [
    {
     "data": {
      "image/png": "[encoded data removed]",
      "text/plain": [
       "<Figure size 432x288 with 1 Axes>"
      ]
     },
     "metadata": {
      "needs_background": "light"
     },
     "output_type": "display_data"
    }
   ],
   "source": [
    "probplot(tgt,plot=plt)\n",
    "plt.show()"
   ]
  },
  {
   "cell_type": "markdown",
   "metadata": {},
   "source": [
    "# Day4"
   ]
  },
  {
   "cell_type": "markdown",
   "metadata": {},
   "source": [
    "## Outliers "
   ]
  },
  {
   "cell_type": "code",
   "execution_count": 129,
   "metadata": {},
   "outputs": [
    {
     "data": {
      "image/png": "[encoded data removed]",
      "text/plain": [
       "<Figure size 432x288 with 1 Axes>"
      ]
     },
     "metadata": {
      "needs_background": "light"
     },
     "output_type": "display_data"
    }
   ],
   "source": [
    "sns.boxplot(x=finalsales.Item_Outlet_Sales)\n",
    "plt.show()"
   ]
  },
  {
   "cell_type": "code",
   "execution_count": 141,
   "metadata": {},
   "outputs": [],
   "source": [
    "# Calc Quantiles\n",
    "q1= np.quantile(finalsales.Item_Outlet_Sales, 0.25)\n",
    "q3= np.quantile(finalsales.Item_Outlet_Sales, 0.75)\n",
    "\n",
    "# Inter Quantile Range\n",
    "iqr= q3-q1\n",
    "\n",
    "# Rule - Outlier is any value greater than Q3+1.5*IQR\n",
    "# Rule - Inlier is any value greater than Q3-1.5*IQR"
   ]
  },
  {
   "cell_type": "code",
   "execution_count": 145,
   "metadata": {},
   "outputs": [
    {
     "data": {
      "text/plain": [
       "186"
      ]
     },
     "execution_count": 145,
     "metadata": {},
     "output_type": "execute_result"
    }
   ],
   "source": [
    "finalsales[finalsales.Item_Outlet_Sales>q3+1.5*iqr].shape[0]"
   ]
  },
  {
   "cell_type": "code",
   "execution_count": 148,
   "metadata": {},
   "outputs": [],
   "source": [
    "# Extracting the daataframe with sales having no outliers\n",
    "wt_outliers= finalsales[~(finalsales.Item_Outlet_Sales>q3+1.5*iqr)]"
   ]
  },
  {
   "cell_type": "code",
   "execution_count": 149,
   "metadata": {},
   "outputs": [
    {
     "data": {
      "image/png": "[encoded data removed]",
      "text/plain": [
       "<Figure size 432x288 with 1 Axes>"
      ]
     },
     "metadata": {
      "needs_background": "light"
     },
     "output_type": "display_data"
    }
   ],
   "source": [
    "plt.boxplot(wt_outliers.Item_Outlet_Sales)\n",
    "plt.show()"
   ]
  },
  {
   "cell_type": "code",
   "execution_count": 150,
   "metadata": {},
   "outputs": [
    {
     "data": {
      "image/png": "[encoded data removed]",
      "text/plain": [
       "<Figure size 432x288 with 1 Axes>"
      ]
     },
     "metadata": {
      "needs_background": "light"
     },
     "output_type": "display_data"
    }
   ],
   "source": [
    "plt.boxplot(wt_outliers.Item_Visibility)\n",
    "plt.show()"
   ]
  },
  {
   "cell_type": "code",
   "execution_count": 151,
   "metadata": {},
   "outputs": [
    {
     "data": {
      "image/png": "[encoded data removed]",
      "text/plain": [
       "<Figure size 432x288 with 1 Axes>"
      ]
     },
     "metadata": {
      "needs_background": "light"
     },
     "output_type": "display_data"
    }
   ],
   "source": [
    "plt.boxplot(wt_outliers.Item_Weight)\n",
    "plt.show()"
   ]
  },
  {
   "cell_type": "code",
   "execution_count": 157,
   "metadata": {},
   "outputs": [],
   "source": [
    "Q1=np.quantile(wt_outliers.Item_Visibility,0.25)\n",
    "Q3=np.quantile(wt_outliers.Item_Visibility,0.75)\n",
    "\n",
    "IQR=Q3-Q1\n",
    "\n",
    "wt_outliers=wt_outliers[~(wt_outliers.Item_Visibility>Q3+1.5*IQR)]"
   ]
  },
  {
   "cell_type": "code",
   "execution_count": 158,
   "metadata": {},
   "outputs": [
    {
     "data": {
      "image/png": "[encoded data removed]",
      "text/plain": [
       "<Figure size 432x288 with 1 Axes>"
      ]
     },
     "metadata": {
      "needs_background": "light"
     },
     "output_type": "display_data"
    }
   ],
   "source": [
    "plt.boxplot(wt_outliers.Item_Visibility)\n",
    "plt.show()"
   ]
  },
  {
   "cell_type": "markdown",
   "metadata": {},
   "source": [
    "## If Data have both Inliers and Outliers \n",
    "\n",
    "\n",
    "**finalsales[~((finalsales.Item_Outlet_Sales<q1-1.5*iqr) | (finalsales.Item_Outlet_Sales<q3+1.5*iqr))]**"
   ]
  },
  {
   "cell_type": "markdown",
   "metadata": {},
   "source": [
    "## Outlier removal using standard normal distribution\n",
    "\n",
    "****Rule is that any value or set of values is less than 3 sigma or more than 3 sigma is considered to be an outlier****\n",
    "\n",
    "**1. Apply standard scalar so that we can get the Z score values**\n",
    "\n",
    "**2. Apply the condition of <=3 and >=3 Sigma**\n",
    "\n",
    "**3. Extract the data frame with no lesser outliers**"
   ]
  },
  {
   "cell_type": "code",
   "execution_count": 167,
   "metadata": {},
   "outputs": [],
   "source": [
    "from sklearn.preprocessing import StandardScaler\n",
    "sc= StandardScaler()"
   ]
  },
  {
   "cell_type": "code",
   "execution_count": 169,
   "metadata": {},
   "outputs": [],
   "source": [
    "scale_data=pd.DataFrame(sc.fit_transform(pd.DataFrame(finalsales.Item_Outlet_Sales)), columns=['Item_Outlet_Sales'])"
   ]
  },
  {
   "cell_type": "code",
   "execution_count": 175,
   "metadata": {},
   "outputs": [],
   "source": [
    "df=scale_data[~((scale_data.Item_Outlet_Sales<-3) | (scale_data.Item_Outlet_Sales>3))]"
   ]
  },
  {
   "cell_type": "code",
   "execution_count": 176,
   "metadata": {},
   "outputs": [
    {
     "data": {
      "image/png": "[encoded data removed]",
      "text/plain": [
       "<Figure size 432x288 with 1 Axes>"
      ]
     },
     "metadata": {
      "needs_background": "light"
     },
     "output_type": "display_data"
    }
   ],
   "source": [
    "plt.boxplot(sc.inverse_transform(df))\n",
    "plt.show()"
   ]
  },
  {
   "cell_type": "code",
   "execution_count": 178,
   "metadata": {},
   "outputs": [
    {
     "data": {
      "text/html": [
       "<div>\n",
       "<style scoped>\n",
       "    .dataframe tbody tr th:only-of-type {\n",
       "        vertical-align: middle;\n",
       "    }\n",
       "\n",
       "    .dataframe tbody tr th {\n",
       "        vertical-align: top;\n",
       "    }\n",
       "\n",
       "    .dataframe thead th {\n",
       "        text-align: right;\n",
       "    }\n",
       "</style>\n",
       "<table border=\"1\" class=\"dataframe\">\n",
       "  <thead>\n",
       "    <tr style=\"text-align: right;\">\n",
       "      <th></th>\n",
       "      <th>0</th>\n",
       "    </tr>\n",
       "  </thead>\n",
       "  <tbody>\n",
       "    <tr>\n",
       "      <th>count</th>\n",
       "      <td>8433.000000</td>\n",
       "    </tr>\n",
       "    <tr>\n",
       "      <th>mean</th>\n",
       "      <td>2114.297126</td>\n",
       "    </tr>\n",
       "    <tr>\n",
       "      <th>std</th>\n",
       "      <td>1582.783405</td>\n",
       "    </tr>\n",
       "    <tr>\n",
       "      <th>min</th>\n",
       "      <td>33.290000</td>\n",
       "    </tr>\n",
       "    <tr>\n",
       "      <th>25%</th>\n",
       "      <td>822.263000</td>\n",
       "    </tr>\n",
       "    <tr>\n",
       "      <th>50%</th>\n",
       "      <td>1768.364800</td>\n",
       "    </tr>\n",
       "    <tr>\n",
       "      <th>75%</th>\n",
       "      <td>3056.022000</td>\n",
       "    </tr>\n",
       "    <tr>\n",
       "      <th>max</th>\n",
       "      <td>7298.499600</td>\n",
       "    </tr>\n",
       "  </tbody>\n",
       "</table>\n",
       "</div>"
      ],
      "text/plain": [
       "                 0\n",
       "count  8433.000000\n",
       "mean   2114.297126\n",
       "std    1582.783405\n",
       "min      33.290000\n",
       "25%     822.263000\n",
       "50%    1768.364800\n",
       "75%    3056.022000\n",
       "max    7298.499600"
      ]
     },
     "execution_count": 178,
     "metadata": {},
     "output_type": "execute_result"
    }
   ],
   "source": [
    "pd.DataFrame(sc.inverse_transform(df)).describe()"
   ]
  },
  {
   "cell_type": "code",
   "execution_count": 179,
   "metadata": {},
   "outputs": [],
   "source": [
    "from sklearn.model_selection import train_test_split "
   ]
  },
  {
   "cell_type": "code",
   "execution_count": 181,
   "metadata": {},
   "outputs": [],
   "source": [
    "x = finalsales.drop('Item_Outlet_Sales',axis=1)\n",
    "y = finalsales.Item_Outlet_Sales\n",
    "\n",
    "xtrain, xtest, ytrain, ytest = train_test_split(x,y, test_size= 0.20)"
   ]
  },
  {
   "cell_type": "code",
   "execution_count": null,
   "metadata": {},
   "outputs": [],
   "source": []
  }
 ],
 "metadata": {
  "kernelspec": {
   "display_name": "Python 3",
   "language": "python",
   "name": "python3"
  },
  "language_info": {
   "codemirror_mode": {
    "name": "ipython",
    "version": 3
   },
   "file_extension": ".py",
   "mimetype": "text/x-python",
   "name": "python",
   "nbconvert_exporter": "python",
   "pygments_lexer": "ipython3",
   "version": "3.8.5"
  }
 },
 "nbformat": 4,
 "nbformat_minor": 4
}
